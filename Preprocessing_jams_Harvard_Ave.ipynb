{
 "cells": [
  {
   "cell_type": "code",
   "execution_count": 1,
   "metadata": {
    "collapsed": true
   },
   "outputs": [],
   "source": [
    "data_folder = '/home/jzh/Waze/'"
   ]
  },
  {
   "cell_type": "code",
   "execution_count": 2,
   "metadata": {
    "collapsed": true
   },
   "outputs": [],
   "source": [
    "import csv"
   ]
  },
  {
   "cell_type": "code",
   "execution_count": 21,
   "metadata": {
    "collapsed": false
   },
   "outputs": [
    {
     "name": "stdout",
     "output_type": "stream",
     "text": [
      "('Harvard Ave', 'Cambridge St', '6', '2.81805679880163800', '86', '499', '2015-03-27 01:33:00.000', '1427419980000', '1427420040000')\n",
      "('Harvard Ave', 'Cambridge St', '6', '2.25382496330031360', '129', '500', '2015-03-27 04:12:00.000', '1427429520000', '1427429580000')\n",
      "('Harvard Ave', 'Cambridge St', '6', '2.41380049672875200', '116', '499', '2015-03-27 01:23:00.000', '1427419380000', '1427419440000')\n",
      "('Harvard Ave', 'Cambridge St', '6', '1.76958018504943970', '193', '508', '2015-03-27 17:32:00.000', '1427477520000', '1427477580000')\n",
      "('Harvard Ave', 'Cambridge St', '6', '2.30484679758034900', '126', '508', '2015-03-27 17:54:00.000', '1427478840000', '1427478900000')\n",
      "('Harvard Ave', 'Cambridge St', '6', '3.20721856696729950', '82', '596', '2015-03-27 22:19:00.000', '1427494740000', '1427494800000')\n",
      "('Harvard Ave', 'Cambridge St', '6', '1.43555000920114730', '260', '508', '2015-03-27 23:05:00.000', '1427497500000', '1427497560000')\n",
      "('Harvard Ave', 'Cambridge St', '6', '2.91566999490277160', '80', '499', '2015-03-27 19:56:00.000', '1427486160000', '1427486220000')\n",
      "8\n"
     ]
    }
   ],
   "source": [
    "with open(data_folder + 'raw_data/waze_jams.csv', 'rb') as csvfile:\n",
    "    reader = csv.DictReader(csvfile)\n",
    "    i = 0\n",
    "    for row in reader:\n",
    "#         print(row.keys())\n",
    "        # print(row['street'])\n",
    "        if ((row['street'] == 'Harvard Ave') \\\n",
    "            and (row['endNode'] == 'Cambridge St')\n",
    "            and (('2015-03-27' in row['startTime']))):\n",
    "#             and (('2015-03-28' in row['startTime']) or ('2015-03-29' in row['startTime']))):\n",
    "#             print(row['uuid'], row['street'], row['endNode'], row['roadType'], row['speed'], row['delay'], row['Length'], \n",
    "#                   row['startTime'], row['endTime'], row['\\xef\\xbb\\xbfinject_date'])\n",
    "            print(row['street'], row['endNode'], row['roadType'], row['speed'], \\\n",
    "                  row['delay'], row['Length'], \\\n",
    "                  row['startTime'], row['startTimeMillis'], row['endTimeMillis'])\n",
    "            i += 1\n",
    "#         if i > 0:\n",
    "#             break\n",
    "print(i)"
   ]
  },
  {
   "cell_type": "code",
   "execution_count": null,
   "metadata": {
    "collapsed": true
   },
   "outputs": [],
   "source": []
  }
 ],
 "metadata": {
  "kernelspec": {
   "display_name": "Python 2",
   "language": "python",
   "name": "python2"
  },
  "language_info": {
   "codemirror_mode": {
    "name": "ipython",
    "version": 2
   },
   "file_extension": ".py",
   "mimetype": "text/x-python",
   "name": "python",
   "nbconvert_exporter": "python",
   "pygments_lexer": "ipython2",
   "version": "2.7.11"
  }
 },
 "nbformat": 4,
 "nbformat_minor": 0
}
