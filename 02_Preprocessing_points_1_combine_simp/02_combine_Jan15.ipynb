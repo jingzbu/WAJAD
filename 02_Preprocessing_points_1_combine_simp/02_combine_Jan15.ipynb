{
 "cells": [
  {
   "cell_type": "code",
   "execution_count": 1,
   "metadata": {
    "collapsed": true
   },
   "outputs": [],
   "source": [
    "data_folder = '/home/jzh/Waze/'"
   ]
  },
  {
   "cell_type": "code",
   "execution_count": 2,
   "metadata": {
    "collapsed": true
   },
   "outputs": [],
   "source": [
    "import json"
   ]
  },
  {
   "cell_type": "code",
   "execution_count": 3,
   "metadata": {
    "collapsed": true
   },
   "outputs": [],
   "source": [
    "# Loading JSON data\n",
    "with open(data_folder + '/uuid_list_Jan15.json', 'r') as json_file:\n",
    "    uuid_list_Jan15 = json.load(json_file)\n",
    "\n",
    "with open(data_folder + '/x_list_Jan15.json', 'r') as json_file:\n",
    "    x_list_Jan15 = json.load(json_file)\n",
    "    \n",
    "with open(data_folder + '/y_list_Jan15.json', 'r') as json_file:\n",
    "    y_list_Jan15 = json.load(json_file)"
   ]
  },
  {
   "cell_type": "code",
   "execution_count": 4,
   "metadata": {
    "collapsed": false
   },
   "outputs": [],
   "source": [
    "assert(len(uuid_list_Jan15) == len(x_list_Jan15))\n",
    "assert(len(uuid_list_Jan15) == len(y_list_Jan15))"
   ]
  },
  {
   "cell_type": "code",
   "execution_count": 5,
   "metadata": {
    "collapsed": false
   },
   "outputs": [
    {
     "data": {
      "text/plain": [
       "[u'bded01fc-79d7-326c-aed8-3f004f13a11c',\n",
       " u'bded01fc-79d7-326c-aed8-3f004f13a11c',\n",
       " u'bded01fc-79d7-326c-aed8-3f004f13a11c',\n",
       " u'bded01fc-79d7-326c-aed8-3f004f13a11c',\n",
       " u'bded01fc-79d7-326c-aed8-3f004f13a11c',\n",
       " u'bded01fc-79d7-326c-aed8-3f004f13a11c',\n",
       " u'bded01fc-79d7-326c-aed8-3f004f13a11c',\n",
       " u'bded01fc-79d7-326c-aed8-3f004f13a11c',\n",
       " u'bded01fc-79d7-326c-aed8-3f004f13a11c',\n",
       " u'bded01fc-79d7-326c-aed8-3f004f13a11c',\n",
       " u'bded01fc-79d7-326c-aed8-3f004f13a11c',\n",
       " u'a88eb393-e5fb-34b7-ba60-6f93811cd5e2',\n",
       " u'a88eb393-e5fb-34b7-ba60-6f93811cd5e2',\n",
       " u'a88eb393-e5fb-34b7-ba60-6f93811cd5e2',\n",
       " u'a88eb393-e5fb-34b7-ba60-6f93811cd5e2',\n",
       " u'a88eb393-e5fb-34b7-ba60-6f93811cd5e2',\n",
       " u'a88eb393-e5fb-34b7-ba60-6f93811cd5e2',\n",
       " u'a88eb393-e5fb-34b7-ba60-6f93811cd5e2',\n",
       " u'a88eb393-e5fb-34b7-ba60-6f93811cd5e2',\n",
       " u'a88eb393-e5fb-34b7-ba60-6f93811cd5e2',\n",
       " u'a88eb393-e5fb-34b7-ba60-6f93811cd5e2',\n",
       " u'a88eb393-e5fb-34b7-ba60-6f93811cd5e2',\n",
       " u'a88eb393-e5fb-34b7-ba60-6f93811cd5e2',\n",
       " u'b579d270-f917-357a-a99c-cb26d8893a7a',\n",
       " u'b579d270-f917-357a-a99c-cb26d8893a7a',\n",
       " u'b579d270-f917-357a-a99c-cb26d8893a7a',\n",
       " u'b579d270-f917-357a-a99c-cb26d8893a7a',\n",
       " u'b579d270-f917-357a-a99c-cb26d8893a7a',\n",
       " u'b579d270-f917-357a-a99c-cb26d8893a7a',\n",
       " u'b579d270-f917-357a-a99c-cb26d8893a7a']"
      ]
     },
     "execution_count": 5,
     "metadata": {},
     "output_type": "execute_result"
    }
   ],
   "source": [
    "uuid_list_Jan15[0:30]"
   ]
  },
  {
   "cell_type": "code",
   "execution_count": 6,
   "metadata": {
    "collapsed": false
   },
   "outputs": [],
   "source": [
    "idx_list = []  # index list for the \"turning points;\" note that a uuid correspond to many points\n",
    "\n",
    "L = len(uuid_list_Jan15)  # number of points\n",
    "\n",
    "for i in range(L-1):\n",
    "    if uuid_list_Jan15[i+1] != uuid_list_Jan15[i]:\n",
    "        idx_list.append(i)\n",
    "#     if len(idx_list) > 2:\n",
    "#         break    "
   ]
  },
  {
   "cell_type": "code",
   "execution_count": 7,
   "metadata": {
    "collapsed": false
   },
   "outputs": [
    {
     "data": {
      "text/plain": [
       "(308124, 4708087)"
      ]
     },
     "execution_count": 7,
     "metadata": {},
     "output_type": "execute_result"
    }
   ],
   "source": [
    "len(idx_list), L"
   ]
  },
  {
   "cell_type": "code",
   "execution_count": 8,
   "metadata": {
    "collapsed": false
   },
   "outputs": [],
   "source": [
    "import numpy as np\n",
    "\n",
    "points_dict_Jan15 = {}\n",
    "\n",
    "len_idx_list = len(idx_list)\n",
    "for i in range(len_idx_list):\n",
    "    x_y_mima_list = []\n",
    "    if i == 0:\n",
    "        endPts = []\n",
    "        miX = min([float(x_list_Jan15[j]) for j in range(idx_list[i] + 1)])\n",
    "        maX = max([float(x_list_Jan15[j]) for j in range(idx_list[i] + 1)])\n",
    "        miY = min([float(y_list_Jan15[j]) for j in range(idx_list[i] + 1)])\n",
    "        maY = max([float(y_list_Jan15[j]) for j in range(idx_list[i] + 1)])\n",
    "        endPts.append([miX, miY])\n",
    "        endPts.append([miX, maY])\n",
    "        endPts.append([maX, miY])\n",
    "        endPts.append([maX, maY])\n",
    "        x_y_mima_list.append(endPts)\n",
    "        x_y_mima_list.append(len(range(idx_list[i] + 1)))\n",
    "    else:\n",
    "        endPts = []\n",
    "        miX = min([float(x_list_Jan15[j]) for j in range(idx_list[i-1] + 1, idx_list[i] + 1)])\n",
    "        maX = max([float(x_list_Jan15[j]) for j in range(idx_list[i-1] + 1, idx_list[i] + 1)])\n",
    "        miY = min([float(y_list_Jan15[j]) for j in range(idx_list[i-1] + 1, idx_list[i] + 1)])\n",
    "        maY = max([float(y_list_Jan15[j]) for j in range(idx_list[i-1] + 1, idx_list[i] + 1)])\n",
    "        endPts.append([miX, miY])\n",
    "        endPts.append([miX, maY])\n",
    "        endPts.append([maX, miY])\n",
    "        endPts.append([maX, maY])\n",
    "        x_y_mima_list.append(endPts)\n",
    "        x_y_mima_list.append(len(range(idx_list[i-1] + 1, idx_list[i] + 1)))\n",
    "    points_dict_Jan15[uuid_list_Jan15[idx_list[i]]] = x_y_mima_list\n",
    "#     if i > 3:\n",
    "#         break\n",
    "with open(data_folder + '/points_dict_Jan15.json', 'w') as json_file:\n",
    "    json.dump(points_dict_Jan15, json_file)"
   ]
  },
  {
   "cell_type": "code",
   "execution_count": null,
   "metadata": {
    "collapsed": true
   },
   "outputs": [],
   "source": []
  }
 ],
 "metadata": {
  "kernelspec": {
   "display_name": "Python 2",
   "language": "python",
   "name": "python2"
  },
  "language_info": {
   "codemirror_mode": {
    "name": "ipython",
    "version": 2
   },
   "file_extension": ".py",
   "mimetype": "text/x-python",
   "name": "python",
   "nbconvert_exporter": "python",
   "pygments_lexer": "ipython2",
   "version": "2.7.11"
  }
 },
 "nbformat": 4,
 "nbformat_minor": 0
}
