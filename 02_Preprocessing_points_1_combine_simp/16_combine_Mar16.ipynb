{
 "cells": [
  {
   "cell_type": "code",
   "execution_count": 1,
   "metadata": {
    "collapsed": true
   },
   "outputs": [],
   "source": [
    "data_folder = '/home/jzh/Waze/'"
   ]
  },
  {
   "cell_type": "code",
   "execution_count": 2,
   "metadata": {
    "collapsed": true
   },
   "outputs": [],
   "source": [
    "import json"
   ]
  },
  {
   "cell_type": "code",
   "execution_count": 3,
   "metadata": {
    "collapsed": false
   },
   "outputs": [],
   "source": [
    "# Loading JSON data\n",
    "with open(data_folder + '/uuid_list_Mar16.json', 'r') as json_file:\n",
    "    uuid_list_Mar16 = json.load(json_file)\n",
    "\n",
    "with open(data_folder + '/x_list_Mar16.json', 'r') as json_file:\n",
    "    x_list_Mar16 = json.load(json_file)\n",
    "    \n",
    "with open(data_folder + '/y_list_Mar16.json', 'r') as json_file:\n",
    "    y_list_Mar16 = json.load(json_file)"
   ]
  },
  {
   "cell_type": "code",
   "execution_count": 4,
   "metadata": {
    "collapsed": false
   },
   "outputs": [],
   "source": [
    "assert(len(uuid_list_Mar16) == len(x_list_Mar16))\n",
    "assert(len(uuid_list_Mar16) == len(y_list_Mar16))"
   ]
  },
  {
   "cell_type": "code",
   "execution_count": 5,
   "metadata": {
    "collapsed": false
   },
   "outputs": [
    {
     "data": {
      "text/plain": [
       "[u'14875b14-8e84-373f-a0cd-5cb38b56055d',\n",
       " u'14875b14-8e84-373f-a0cd-5cb38b56055d',\n",
       " u'14875b14-8e84-373f-a0cd-5cb38b56055d',\n",
       " u'14875b14-8e84-373f-a0cd-5cb38b56055d',\n",
       " u'14875b14-8e84-373f-a0cd-5cb38b56055d',\n",
       " u'14875b14-8e84-373f-a0cd-5cb38b56055d',\n",
       " u'14875b14-8e84-373f-a0cd-5cb38b56055d',\n",
       " u'14875b14-8e84-373f-a0cd-5cb38b56055d',\n",
       " u'14875b14-8e84-373f-a0cd-5cb38b56055d',\n",
       " u'd012bba5-b5e0-3fd9-a3d0-591c33c2b57e',\n",
       " u'd012bba5-b5e0-3fd9-a3d0-591c33c2b57e',\n",
       " u'd012bba5-b5e0-3fd9-a3d0-591c33c2b57e',\n",
       " u'd012bba5-b5e0-3fd9-a3d0-591c33c2b57e',\n",
       " u'd012bba5-b5e0-3fd9-a3d0-591c33c2b57e',\n",
       " u'd012bba5-b5e0-3fd9-a3d0-591c33c2b57e',\n",
       " u'd012bba5-b5e0-3fd9-a3d0-591c33c2b57e',\n",
       " u'd012bba5-b5e0-3fd9-a3d0-591c33c2b57e',\n",
       " u'd012bba5-b5e0-3fd9-a3d0-591c33c2b57e',\n",
       " u'd012bba5-b5e0-3fd9-a3d0-591c33c2b57e',\n",
       " u'd012bba5-b5e0-3fd9-a3d0-591c33c2b57e',\n",
       " u'd012bba5-b5e0-3fd9-a3d0-591c33c2b57e',\n",
       " u'd012bba5-b5e0-3fd9-a3d0-591c33c2b57e',\n",
       " u'c498af54-e6e1-332d-9866-d4f763a663eb',\n",
       " u'c498af54-e6e1-332d-9866-d4f763a663eb',\n",
       " u'c498af54-e6e1-332d-9866-d4f763a663eb',\n",
       " u'c498af54-e6e1-332d-9866-d4f763a663eb',\n",
       " u'c498af54-e6e1-332d-9866-d4f763a663eb',\n",
       " u'c498af54-e6e1-332d-9866-d4f763a663eb',\n",
       " u'c498af54-e6e1-332d-9866-d4f763a663eb',\n",
       " u'c498af54-e6e1-332d-9866-d4f763a663eb']"
      ]
     },
     "execution_count": 5,
     "metadata": {},
     "output_type": "execute_result"
    }
   ],
   "source": [
    "uuid_list_Mar16[0:30]"
   ]
  },
  {
   "cell_type": "code",
   "execution_count": 6,
   "metadata": {
    "collapsed": false
   },
   "outputs": [],
   "source": [
    "idx_list = []  # index list for the \"turning points;\" note that a uuid correspond to many points\n",
    "\n",
    "L = len(uuid_list_Mar16)  # number of points\n",
    "\n",
    "for i in range(L-1):\n",
    "    if uuid_list_Mar16[i+1] != uuid_list_Mar16[i]:\n",
    "        idx_list.append(i)\n",
    "#     if len(idx_list) > 2:\n",
    "#         break    "
   ]
  },
  {
   "cell_type": "code",
   "execution_count": 7,
   "metadata": {
    "collapsed": false
   },
   "outputs": [
    {
     "data": {
      "text/plain": [
       "(342067, 3331454)"
      ]
     },
     "execution_count": 7,
     "metadata": {},
     "output_type": "execute_result"
    }
   ],
   "source": [
    "len(idx_list), L"
   ]
  },
  {
   "cell_type": "code",
   "execution_count": 8,
   "metadata": {
    "collapsed": false
   },
   "outputs": [],
   "source": [
    "import numpy as np\n",
    "\n",
    "points_dict_Mar16 = {}\n",
    "\n",
    "len_idx_list = len(idx_list)\n",
    "for i in range(len_idx_list):\n",
    "    x_y_mima_list = []\n",
    "    if i == 0:\n",
    "        endPts = []\n",
    "        miX = min([float(x_list_Mar16[j]) for j in range(idx_list[i] + 1)])\n",
    "        maX = max([float(x_list_Mar16[j]) for j in range(idx_list[i] + 1)])\n",
    "        miY = min([float(y_list_Mar16[j]) for j in range(idx_list[i] + 1)])\n",
    "        maY = max([float(y_list_Mar16[j]) for j in range(idx_list[i] + 1)])\n",
    "        endPts.append([miX, miY])\n",
    "        endPts.append([miX, maY])\n",
    "        endPts.append([maX, miY])\n",
    "        endPts.append([maX, maY])\n",
    "        x_y_mima_list.append(endPts)\n",
    "        x_y_mima_list.append(len(range(idx_list[i] + 1)))\n",
    "    else:\n",
    "        endPts = []\n",
    "        miX = min([float(x_list_Mar16[j]) for j in range(idx_list[i-1] + 1, idx_list[i] + 1)])\n",
    "        maX = max([float(x_list_Mar16[j]) for j in range(idx_list[i-1] + 1, idx_list[i] + 1)])\n",
    "        miY = min([float(y_list_Mar16[j]) for j in range(idx_list[i-1] + 1, idx_list[i] + 1)])\n",
    "        maY = max([float(y_list_Mar16[j]) for j in range(idx_list[i-1] + 1, idx_list[i] + 1)])\n",
    "        endPts.append([miX, miY])\n",
    "        endPts.append([miX, maY])\n",
    "        endPts.append([maX, miY])\n",
    "        endPts.append([maX, maY])\n",
    "        x_y_mima_list.append(endPts)\n",
    "        x_y_mima_list.append(len(range(idx_list[i-1] + 1, idx_list[i] + 1)))\n",
    "    points_dict_Mar16[uuid_list_Mar16[idx_list[i]]] = x_y_mima_list\n",
    "#     if i > 3:\n",
    "#         break\n",
    "with open(data_folder + '/points_dict_Mar16.json', 'w') as json_file:\n",
    "    json.dump(points_dict_Mar16, json_file)"
   ]
  }
 ],
 "metadata": {
  "kernelspec": {
   "display_name": "Python 2",
   "language": "python",
   "name": "python2"
  },
  "language_info": {
   "codemirror_mode": {
    "name": "ipython",
    "version": 2
   },
   "file_extension": ".py",
   "mimetype": "text/x-python",
   "name": "python",
   "nbconvert_exporter": "python",
   "pygments_lexer": "ipython2",
   "version": "2.7.12"
  }
 },
 "nbformat": 4,
 "nbformat_minor": 0
}
