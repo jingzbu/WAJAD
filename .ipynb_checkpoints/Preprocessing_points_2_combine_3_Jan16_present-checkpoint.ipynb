{
 "cells": [
  {
   "cell_type": "code",
   "execution_count": 1,
   "metadata": {
    "collapsed": true
   },
   "outputs": [],
   "source": [
    "data_folder = '/home/jzh/Waze/'"
   ]
  },
  {
   "cell_type": "code",
   "execution_count": 2,
   "metadata": {
    "collapsed": true
   },
   "outputs": [],
   "source": [
    "import json"
   ]
  },
  {
   "cell_type": "code",
   "execution_count": 3,
   "metadata": {
    "collapsed": true
   },
   "outputs": [],
   "source": [
    "# Loading JSON data\n",
    "with open(data_folder + '/uuid_list_Jan16_present.json', 'r') as json_file:\n",
    "    uuid_list_Jan16_present = json.load(json_file)\n",
    "\n",
    "with open(data_folder + '/x_list_Jan16_present.json', 'r') as json_file:\n",
    "    x_list_Jan16_present = json.load(json_file)\n",
    "    \n",
    "with open(data_folder + '/y_list_Jan16_present.json', 'r') as json_file:\n",
    "    y_list_Jan16_present = json.load(json_file)"
   ]
  },
  {
   "cell_type": "code",
   "execution_count": 4,
   "metadata": {
    "collapsed": true
   },
   "outputs": [],
   "source": [
    "assert(len(uuid_list_Jan16_present) == len(x_list_Jan16_present))\n",
    "assert(len(uuid_list_Jan16_present) == len(y_list_Jan16_present))"
   ]
  },
  {
   "cell_type": "code",
   "execution_count": 5,
   "metadata": {
    "collapsed": false
   },
   "outputs": [
    {
     "data": {
      "text/plain": [
       "[u'e8719565-0af4-33da-bdbe-1d87fafcc2bc',\n",
       " u'e8719565-0af4-33da-bdbe-1d87fafcc2bc',\n",
       " u'e8719565-0af4-33da-bdbe-1d87fafcc2bc',\n",
       " u'e8719565-0af4-33da-bdbe-1d87fafcc2bc',\n",
       " u'e8719565-0af4-33da-bdbe-1d87fafcc2bc',\n",
       " u'e8719565-0af4-33da-bdbe-1d87fafcc2bc',\n",
       " u'1f24a035-717c-340c-ad54-d05b99cba1f0',\n",
       " u'1f24a035-717c-340c-ad54-d05b99cba1f0',\n",
       " u'1f24a035-717c-340c-ad54-d05b99cba1f0',\n",
       " u'1f24a035-717c-340c-ad54-d05b99cba1f0',\n",
       " u'1f24a035-717c-340c-ad54-d05b99cba1f0',\n",
       " u'1f24a035-717c-340c-ad54-d05b99cba1f0',\n",
       " u'1f24a035-717c-340c-ad54-d05b99cba1f0',\n",
       " u'1f24a035-717c-340c-ad54-d05b99cba1f0',\n",
       " u'1f24a035-717c-340c-ad54-d05b99cba1f0',\n",
       " u'1f24a035-717c-340c-ad54-d05b99cba1f0',\n",
       " u'1f24a035-717c-340c-ad54-d05b99cba1f0',\n",
       " u'1f24a035-717c-340c-ad54-d05b99cba1f0',\n",
       " u'1f24a035-717c-340c-ad54-d05b99cba1f0',\n",
       " u'1f24a035-717c-340c-ad54-d05b99cba1f0',\n",
       " u'1f24a035-717c-340c-ad54-d05b99cba1f0',\n",
       " u'1f24a035-717c-340c-ad54-d05b99cba1f0',\n",
       " u'1f24a035-717c-340c-ad54-d05b99cba1f0',\n",
       " u'1f24a035-717c-340c-ad54-d05b99cba1f0',\n",
       " u'1f24a035-717c-340c-ad54-d05b99cba1f0',\n",
       " u'67cf2f62-0168-373d-9926-dc2db73a9214',\n",
       " u'67cf2f62-0168-373d-9926-dc2db73a9214',\n",
       " u'67cf2f62-0168-373d-9926-dc2db73a9214',\n",
       " u'67cf2f62-0168-373d-9926-dc2db73a9214',\n",
       " u'67cf2f62-0168-373d-9926-dc2db73a9214',\n",
       " u'67cf2f62-0168-373d-9926-dc2db73a9214',\n",
       " u'67cf2f62-0168-373d-9926-dc2db73a9214',\n",
       " u'67cf2f62-0168-373d-9926-dc2db73a9214',\n",
       " u'67cf2f62-0168-373d-9926-dc2db73a9214',\n",
       " u'67cf2f62-0168-373d-9926-dc2db73a9214',\n",
       " u'67cf2f62-0168-373d-9926-dc2db73a9214',\n",
       " u'67cf2f62-0168-373d-9926-dc2db73a9214',\n",
       " u'67cf2f62-0168-373d-9926-dc2db73a9214',\n",
       " u'67cf2f62-0168-373d-9926-dc2db73a9214',\n",
       " u'67cf2f62-0168-373d-9926-dc2db73a9214',\n",
       " u'67cf2f62-0168-373d-9926-dc2db73a9214',\n",
       " u'67cf2f62-0168-373d-9926-dc2db73a9214',\n",
       " u'cec2ad22-032c-37de-aac1-6b23f8739500',\n",
       " u'cec2ad22-032c-37de-aac1-6b23f8739500',\n",
       " u'cec2ad22-032c-37de-aac1-6b23f8739500',\n",
       " u'cec2ad22-032c-37de-aac1-6b23f8739500',\n",
       " u'cec2ad22-032c-37de-aac1-6b23f8739500',\n",
       " u'cec2ad22-032c-37de-aac1-6b23f8739500',\n",
       " u'cec2ad22-032c-37de-aac1-6b23f8739500',\n",
       " u'cec2ad22-032c-37de-aac1-6b23f8739500']"
      ]
     },
     "execution_count": 5,
     "metadata": {},
     "output_type": "execute_result"
    }
   ],
   "source": [
    "uuid_list_Jan16_present[0:50]"
   ]
  },
  {
   "cell_type": "code",
   "execution_count": 6,
   "metadata": {
    "collapsed": true
   },
   "outputs": [],
   "source": [
    "idx_list = []  # index list for the \"turning points;\" note that a uuid correspond to many points\n",
    "\n",
    "L = len(uuid_list_Jan16_present)  # number of points\n",
    "\n",
    "for i in range(L-1):\n",
    "    if uuid_list_Jan16_present[i+1] != uuid_list_Jan16_present[i]:\n",
    "        idx_list.append(i)\n",
    "#     if len(idx_list) > 2:\n",
    "#         break    "
   ]
  },
  {
   "cell_type": "code",
   "execution_count": 7,
   "metadata": {
    "collapsed": false
   },
   "outputs": [
    {
     "data": {
      "text/plain": [
       "(1458192, 13872534)"
      ]
     },
     "execution_count": 7,
     "metadata": {},
     "output_type": "execute_result"
    }
   ],
   "source": [
    "len(idx_list), L"
   ]
  },
  {
   "cell_type": "code",
   "execution_count": 8,
   "metadata": {
    "collapsed": false
   },
   "outputs": [
    {
     "data": {
      "text/plain": [
       "[5, 24, 41, 51, 58, 74, 85, 87, 91, 96, 105, 124, 140, 151, 170]"
      ]
     },
     "execution_count": 8,
     "metadata": {},
     "output_type": "execute_result"
    }
   ],
   "source": [
    "idx_list[0:15]"
   ]
  },
  {
   "cell_type": "code",
   "execution_count": 9,
   "metadata": {
    "collapsed": true
   },
   "outputs": [],
   "source": [
    "points_dict__Jan16_present = {}\n",
    "\n",
    "x_y_min_max_list = []\n",
    "x_y_min_max_list.append(min([float(x_list_Jan16_present[j]) for j in range(10+1)]))\n",
    "x_y_min_max_list.append(max([float(x_list_Jan16_present[j]) for j in range(10+1)]))\n",
    "x_y_min_max_list.append(min([float(y_list_Jan16_present[j]) for j in range(10+1)]))\n",
    "x_y_min_max_list.append(max([float(y_list_Jan16_present[j]) for j in range(10+1)]))\n",
    "\n",
    "points_dict__Jan16_present[uuid_list_Jan16_present[10]] = x_y_min_max_list\n",
    "\n",
    "len_idx_list = len(idx_list)\n",
    "for i in range(len_idx_list):\n",
    "    x_y_min_max_list = []\n",
    "    if i == 0:\n",
    "        x_y_min_max_list.append(min([float(x_list_Jan16_present[j]) for j in range(idx_list[i] + 1)]))\n",
    "        x_y_min_max_list.append(max([float(x_list_Jan16_present[j]) for j in range(idx_list[i] + 1)]))\n",
    "        x_y_min_max_list.append(min([float(y_list_Jan16_present[j]) for j in range(idx_list[i] + 1)]))\n",
    "        x_y_min_max_list.append(max([float(y_list_Jan16_present[j]) for j in range(idx_list[i] + 1)]))\n",
    "    else:\n",
    "        x_y_min_max_list.append(min([float(x_list_Jan16_present[j]) for j in range(idx_list[i-1] + 1, idx_list[i] + 1)]))\n",
    "        x_y_min_max_list.append(max([float(x_list_Jan16_present[j]) for j in range(idx_list[i-1] + 1, idx_list[i] + 1)]))\n",
    "        x_y_min_max_list.append(min([float(y_list_Jan16_present[j]) for j in range(idx_list[i-1] + 1, idx_list[i] + 1)]))\n",
    "        x_y_min_max_list.append(max([float(y_list_Jan16_present[j]) for j in range(idx_list[i-1] + 1, idx_list[i] + 1)]))\n",
    "    points_dict__Jan16_present[uuid_list_Jan16_present[idx_list[i]]] = x_y_min_max_list\n",
    "#     if i > 3:\n",
    "#         break\n",
    "with open(data_folder + '/points_dict__Jan16_present.json', 'w') as json_file:\n",
    "    json.dump(points_dict__Jan16_present, json_file)"
   ]
  },
  {
   "cell_type": "code",
   "execution_count": 10,
   "metadata": {
    "collapsed": true
   },
   "outputs": [],
   "source": [
    "points_dict__Jan16_present = {}\n",
    "\n",
    "x_y_min_max_list = []\n",
    "x_y_min_max_list.append(min([float(x_list_Jan16_present[j]) for j in range(10+1)]))\n",
    "x_y_min_max_list.append(max([float(x_list_Jan16_present[j]) for j in range(10+1)]))\n",
    "x_y_min_max_list.append(min([float(y_list_Jan16_present[j]) for j in range(10+1)]))\n",
    "x_y_min_max_list.append(max([float(y_list_Jan16_present[j]) for j in range(10+1)]))\n",
    "\n",
    "points_dict__Jan16_present[uuid_list_Jan16_present[10]] = x_y_min_max_list\n",
    "\n",
    "len_idx_list = len(idx_list)\n",
    "for i in range(len_idx_list):\n",
    "    x_y_min_max_list = []\n",
    "    if i == 0:\n",
    "        x_y_min_max_list.append(min([float(x_list_Jan16_present[j]) for j in range(idx_list[i] + 1)]))\n",
    "        x_y_min_max_list.append(max([float(x_list_Jan16_present[j]) for j in range(idx_list[i] + 1)]))\n",
    "        x_y_min_max_list.append(min([float(y_list_Jan16_present[j]) for j in range(idx_list[i] + 1)]))\n",
    "        x_y_min_max_list.append(max([float(y_list_Jan16_present[j]) for j in range(idx_list[i] + 1)]))\n",
    "    else:\n",
    "        x_y_min_max_list.append(min([float(x_list_Jan16_present[j]) for j in range(idx_list[i-1] + 1, idx_list[i] + 1)]))\n",
    "        x_y_min_max_list.append(max([float(x_list_Jan16_present[j]) for j in range(idx_list[i-1] + 1, idx_list[i] + 1)]))\n",
    "        x_y_min_max_list.append(min([float(y_list_Jan16_present[j]) for j in range(idx_list[i-1] + 1, idx_list[i] + 1)]))\n",
    "        x_y_min_max_list.append(max([float(y_list_Jan16_present[j]) for j in range(idx_list[i-1] + 1, idx_list[i] + 1)]))\n",
    "    points_dict__Jan16_present[uuid_list_Jan16_present[idx_list[i]]] = x_y_min_max_list\n",
    "    if i > 3:\n",
    "        break"
   ]
  },
  {
   "cell_type": "code",
   "execution_count": 11,
   "metadata": {
    "collapsed": false
   },
   "outputs": [
    {
     "data": {
      "text/plain": [
       "{u'1f24a035-717c-340c-ad54-d05b99cba1f0': [-71.106603,\n",
       "  -71.098965,\n",
       "  42.307364,\n",
       "  42.315123],\n",
       " u'67cf2f62-0168-373d-9926-dc2db73a9214': [-71.131201,\n",
       "  -71.124136,\n",
       "  42.283599,\n",
       "  42.290198],\n",
       " u'cec2ad22-032c-37de-aac1-6b23f8739500': [-71.116216,\n",
       "  -71.112267,\n",
       "  42.296068,\n",
       "  42.301595],\n",
       " u'e8719565-0af4-33da-bdbe-1d87fafcc2bc': [-71.089823,\n",
       "  -71.087627,\n",
       "  42.270081,\n",
       "  42.270244],\n",
       " u'f015315d-1b92-3167-9e66-8fe6869452ed': [-71.134421,\n",
       "  -71.13019,\n",
       "  42.352781,\n",
       "  42.353364]}"
      ]
     },
     "execution_count": 11,
     "metadata": {},
     "output_type": "execute_result"
    }
   ],
   "source": [
    "points_dict__Jan16_present"
   ]
  },
  {
   "cell_type": "code",
   "execution_count": 15,
   "metadata": {
    "collapsed": false
   },
   "outputs": [
    {
     "data": {
      "text/plain": [
       "([u'cec2ad22-032c-37de-aac1-6b23f8739500',\n",
       "  u'cec2ad22-032c-37de-aac1-6b23f8739500',\n",
       "  u'cec2ad22-032c-37de-aac1-6b23f8739500',\n",
       "  u'cec2ad22-032c-37de-aac1-6b23f8739500',\n",
       "  u'cec2ad22-032c-37de-aac1-6b23f8739500',\n",
       "  u'cec2ad22-032c-37de-aac1-6b23f8739500',\n",
       "  u'cec2ad22-032c-37de-aac1-6b23f8739500',\n",
       "  u'cec2ad22-032c-37de-aac1-6b23f8739500',\n",
       "  u'cec2ad22-032c-37de-aac1-6b23f8739500',\n",
       "  u'cec2ad22-032c-37de-aac1-6b23f8739500'],\n",
       " [u'-71.116216',\n",
       "  u'-71.115687',\n",
       "  u'-71.114887',\n",
       "  u'-71.114085',\n",
       "  u'-71.113868',\n",
       "  u'-71.113545',\n",
       "  u'-71.113005',\n",
       "  u'-71.112858',\n",
       "  u'-71.112627',\n",
       "  u'-71.112267'],\n",
       " [u'42.296068',\n",
       "  u'42.296887',\n",
       "  u'42.297948',\n",
       "  u'42.299115',\n",
       "  u'42.299468',\n",
       "  u'42.29994',\n",
       "  u'42.300741',\n",
       "  u'42.300922',\n",
       "  u'42.301202',\n",
       "  u'42.301595'])"
      ]
     },
     "execution_count": 15,
     "metadata": {},
     "output_type": "execute_result"
    }
   ],
   "source": [
    "uuid_list_Jan16_present[42:52], x_list_Jan16_present[42:52], y_list_Jan16_present[42:52]"
   ]
  },
  {
   "cell_type": "code",
   "execution_count": null,
   "metadata": {
    "collapsed": true
   },
   "outputs": [],
   "source": []
  }
 ],
 "metadata": {
  "kernelspec": {
   "display_name": "Python 2",
   "language": "python",
   "name": "python2"
  },
  "language_info": {
   "codemirror_mode": {
    "name": "ipython",
    "version": 2
   },
   "file_extension": ".py",
   "mimetype": "text/x-python",
   "name": "python",
   "nbconvert_exporter": "python",
   "pygments_lexer": "ipython2",
   "version": "2.7.11"
  }
 },
 "nbformat": 4,
 "nbformat_minor": 0
}
