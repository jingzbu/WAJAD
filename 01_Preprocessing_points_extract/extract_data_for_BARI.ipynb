{
 "cells": [
  {
   "cell_type": "code",
   "execution_count": 1,
   "metadata": {
    "collapsed": true
   },
   "outputs": [],
   "source": [
    "data_folder = '/home/jzh/Waze/'"
   ]
  },
  {
   "cell_type": "code",
   "execution_count": 2,
   "metadata": {
    "collapsed": true
   },
   "outputs": [],
   "source": [
    "import csv\n",
    "import json"
   ]
  },
  {
   "cell_type": "code",
   "execution_count": 3,
   "metadata": {},
   "outputs": [],
   "source": [
    "points = {}\n",
    "\n",
    "with open(data_folder + 'raw_data/waze_points_Jan16_present.csv', 'r') as csvfile:\n",
    "    reader = csv.DictReader(csvfile)\n",
    "\n",
    "    idx = 0\n",
    "    for row in reader:\n",
    "        if '2016-03' in row['\\ufeffinject_date']:\n",
    "            points[idx] = {'inject_date':row['\\ufeffinject_date'],\n",
    "                          'uuid':row['uuid'],\n",
    "                          'longitude':row['x'],\n",
    "                          'latitude':row['y']}\n",
    "            idx += 1"
   ]
  },
  {
   "cell_type": "code",
   "execution_count": 8,
   "metadata": {
    "collapsed": true
   },
   "outputs": [],
   "source": [
    "# Writing JSON data\n",
    "with open(data_folder + '/points_Mar16.json', 'w') as json_file:\n",
    "    json.dump(points, json_file)"
   ]
  },
  {
   "cell_type": "code",
   "execution_count": 10,
   "metadata": {},
   "outputs": [],
   "source": [
    "alerts = {}\n",
    "\n",
    "with open(data_folder + 'raw_data/waze_alerts.csv', 'r') as csvfile:\n",
    "    reader = csv.DictReader(csvfile)\n",
    "    \n",
    "    idx = 0\n",
    "    for row in reader:\n",
    "        if '2016-03' in row['\\ufeffinject_date']:\n",
    "            alerts[idx] = {'inject_date':row['\\ufeffinject_date'],\n",
    "                          'uuid':row['uuid'],\n",
    "                          'longitude':row['locx'],\n",
    "                          'latitude':row['locy'],\n",
    "                          'startTime':row['startTime'],\n",
    "                          'endTime':row['endTime'],\n",
    "                          'type':row['type'],\n",
    "                          'street':row['street']}\n",
    "            idx += 1"
   ]
  },
  {
   "cell_type": "code",
   "execution_count": 11,
   "metadata": {
    "collapsed": true
   },
   "outputs": [],
   "source": [
    "# Writing JSON data\n",
    "with open(data_folder + '/alerts_Mar16.json', 'w') as json_file:\n",
    "    json.dump(alerts, json_file)"
   ]
  },
  {
   "cell_type": "code",
   "execution_count": 13,
   "metadata": {},
   "outputs": [],
   "source": [
    "jams = {}\n",
    "\n",
    "with open(data_folder + 'raw_data/waze_jams.csv', 'r') as csvfile:\n",
    "    reader = csv.DictReader(csvfile)\n",
    "    \n",
    "    idx = 0\n",
    "    for row in reader:\n",
    "        if '2016-03' in row['\\ufeffinject_date']:\n",
    "            jams[idx] = {'inject_date':row['\\ufeffinject_date'],\n",
    "                          'uuid':row['uuid'],\n",
    "                          'startTime':row['startTime'],\n",
    "                          'endTime':row['endTime'],\n",
    "                          'street':row['street'],\n",
    "                          'delay':row['delay'],\n",
    "                          'Length':row['Length'],\n",
    "                          'speed':row['speed']\n",
    "                        }\n",
    "            idx += 1"
   ]
  },
  {
   "cell_type": "code",
   "execution_count": 14,
   "metadata": {
    "collapsed": true
   },
   "outputs": [],
   "source": [
    "# Writing JSON data\n",
    "with open(data_folder + '/jams_Mar16.json', 'w') as json_file:\n",
    "    json.dump(jams, json_file)"
   ]
  },
  {
   "cell_type": "code",
   "execution_count": null,
   "metadata": {
    "collapsed": true
   },
   "outputs": [],
   "source": []
  }
 ],
 "metadata": {
  "kernelspec": {
   "display_name": "Python 3",
   "language": "python",
   "name": "python3"
  },
  "language_info": {
   "codemirror_mode": {
    "name": "ipython",
    "version": 3
   },
   "file_extension": ".py",
   "mimetype": "text/x-python",
   "name": "python",
   "nbconvert_exporter": "python",
   "pygments_lexer": "ipython3",
   "version": "3.6.1"
  }
 },
 "nbformat": 4,
 "nbformat_minor": 2
}
