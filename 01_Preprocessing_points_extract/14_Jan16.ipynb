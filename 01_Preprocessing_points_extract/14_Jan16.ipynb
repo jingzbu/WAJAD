{
 "cells": [
  {
   "cell_type": "code",
   "execution_count": 1,
   "metadata": {},
   "outputs": [],
   "source": [
    "data_folder = '/home/jzh/Waze/'\n",
    "\n",
    "import csv\n",
    "import json\n",
    "\n",
    "with open(data_folder + 'raw_data/waze_points_Jan16_present.csv', 'rb') as csvfile:\n",
    "    reader = csv.DictReader(csvfile)\n",
    "\n",
    "    uuid_list_Jan16 = []\n",
    "    x_list_Jan16 = []\n",
    "    y_list_Jan16 = []\n",
    "    \n",
    "    for row in reader:\n",
    "        if '2016-01' in row['\\xef\\xbb\\xbfinject_date']:\n",
    "            # print(row)\n",
    "            # assert(1==2)\n",
    "            # print(row['uuid'], row['x'], row['y'], row['\\xef\\xbb\\xbfinject_date'])\n",
    "            # print(row['uuid'], row['y'], row['x'])\n",
    "            uuid_list_Jan16.append(row['uuid'])\n",
    "            x_list_Jan16.append(row['x'])\n",
    "            y_list_Jan16.append(row['y'])\n",
    "\n",
    "# Writing JSON data\n",
    "with open(data_folder + '/uuid_list_Jan16.json', 'w') as json_file:\n",
    "    json.dump(uuid_list_Jan16, json_file)\n",
    "\n",
    "with open(data_folder + '/x_list_Jan16.json', 'w') as json_file:\n",
    "    json.dump(x_list_Jan16, json_file)\n",
    "    \n",
    "with open(data_folder + '/y_list_Jan16.json', 'w') as json_file:\n",
    "    json.dump(y_list_Jan16, json_file)"
   ]
  }
 ],
 "metadata": {
  "kernelspec": {
   "display_name": "Python 3",
   "language": "python",
   "name": "python3"
  },
  "language_info": {
   "codemirror_mode": {
    "name": "ipython",
    "version": 3
   },
   "file_extension": ".py",
   "mimetype": "text/x-python",
   "name": "python",
   "nbconvert_exporter": "python",
   "pygments_lexer": "ipython3",
   "version": "3.6.1"
  }
 },
 "nbformat": 4,
 "nbformat_minor": 1
}
