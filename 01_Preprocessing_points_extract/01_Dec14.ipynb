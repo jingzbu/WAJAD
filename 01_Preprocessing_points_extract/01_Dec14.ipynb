{
 "cells": [
  {
   "cell_type": "code",
   "execution_count": 1,
   "metadata": {
    "collapsed": true
   },
   "outputs": [],
   "source": [
    "data_folder = '/home/jzh/Waze/'\n",
    "\n",
    "import csv\n",
    "import json\n",
    "\n",
    "with open(data_folder + 'raw_data/waze_points_Dec14_May15.csv', 'rb') as csvfile:\n",
    "    reader = csv.DictReader(csvfile)\n",
    "\n",
    "    uuid_list_Dec14 = []\n",
    "    x_list_Dec14 = []\n",
    "    y_list_Dec14 = []\n",
    "    \n",
    "    for row in reader:\n",
    "        if '2014-12' in row['\\xef\\xbb\\xbfinject_date']:\n",
    "            # print(row)\n",
    "            # assert(1==2)\n",
    "            # print(row['uuid'], row['x'], row['y'], row['\\xef\\xbb\\xbfinject_date'])\n",
    "            # print(row['uuid'], row['y'], row['x'])\n",
    "            uuid_list_Dec14.append(row['uuid'])\n",
    "            x_list_Dec14.append(row['x'])\n",
    "            y_list_Dec14.append(row['y'])\n",
    "\n",
    "# Writing JSON data\n",
    "with open(data_folder + '/uuid_list_Dec14.json', 'w') as json_file:\n",
    "    json.dump(uuid_list_Dec14, json_file)\n",
    "\n",
    "with open(data_folder + '/x_list_Dec14.json', 'w') as json_file:\n",
    "    json.dump(x_list_Dec14, json_file)\n",
    "    \n",
    "with open(data_folder + '/y_list_Dec14.json', 'w') as json_file:\n",
    "    json.dump(y_list_Dec14, json_file)"
   ]
  }
 ],
 "metadata": {
  "kernelspec": {
   "display_name": "Python 2",
   "language": "python",
   "name": "python2"
  },
  "language_info": {
   "codemirror_mode": {
    "name": "ipython",
    "version": 2
   },
   "file_extension": ".py",
   "mimetype": "text/x-python",
   "name": "python",
   "nbconvert_exporter": "python",
   "pygments_lexer": "ipython2",
   "version": "2.7.11"
  }
 },
 "nbformat": 4,
 "nbformat_minor": 0
}
