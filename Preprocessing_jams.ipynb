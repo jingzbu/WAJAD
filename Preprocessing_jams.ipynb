{
 "cells": [
  {
   "cell_type": "code",
   "execution_count": 1,
   "metadata": {
    "collapsed": true
   },
   "outputs": [],
   "source": [
    "data_folder = '/home/jzh/Waze/'"
   ]
  },
  {
   "cell_type": "code",
   "execution_count": 2,
   "metadata": {
    "collapsed": true
   },
   "outputs": [],
   "source": [
    "import csv"
   ]
  },
  {
   "cell_type": "code",
   "execution_count": 3,
   "metadata": {
    "collapsed": false
   },
   "outputs": [
    {
     "name": "stdout",
     "output_type": "stream",
     "text": [
      "('e8719565-0af4-33da-bdbe-1d87fafcc2bc', 'River St', 'Mamelon Cir', '7', '1.26940247267598900', '132', '185', '2016-02-01 16:55:00.000', '2016-02-01 16:56:00.000', '2016-02-01 17:00:07.000')\n",
      "('1f24a035-717c-340c-ad54-d05b99cba1f0', 'Washington St', 'Columbus Ave', '6', '6.74255160244573700', '76', '1066', '2016-02-01 16:55:00.000', '2016-02-01 16:56:00.000', '2016-02-01 17:00:07.000')\n",
      "('67cf2f62-0168-373d-9926-dc2db73a9214', 'Washington St', 'Granfield Ave', '6', '2.62094440385186200', '284', '937', '2016-02-01 16:55:00.000', '2016-02-01 16:56:00.000', '2016-02-01 17:00:07.000')\n",
      "('cec2ad22-032c-37de-aac1-6b23f8739500', 'Hyde Park Ave', '', '6', '5.38161660859767700', '72', '695', '2016-02-01 16:55:00.000', '2016-02-01 16:56:00.000', '2016-02-01 17:00:07.000')\n",
      "('f015315d-1b92-3167-9e66-8fe6869452ed', 'Brighton Ave', '', '6', '2.63756315452445640', '80', '355', '2016-02-01 16:55:00.000', '2016-02-01 16:56:00.000', '2016-02-01 17:00:07.000')\n",
      "('9ec8bd65-211b-32e5-9dd1-c4f4c00e5f70', 'Beacon St', 'Washington St', '6', '6.49579070833004900', '118', '1549', '2016-02-01 16:55:00.000', '2016-02-01 16:56:00.000', '2016-02-01 17:00:07.000')\n",
      "('89afaa58-707c-351d-aafe-7a58a91defa4', 'Chestnut Hill Ave', 'South St', '7', '4.84374257000774000', '65', '618', '2016-02-01 16:55:00.000', '2016-02-01 16:56:00.000', '2016-02-01 17:00:07.000')\n",
      "('72766d6b-4fe3-315d-ab52-2ca525759e00', 'Chestnut Hill Ave', 'Commonwealth Ave', '7', '1.16165739772588200', '154', '206', '2016-02-01 16:55:00.000', '2016-02-01 16:56:00.000', '2016-02-01 17:00:07.000')\n",
      "('6de0f29a-c5fb-39c3-9646-26071fef8163', 'Arsenal St', '', '7', '2.38837102898857670', '99', '313', '2016-02-01 16:55:00.000', '2016-02-01 16:56:00.000', '2016-02-01 17:00:07.000')\n",
      "('03d4215e-f282-3259-8a99-8384ef520d84', 'Brookline Ave', 'Riverway', '6', '2.99968319990535640', '91', '373', '2016-02-01 16:55:00.000', '2016-02-01 16:56:00.000', '2016-02-01 17:00:07.000')\n",
      "('1e355aca-b3d1-3a30-b775-4a85aa05e7e6', 'Brookline Ave', '', '6', '2.37722996214723640', '209', '655', '2016-02-01 16:55:00.000', '2016-02-01 16:56:00.000', '2016-02-01 17:00:07.000')\n"
     ]
    }
   ],
   "source": [
    "with open(data_folder + '/waze_jams.csv', 'rb') as csvfile:\n",
    "    reader = csv.DictReader(csvfile)\n",
    "    i = 0\n",
    "    for row in reader:\n",
    "        # print(row.keys())\n",
    "        # print(row['street'])\n",
    "        print(row['uuid'], row['street'], row['endNode'], row['roadType'], row['speed'], row['delay'], row['Length'], \n",
    "              row['startTime'], row['endTime'], row['\\xef\\xbb\\xbfinject_date'])\n",
    "        i += 1\n",
    "        if i > 10:\n",
    "            break"
   ]
  }
 ],
 "metadata": {
  "kernelspec": {
   "display_name": "Python 2",
   "language": "python",
   "name": "python2"
  },
  "language_info": {
   "codemirror_mode": {
    "name": "ipython",
    "version": 2
   },
   "file_extension": ".py",
   "mimetype": "text/x-python",
   "name": "python",
   "nbconvert_exporter": "python",
   "pygments_lexer": "ipython2",
   "version": "2.7.11"
  }
 },
 "nbformat": 4,
 "nbformat_minor": 0
}
