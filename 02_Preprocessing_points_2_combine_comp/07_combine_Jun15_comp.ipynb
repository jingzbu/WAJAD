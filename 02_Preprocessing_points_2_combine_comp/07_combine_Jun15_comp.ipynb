{
 "cells": [
  {
   "cell_type": "code",
   "execution_count": 1,
   "metadata": {
    "collapsed": true
   },
   "outputs": [],
   "source": [
    "data_folder = '/home/jzh/Waze/'"
   ]
  },
  {
   "cell_type": "code",
   "execution_count": 2,
   "metadata": {
    "collapsed": true
   },
   "outputs": [],
   "source": [
    "import json"
   ]
  },
  {
   "cell_type": "code",
   "execution_count": 3,
   "metadata": {
    "collapsed": true
   },
   "outputs": [],
   "source": [
    "# Loading JSON data\n",
    "with open(data_folder + '/uuid_list_Jun15.json', 'r') as json_file:\n",
    "    uuid_list_Jun15 = json.load(json_file)\n",
    "\n",
    "with open(data_folder + '/x_list_Jun15.json', 'r') as json_file:\n",
    "    x_list_Jun15 = json.load(json_file)\n",
    "    \n",
    "with open(data_folder + '/y_list_Jun15.json', 'r') as json_file:\n",
    "    y_list_Jun15 = json.load(json_file)"
   ]
  },
  {
   "cell_type": "code",
   "execution_count": 4,
   "metadata": {
    "collapsed": false
   },
   "outputs": [],
   "source": [
    "assert(len(uuid_list_Jun15) == len(x_list_Jun15))\n",
    "assert(len(uuid_list_Jun15) == len(y_list_Jun15))"
   ]
  },
  {
   "cell_type": "code",
   "execution_count": 5,
   "metadata": {
    "collapsed": false
   },
   "outputs": [
    {
     "data": {
      "text/plain": [
       "[u'b734493a-bdfb-3b56-859d-4245ffa909ab',\n",
       " u'b734493a-bdfb-3b56-859d-4245ffa909ab',\n",
       " u'b734493a-bdfb-3b56-859d-4245ffa909ab',\n",
       " u'b734493a-bdfb-3b56-859d-4245ffa909ab',\n",
       " u'b734493a-bdfb-3b56-859d-4245ffa909ab',\n",
       " u'b734493a-bdfb-3b56-859d-4245ffa909ab',\n",
       " u'b734493a-bdfb-3b56-859d-4245ffa909ab',\n",
       " u'1d1e266f-d853-395c-876c-c9c5860ef860',\n",
       " u'1d1e266f-d853-395c-876c-c9c5860ef860',\n",
       " u'1d1e266f-d853-395c-876c-c9c5860ef860',\n",
       " u'1d1e266f-d853-395c-876c-c9c5860ef860',\n",
       " u'1d1e266f-d853-395c-876c-c9c5860ef860',\n",
       " u'1d1e266f-d853-395c-876c-c9c5860ef860',\n",
       " u'1d1e266f-d853-395c-876c-c9c5860ef860',\n",
       " u'1d1e266f-d853-395c-876c-c9c5860ef860',\n",
       " u'1d1e266f-d853-395c-876c-c9c5860ef860',\n",
       " u'1d1e266f-d853-395c-876c-c9c5860ef860',\n",
       " u'1d1e266f-d853-395c-876c-c9c5860ef860',\n",
       " u'1d1e266f-d853-395c-876c-c9c5860ef860',\n",
       " u'1d1e266f-d853-395c-876c-c9c5860ef860',\n",
       " u'1d1e266f-d853-395c-876c-c9c5860ef860',\n",
       " u'1d1e266f-d853-395c-876c-c9c5860ef860',\n",
       " u'1d1e266f-d853-395c-876c-c9c5860ef860',\n",
       " u'1d1e266f-d853-395c-876c-c9c5860ef860',\n",
       " u'1d1e266f-d853-395c-876c-c9c5860ef860',\n",
       " u'1d1e266f-d853-395c-876c-c9c5860ef860',\n",
       " u'1d1e266f-d853-395c-876c-c9c5860ef860',\n",
       " u'1d1e266f-d853-395c-876c-c9c5860ef860',\n",
       " u'1d1e266f-d853-395c-876c-c9c5860ef860',\n",
       " u'1d1e266f-d853-395c-876c-c9c5860ef860']"
      ]
     },
     "execution_count": 5,
     "metadata": {},
     "output_type": "execute_result"
    }
   ],
   "source": [
    "uuid_list_Jun15[0:30]"
   ]
  },
  {
   "cell_type": "code",
   "execution_count": 6,
   "metadata": {
    "collapsed": false
   },
   "outputs": [],
   "source": [
    "idx_list = []  # index list for the \"turning points;\" note that a uuid correspond to many points\n",
    "\n",
    "L = len(uuid_list_Jun15)  # number of points\n",
    "\n",
    "for i in range(L-1):\n",
    "    if uuid_list_Jun15[i+1] != uuid_list_Jun15[i]:\n",
    "        idx_list.append(i)\n",
    "#     if len(idx_list) > 2:\n",
    "#         break    "
   ]
  },
  {
   "cell_type": "code",
   "execution_count": 7,
   "metadata": {
    "collapsed": false
   },
   "outputs": [
    {
     "data": {
      "text/plain": [
       "(882589, 12791802)"
      ]
     },
     "execution_count": 7,
     "metadata": {},
     "output_type": "execute_result"
    }
   ],
   "source": [
    "len(idx_list), L"
   ]
  },
  {
   "cell_type": "code",
   "execution_count": 8,
   "metadata": {
    "collapsed": true
   },
   "outputs": [],
   "source": [
    "import numpy as np\n",
    "\n",
    "points_dict_Jun15 = {}\n",
    "\n",
    "x_y_list = []\n",
    "\n",
    "len_idx_list = len(idx_list)\n",
    "for i in range(len_idx_list):\n",
    "    x_y_list = []\n",
    "    if i == 0:\n",
    "        x_y_list.append([(float(x_list_Jun15[j]), float(y_list_Jun15[j])) \\\n",
    "                              for j in range(idx_list[i] + 1)])\n",
    "        x_y_list.append(len(range(idx_list[i] + 1)))\n",
    "    else:\n",
    "        x_y_list.append([(float(x_list_Jun15[j]), float(y_list_Jun15[j])) \\\n",
    "                              for j in range(idx_list[i-1] + 1, idx_list[i] + 1)])\n",
    "        x_y_list.append(len(range(idx_list[i-1] + 1, idx_list[i] + 1)))\n",
    "    points_dict_Jun15[uuid_list_Jun15[idx_list[i]]] = x_y_list\n",
    "#     if i > 3:\n",
    "#         break\n",
    "with open(data_folder + '/points_dict_Jun15_comp.json', 'w') as json_file:\n",
    "    json.dump(points_dict_Jun15, json_file)"
   ]
  },
  {
   "cell_type": "code",
   "execution_count": null,
   "metadata": {
    "collapsed": true
   },
   "outputs": [],
   "source": []
  }
 ],
 "metadata": {
  "kernelspec": {
   "display_name": "Python 2",
   "language": "python",
   "name": "python2"
  },
  "language_info": {
   "codemirror_mode": {
    "name": "ipython",
    "version": 2
   },
   "file_extension": ".py",
   "mimetype": "text/x-python",
   "name": "python",
   "nbconvert_exporter": "python",
   "pygments_lexer": "ipython2",
   "version": "2.7.11"
  }
 },
 "nbformat": 4,
 "nbformat_minor": 0
}
