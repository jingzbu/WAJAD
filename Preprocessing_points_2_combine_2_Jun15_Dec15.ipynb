{
 "cells": [
  {
   "cell_type": "code",
   "execution_count": 1,
   "metadata": {
    "collapsed": true
   },
   "outputs": [],
   "source": [
    "data_folder = '/home/jzh/Waze/'"
   ]
  },
  {
   "cell_type": "code",
   "execution_count": 2,
   "metadata": {
    "collapsed": true
   },
   "outputs": [],
   "source": [
    "import json"
   ]
  },
  {
   "cell_type": "code",
   "execution_count": 3,
   "metadata": {
    "collapsed": true
   },
   "outputs": [],
   "source": [
    "# Loading JSON data\n",
    "with open(data_folder + '/uuid_list_Jun15_Dec15.json', 'r') as json_file:\n",
    "    uuid_list_Jun15_Dec15 = json.load(json_file)\n",
    "\n",
    "with open(data_folder + '/x_list_Jun15_Dec15.json', 'r') as json_file:\n",
    "    x_list_Jun15_Dec15 = json.load(json_file)\n",
    "    \n",
    "with open(data_folder + '/y_list_Jun15_Dec15.json', 'r') as json_file:\n",
    "    y_list_Jun15_Dec15 = json.load(json_file)"
   ]
  },
  {
   "cell_type": "code",
   "execution_count": 4,
   "metadata": {
    "collapsed": true
   },
   "outputs": [],
   "source": [
    "assert(len(uuid_list_Jun15_Dec15) == len(x_list_Jun15_Dec15))\n",
    "assert(len(uuid_list_Jun15_Dec15) == len(y_list_Jun15_Dec15))"
   ]
  },
  {
   "cell_type": "code",
   "execution_count": 5,
   "metadata": {
    "collapsed": false
   },
   "outputs": [
    {
     "data": {
      "text/plain": [
       "[u'b734493a-bdfb-3b56-859d-4245ffa909ab',\n",
       " u'b734493a-bdfb-3b56-859d-4245ffa909ab',\n",
       " u'b734493a-bdfb-3b56-859d-4245ffa909ab',\n",
       " u'b734493a-bdfb-3b56-859d-4245ffa909ab',\n",
       " u'b734493a-bdfb-3b56-859d-4245ffa909ab',\n",
       " u'b734493a-bdfb-3b56-859d-4245ffa909ab',\n",
       " u'b734493a-bdfb-3b56-859d-4245ffa909ab',\n",
       " u'1d1e266f-d853-395c-876c-c9c5860ef860',\n",
       " u'1d1e266f-d853-395c-876c-c9c5860ef860',\n",
       " u'1d1e266f-d853-395c-876c-c9c5860ef860',\n",
       " u'1d1e266f-d853-395c-876c-c9c5860ef860',\n",
       " u'1d1e266f-d853-395c-876c-c9c5860ef860',\n",
       " u'1d1e266f-d853-395c-876c-c9c5860ef860',\n",
       " u'1d1e266f-d853-395c-876c-c9c5860ef860',\n",
       " u'1d1e266f-d853-395c-876c-c9c5860ef860',\n",
       " u'1d1e266f-d853-395c-876c-c9c5860ef860',\n",
       " u'1d1e266f-d853-395c-876c-c9c5860ef860',\n",
       " u'1d1e266f-d853-395c-876c-c9c5860ef860',\n",
       " u'1d1e266f-d853-395c-876c-c9c5860ef860',\n",
       " u'1d1e266f-d853-395c-876c-c9c5860ef860',\n",
       " u'1d1e266f-d853-395c-876c-c9c5860ef860',\n",
       " u'1d1e266f-d853-395c-876c-c9c5860ef860',\n",
       " u'1d1e266f-d853-395c-876c-c9c5860ef860',\n",
       " u'1d1e266f-d853-395c-876c-c9c5860ef860',\n",
       " u'1d1e266f-d853-395c-876c-c9c5860ef860',\n",
       " u'1d1e266f-d853-395c-876c-c9c5860ef860',\n",
       " u'1d1e266f-d853-395c-876c-c9c5860ef860',\n",
       " u'1d1e266f-d853-395c-876c-c9c5860ef860',\n",
       " u'1d1e266f-d853-395c-876c-c9c5860ef860',\n",
       " u'1d1e266f-d853-395c-876c-c9c5860ef860',\n",
       " u'312a96c6-93f5-3ca4-b3da-9d96c7d8e81a',\n",
       " u'312a96c6-93f5-3ca4-b3da-9d96c7d8e81a',\n",
       " u'312a96c6-93f5-3ca4-b3da-9d96c7d8e81a',\n",
       " u'312a96c6-93f5-3ca4-b3da-9d96c7d8e81a',\n",
       " u'312a96c6-93f5-3ca4-b3da-9d96c7d8e81a',\n",
       " u'312a96c6-93f5-3ca4-b3da-9d96c7d8e81a',\n",
       " u'312a96c6-93f5-3ca4-b3da-9d96c7d8e81a',\n",
       " u'312a96c6-93f5-3ca4-b3da-9d96c7d8e81a',\n",
       " u'312a96c6-93f5-3ca4-b3da-9d96c7d8e81a',\n",
       " u'312a96c6-93f5-3ca4-b3da-9d96c7d8e81a',\n",
       " u'312a96c6-93f5-3ca4-b3da-9d96c7d8e81a',\n",
       " u'312a96c6-93f5-3ca4-b3da-9d96c7d8e81a',\n",
       " u'312a96c6-93f5-3ca4-b3da-9d96c7d8e81a',\n",
       " u'312a96c6-93f5-3ca4-b3da-9d96c7d8e81a',\n",
       " u'312a96c6-93f5-3ca4-b3da-9d96c7d8e81a',\n",
       " u'312a96c6-93f5-3ca4-b3da-9d96c7d8e81a',\n",
       " u'312a96c6-93f5-3ca4-b3da-9d96c7d8e81a',\n",
       " u'312a96c6-93f5-3ca4-b3da-9d96c7d8e81a',\n",
       " u'312a96c6-93f5-3ca4-b3da-9d96c7d8e81a',\n",
       " u'312a96c6-93f5-3ca4-b3da-9d96c7d8e81a']"
      ]
     },
     "execution_count": 5,
     "metadata": {},
     "output_type": "execute_result"
    }
   ],
   "source": [
    "uuid_list_Jun15_Dec15[0:50]"
   ]
  },
  {
   "cell_type": "code",
   "execution_count": 6,
   "metadata": {
    "collapsed": true
   },
   "outputs": [],
   "source": [
    "idx_list = []  # index list for the \"turning points;\" note that a uuid correspond to many points\n",
    "\n",
    "L = len(uuid_list_Jun15_Dec15)  # number of points\n",
    "\n",
    "for i in range(L-1):\n",
    "    if uuid_list_Jun15_Dec15[i+1] != uuid_list_Jun15_Dec15[i]:\n",
    "        idx_list.append(i)\n",
    "#     if len(idx_list) > 2:\n",
    "#         break    "
   ]
  },
  {
   "cell_type": "code",
   "execution_count": 7,
   "metadata": {
    "collapsed": false
   },
   "outputs": [
    {
     "data": {
      "text/plain": [
       "(3240632, 39854142)"
      ]
     },
     "execution_count": 7,
     "metadata": {},
     "output_type": "execute_result"
    }
   ],
   "source": [
    "len(idx_list), L"
   ]
  },
  {
   "cell_type": "code",
   "execution_count": 8,
   "metadata": {
    "collapsed": false
   },
   "outputs": [
    {
     "data": {
      "text/plain": [
       "[6, 29, 49, 52, 149, 154, 160, 177, 185, 187, 213, 217, 234, 249, 264]"
      ]
     },
     "execution_count": 8,
     "metadata": {},
     "output_type": "execute_result"
    }
   ],
   "source": [
    "idx_list[0:15]"
   ]
  },
  {
   "cell_type": "code",
   "execution_count": 9,
   "metadata": {
    "collapsed": true
   },
   "outputs": [],
   "source": [
    "points_dict__Jun15_Dec15 = {}\n",
    "\n",
    "x_y_min_max_list = []\n",
    "x_y_min_max_list.append(min([float(x_list_Jun15_Dec15[j]) for j in range(10+1)]))\n",
    "x_y_min_max_list.append(max([float(x_list_Jun15_Dec15[j]) for j in range(10+1)]))\n",
    "x_y_min_max_list.append(min([float(y_list_Jun15_Dec15[j]) for j in range(10+1)]))\n",
    "x_y_min_max_list.append(max([float(y_list_Jun15_Dec15[j]) for j in range(10+1)]))\n",
    "\n",
    "points_dict__Jun15_Dec15[uuid_list_Jun15_Dec15[10]] = x_y_min_max_list\n",
    "\n",
    "len_idx_list = len(idx_list)\n",
    "for i in range(len_idx_list):\n",
    "    x_y_min_max_list = []\n",
    "    if i == 0:\n",
    "        x_y_min_max_list.append(min([float(x_list_Jun15_Dec15[j]) for j in range(idx_list[i] + 1)]))\n",
    "        x_y_min_max_list.append(max([float(x_list_Jun15_Dec15[j]) for j in range(idx_list[i] + 1)]))\n",
    "        x_y_min_max_list.append(min([float(y_list_Jun15_Dec15[j]) for j in range(idx_list[i] + 1)]))\n",
    "        x_y_min_max_list.append(max([float(y_list_Jun15_Dec15[j]) for j in range(idx_list[i] + 1)]))\n",
    "    else:\n",
    "        x_y_min_max_list.append(min([float(x_list_Jun15_Dec15[j]) for j in range(idx_list[i-1] + 1, idx_list[i] + 1)]))\n",
    "        x_y_min_max_list.append(max([float(x_list_Jun15_Dec15[j]) for j in range(idx_list[i-1] + 1, idx_list[i] + 1)]))\n",
    "        x_y_min_max_list.append(min([float(y_list_Jun15_Dec15[j]) for j in range(idx_list[i-1] + 1, idx_list[i] + 1)]))\n",
    "        x_y_min_max_list.append(max([float(y_list_Jun15_Dec15[j]) for j in range(idx_list[i-1] + 1, idx_list[i] + 1)]))\n",
    "    points_dict__Jun15_Dec15[uuid_list_Jun15_Dec15[idx_list[i]]] = x_y_min_max_list\n",
    "#     if i > 3:\n",
    "#         break\n",
    "with open(data_folder + '/points_dict__Jun15_Dec15.json', 'w') as json_file:\n",
    "    json.dump(points_dict__Jun15_Dec15, json_file)"
   ]
  },
  {
   "cell_type": "code",
   "execution_count": 10,
   "metadata": {
    "collapsed": true
   },
   "outputs": [],
   "source": [
    "points_dict__Jun15_Dec15 = {}\n",
    "\n",
    "x_y_min_max_list = []\n",
    "x_y_min_max_list.append(min([float(x_list_Jun15_Dec15[j]) for j in range(10+1)]))\n",
    "x_y_min_max_list.append(max([float(x_list_Jun15_Dec15[j]) for j in range(10+1)]))\n",
    "x_y_min_max_list.append(min([float(y_list_Jun15_Dec15[j]) for j in range(10+1)]))\n",
    "x_y_min_max_list.append(max([float(y_list_Jun15_Dec15[j]) for j in range(10+1)]))\n",
    "\n",
    "points_dict__Jun15_Dec15[uuid_list_Jun15_Dec15[10]] = x_y_min_max_list\n",
    "\n",
    "len_idx_list = len(idx_list)\n",
    "for i in range(len_idx_list):\n",
    "    x_y_min_max_list = []\n",
    "    if i == 0:\n",
    "        x_y_min_max_list.append(min([float(x_list_Jun15_Dec15[j]) for j in range(idx_list[i] + 1)]))\n",
    "        x_y_min_max_list.append(max([float(x_list_Jun15_Dec15[j]) for j in range(idx_list[i] + 1)]))\n",
    "        x_y_min_max_list.append(min([float(y_list_Jun15_Dec15[j]) for j in range(idx_list[i] + 1)]))\n",
    "        x_y_min_max_list.append(max([float(y_list_Jun15_Dec15[j]) for j in range(idx_list[i] + 1)]))\n",
    "    else:\n",
    "        x_y_min_max_list.append(min([float(x_list_Jun15_Dec15[j]) for j in range(idx_list[i-1] + 1, idx_list[i] + 1)]))\n",
    "        x_y_min_max_list.append(max([float(x_list_Jun15_Dec15[j]) for j in range(idx_list[i-1] + 1, idx_list[i] + 1)]))\n",
    "        x_y_min_max_list.append(min([float(y_list_Jun15_Dec15[j]) for j in range(idx_list[i-1] + 1, idx_list[i] + 1)]))\n",
    "        x_y_min_max_list.append(max([float(y_list_Jun15_Dec15[j]) for j in range(idx_list[i-1] + 1, idx_list[i] + 1)]))\n",
    "    points_dict__Jun15_Dec15[uuid_list_Jun15_Dec15[idx_list[i]]] = x_y_min_max_list\n",
    "    if i > 3:\n",
    "        break"
   ]
  },
  {
   "cell_type": "code",
   "execution_count": 11,
   "metadata": {
    "collapsed": false
   },
   "outputs": [
    {
     "data": {
      "text/plain": [
       "{u'1c5b3651-ae58-35d5-9b90-ed083d89592b': [-71.182133,\n",
       "  -71.0121201389763,\n",
       "  42.494678,\n",
       "  42.526828],\n",
       " u'1d1e266f-d853-395c-876c-c9c5860ef860': [-71.140162,\n",
       "  -71.137226,\n",
       "  42.453037,\n",
       "  42.459474],\n",
       " u'312a96c6-93f5-3ca4-b3da-9d96c7d8e81a': [-71.15166,\n",
       "  -71.150654,\n",
       "  42.480176,\n",
       "  42.483854],\n",
       " u'b734493a-bdfb-3b56-859d-4245ffa909ab': [-71.151097,\n",
       "  -71.14623,\n",
       "  42.447281,\n",
       "  42.449366],\n",
       " u'f96309e7-91d8-385e-8e86-48d4cebfedb3': [-71.17509,\n",
       "  -71.174222,\n",
       "  42.489064,\n",
       "  42.49117]}"
      ]
     },
     "execution_count": 11,
     "metadata": {},
     "output_type": "execute_result"
    }
   ],
   "source": [
    "points_dict__Jun15_Dec15"
   ]
  },
  {
   "cell_type": "code",
   "execution_count": 13,
   "metadata": {
    "collapsed": false
   },
   "outputs": [
    {
     "data": {
      "text/plain": [
       "([u'312a96c6-93f5-3ca4-b3da-9d96c7d8e81a',\n",
       "  u'312a96c6-93f5-3ca4-b3da-9d96c7d8e81a',\n",
       "  u'312a96c6-93f5-3ca4-b3da-9d96c7d8e81a',\n",
       "  u'312a96c6-93f5-3ca4-b3da-9d96c7d8e81a',\n",
       "  u'312a96c6-93f5-3ca4-b3da-9d96c7d8e81a',\n",
       "  u'312a96c6-93f5-3ca4-b3da-9d96c7d8e81a',\n",
       "  u'312a96c6-93f5-3ca4-b3da-9d96c7d8e81a',\n",
       "  u'312a96c6-93f5-3ca4-b3da-9d96c7d8e81a',\n",
       "  u'312a96c6-93f5-3ca4-b3da-9d96c7d8e81a',\n",
       "  u'312a96c6-93f5-3ca4-b3da-9d96c7d8e81a',\n",
       "  u'312a96c6-93f5-3ca4-b3da-9d96c7d8e81a',\n",
       "  u'312a96c6-93f5-3ca4-b3da-9d96c7d8e81a',\n",
       "  u'312a96c6-93f5-3ca4-b3da-9d96c7d8e81a',\n",
       "  u'312a96c6-93f5-3ca4-b3da-9d96c7d8e81a',\n",
       "  u'312a96c6-93f5-3ca4-b3da-9d96c7d8e81a',\n",
       "  u'312a96c6-93f5-3ca4-b3da-9d96c7d8e81a',\n",
       "  u'312a96c6-93f5-3ca4-b3da-9d96c7d8e81a',\n",
       "  u'312a96c6-93f5-3ca4-b3da-9d96c7d8e81a',\n",
       "  u'312a96c6-93f5-3ca4-b3da-9d96c7d8e81a',\n",
       "  u'312a96c6-93f5-3ca4-b3da-9d96c7d8e81a'],\n",
       " [u'-71.151337',\n",
       "  u'-71.151269',\n",
       "  u'-71.151223',\n",
       "  u'-71.151186',\n",
       "  u'-71.151121',\n",
       "  u'-71.151043',\n",
       "  u'-71.151013',\n",
       "  u'-71.150984',\n",
       "  u'-71.150811',\n",
       "  u'-71.150746',\n",
       "  u'-71.150668',\n",
       "  u'-71.150654',\n",
       "  u'-71.150681',\n",
       "  u'-71.150799',\n",
       "  u'-71.15086',\n",
       "  u'-71.150988',\n",
       "  u'-71.151283',\n",
       "  u'-71.151362',\n",
       "  u'-71.151465',\n",
       "  u'-71.15166'],\n",
       " [u'42.483854',\n",
       "  u'42.483415',\n",
       "  u'42.483256',\n",
       "  u'42.48314',\n",
       "  u'42.483022',\n",
       "  u'42.482881',\n",
       "  u'42.482827',\n",
       "  u'42.482781',\n",
       "  u'42.4825',\n",
       "  u'42.482354',\n",
       "  u'42.482153',\n",
       "  u'42.481957',\n",
       "  u'42.481823',\n",
       "  u'42.481496',\n",
       "  u'42.481372',\n",
       "  u'42.481114',\n",
       "  u'42.480553',\n",
       "  u'42.480446',\n",
       "  u'42.480334',\n",
       "  u'42.480176'])"
      ]
     },
     "execution_count": 13,
     "metadata": {},
     "output_type": "execute_result"
    }
   ],
   "source": [
    "uuid_list_Jun15_Dec15[30:50], x_list_Jun15_Dec15[30:50], y_list_Jun15_Dec15[30:50]"
   ]
  },
  {
   "cell_type": "code",
   "execution_count": null,
   "metadata": {
    "collapsed": true
   },
   "outputs": [],
   "source": []
  }
 ],
 "metadata": {
  "kernelspec": {
   "display_name": "Python 2",
   "language": "python",
   "name": "python2"
  },
  "language_info": {
   "codemirror_mode": {
    "name": "ipython",
    "version": 2
   },
   "file_extension": ".py",
   "mimetype": "text/x-python",
   "name": "python",
   "nbconvert_exporter": "python",
   "pygments_lexer": "ipython2",
   "version": "2.7.11"
  }
 },
 "nbformat": 4,
 "nbformat_minor": 0
}
