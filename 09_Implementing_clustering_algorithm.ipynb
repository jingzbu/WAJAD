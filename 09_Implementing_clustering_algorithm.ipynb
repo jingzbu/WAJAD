{
 "cells": [
  {
   "cell_type": "code",
   "execution_count": 1,
   "metadata": {
    "collapsed": false
   },
   "outputs": [],
   "source": [
    "%run ClusterAlg.py"
   ]
  },
  {
   "cell_type": "code",
   "execution_count": 2,
   "metadata": {
    "collapsed": false
   },
   "outputs": [
    {
     "name": "stdout",
     "output_type": "stream",
     "text": [
      "start KMedians ...\n",
      "start KMedians ...\n",
      "start KMedians ...\n",
      "start KMedians ...\n",
      "start KMedians ...\n",
      "start KMedians ...\n",
      "start KMedians ...\n",
      "start KMedians ...\n",
      "start KMedians ...\n",
      "start KMedians ...\n",
      "cluster,  [0, 0, 1, 1, 1, 2, 0, 1, 0, 1, 1, 0, 0, 2, 2]\n",
      "distToClusterCenter,  [0.0, 0.0, 0.0, 0.0, 0.0, 0.0, 0.0, 0.0, 0.0, 0.0, 0.0, 0.0, 0.0, 0.0, 0.0]\n",
      "total simulation time is 2.828105\n"
     ]
    }
   ],
   "source": [
    "from time import clock\n",
    "tic = clock()\n",
    "for i in xrange(1):\n",
    "    test()\n",
    "toc = clock()\n",
    "print('total simulation time is %f'%(toc-tic))\n",
    "# m = MedianHeap([1.4, 2.1, 5.0, 5.0])\n",
    "# print('median, ', m.get())"
   ]
  },
  {
   "cell_type": "code",
   "execution_count": null,
   "metadata": {
    "collapsed": true
   },
   "outputs": [],
   "source": []
  }
 ],
 "metadata": {
  "kernelspec": {
   "display_name": "Python 2",
   "language": "python",
   "name": "python2"
  },
  "language_info": {
   "codemirror_mode": {
    "name": "ipython",
    "version": 2
   },
   "file_extension": ".py",
   "mimetype": "text/x-python",
   "name": "python",
   "nbconvert_exporter": "python",
   "pygments_lexer": "ipython2",
   "version": "2.7.11"
  }
 },
 "nbformat": 4,
 "nbformat_minor": 0
}
