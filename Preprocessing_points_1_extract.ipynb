{
 "cells": [
  {
   "cell_type": "code",
   "execution_count": 1,
   "metadata": {
    "collapsed": true
   },
   "outputs": [],
   "source": [
    "data_folder = '/home/jzh/Waze/'"
   ]
  },
  {
   "cell_type": "code",
   "execution_count": 2,
   "metadata": {
    "collapsed": true
   },
   "outputs": [],
   "source": [
    "import csv"
   ]
  },
  {
   "cell_type": "code",
   "execution_count": 3,
   "metadata": {
    "collapsed": true
   },
   "outputs": [],
   "source": [
    "with open(data_folder + 'raw_data/waze_points_Dec14_May15.csv', 'rb') as csvfile:\n",
    "    reader = csv.DictReader(csvfile)\n",
    "\n",
    "    uuid_list_Dec14_May15 = []\n",
    "    x_list_Dec14_May15 = []\n",
    "    y_list_Dec14_May15 = []\n",
    "    \n",
    "    for row in reader:\n",
    "        # print(row.keys())\n",
    "        # print(row['uuid'], row['x'], row['y'], row['\\xef\\xbb\\xbfinject_date'])\n",
    "        # print(row['uuid'], row['y'], row['x'])\n",
    "        uuid_list_Dec14_May15.append(row['uuid'])\n",
    "        x_list_Dec14_May15.append(row['x'])\n",
    "        y_list_Dec14_May15.append(row['y'])"
   ]
  },
  {
   "cell_type": "code",
   "execution_count": 4,
   "metadata": {
    "collapsed": true
   },
   "outputs": [],
   "source": [
    "with open(data_folder + 'raw_data/waze_points_Jun15_Dec15.csv', 'rb') as csvfile:\n",
    "    reader = csv.DictReader(csvfile)\n",
    "\n",
    "    uuid_list_Jun15_Dec15 = []\n",
    "    x_list_Jun15_Dec15 = []\n",
    "    y_list_Jun15_Dec15 = []\n",
    "    \n",
    "    for row in reader:\n",
    "        # print(row.keys())\n",
    "        # print(row['uuid'], row['x'], row['y'], row['\\xef\\xbb\\xbfinject_date'])\n",
    "        # print(row['uuid'], row['y'], row['x'])\n",
    "        uuid_list_Jun15_Dec15.append(row['uuid'])\n",
    "        x_list_Jun15_Dec15.append(row['x'])\n",
    "        y_list_Jun15_Dec15.append(row['y'])"
   ]
  },
  {
   "cell_type": "code",
   "execution_count": 5,
   "metadata": {
    "collapsed": true
   },
   "outputs": [],
   "source": [
    "with open(data_folder + 'raw_data/waze_points_Jan16_present.csv', 'rb') as csvfile:\n",
    "    reader = csv.DictReader(csvfile)\n",
    "\n",
    "    uuid_list_Jan16_present = []\n",
    "    x_list_Jan16_present = []\n",
    "    y_list_Jan16_present = []\n",
    "    \n",
    "    for row in reader:\n",
    "        # print(row.keys())\n",
    "        # print(row['uuid'], row['x'], row['y'], row['\\xef\\xbb\\xbfinject_date'])\n",
    "        # print(row['uuid'], row['y'], row['x'])\n",
    "        uuid_list_Jan16_present.append(row['uuid'])\n",
    "        x_list_Jan16_present.append(row['x'])\n",
    "        y_list_Jan16_present.append(row['y'])"
   ]
  },
  {
   "cell_type": "code",
   "execution_count": 6,
   "metadata": {
    "collapsed": true
   },
   "outputs": [],
   "source": [
    "import json"
   ]
  },
  {
   "cell_type": "code",
   "execution_count": 7,
   "metadata": {
    "collapsed": true
   },
   "outputs": [],
   "source": [
    "# Writing JSON data\n",
    "with open(data_folder + '/uuid_list_Dec14_May15.json', 'w') as json_file:\n",
    "    json.dump(uuid_list_Dec14_May15, json_file)\n",
    "\n",
    "with open(data_folder + '/x_list_Dec14_May15.json', 'w') as json_file:\n",
    "    json.dump(x_list_Dec14_May15, json_file)\n",
    "    \n",
    "with open(data_folder + '/y_list_Dec14_May15.json', 'w') as json_file:\n",
    "    json.dump(y_list_Dec14_May15, json_file)"
   ]
  },
  {
   "cell_type": "code",
   "execution_count": 8,
   "metadata": {
    "collapsed": true
   },
   "outputs": [],
   "source": [
    "# Writing JSON data\n",
    "with open(data_folder + '/uuid_list_Jun15_Dec15.json', 'w') as json_file:\n",
    "    json.dump(uuid_list_Jun15_Dec15, json_file)\n",
    "\n",
    "with open(data_folder + '/x_list_Jun15_Dec15.json', 'w') as json_file:\n",
    "    json.dump(x_list_Jun15_Dec15, json_file)\n",
    "    \n",
    "with open(data_folder + '/y_list_Jun15_Dec15.json', 'w') as json_file:\n",
    "    json.dump(y_list_Jun15_Dec15, json_file)"
   ]
  },
  {
   "cell_type": "code",
   "execution_count": 9,
   "metadata": {
    "collapsed": true
   },
   "outputs": [],
   "source": [
    "# Writing JSON data\n",
    "with open(data_folder + '/uuid_list_Jan16_present.json', 'w') as json_file:\n",
    "    json.dump(uuid_list_Jan16_present, json_file)\n",
    "\n",
    "with open(data_folder + '/x_list_Jan16_present.json', 'w') as json_file:\n",
    "    json.dump(x_list_Jan16_present, json_file)\n",
    "    \n",
    "with open(data_folder + '/y_list_Jan16_present.json', 'w') as json_file:\n",
    "    json.dump(y_list_Jan16_present, json_file)"
   ]
  }
 ],
 "metadata": {
  "kernelspec": {
   "display_name": "Python 2",
   "language": "python",
   "name": "python2"
  },
  "language_info": {
   "codemirror_mode": {
    "name": "ipython",
    "version": 2
   },
   "file_extension": ".py",
   "mimetype": "text/x-python",
   "name": "python",
   "nbconvert_exporter": "python",
   "pygments_lexer": "ipython2",
   "version": "2.7.11"
  }
 },
 "nbformat": 4,
 "nbformat_minor": 0
}
