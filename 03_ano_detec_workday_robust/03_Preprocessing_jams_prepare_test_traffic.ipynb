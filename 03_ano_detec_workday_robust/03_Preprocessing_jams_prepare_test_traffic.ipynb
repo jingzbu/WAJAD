{
 "cells": [
  {
   "cell_type": "code",
   "execution_count": 1,
   "metadata": {
    "collapsed": false
   },
   "outputs": [],
   "source": [
    "%run util.py"
   ]
  },
  {
   "cell_type": "code",
   "execution_count": 2,
   "metadata": {
    "collapsed": true
   },
   "outputs": [],
   "source": [
    "data_folder = '/home/jzh/Waze/'"
   ]
  },
  {
   "cell_type": "code",
   "execution_count": 3,
   "metadata": {
    "collapsed": true
   },
   "outputs": [],
   "source": [
    "import csv\n",
    "import json"
   ]
  },
  {
   "cell_type": "code",
   "execution_count": 4,
   "metadata": {
    "collapsed": true
   },
   "outputs": [],
   "source": [
    "# Loading JSON data\n",
    "with open(data_folder + 'points_dict_Mar16.json', 'r') as json_file:\n",
    "    points_dict = json.load(json_file)"
   ]
  },
  {
   "cell_type": "markdown",
   "metadata": {},
   "source": [
    "### Extract jam data for a typical workday, say, 3/16/2016 (Wednesday)\n",
    "The features we are going to use are: \n",
    "(longitude, latitude), numPts, speed, length, startTime.\n",
    "\n",
    "Note that \"(longitude, latitude), numPts\" are from the points data.\n",
    "\n",
    "Convert \"startTime\" to seconds, discarding the date stamp."
   ]
  },
  {
   "cell_type": "code",
   "execution_count": 5,
   "metadata": {
    "collapsed": false
   },
   "outputs": [
    {
     "name": "stdout",
     "output_type": "stream",
     "text": [
      "3882\n"
     ]
    }
   ],
   "source": [
    "from geopy.distance import vincenty\n",
    "\n",
    "##### cf. http://www.latlong.net/\n",
    "BU = (42.351848, -71.110730)\n",
    "\n",
    "with open(data_folder + 'raw_data/waze_jams.csv', 'rb') as csvfile:\n",
    "    reader = csv.DictReader(csvfile)\n",
    "    i = 0\n",
    "    jam_test_data = {}\n",
    "    for row in reader:\n",
    "#         print(row.keys())\n",
    "        # print(row['street'])\n",
    "        if ('2016-03-16' in row['startTime']):\n",
    "            pt = (points_dict[row['uuid']][0][0][1], points_dict[row['uuid']][0][0][0])\n",
    "            if (vincenty(BU, pt).meters < 3e3):\n",
    "#             print(row['uuid'], row['street'], row['endNode'], row['roadType'], row['speed'], row['delay'], \n",
    "#             row['Length'], row['startTime'], row['endTime'], row['\\xef\\xbb\\xbfinject_date'])\n",
    "                key = str(i)\n",
    "                data = {'uuid': row['uuid'],\n",
    "                        'longitude_latitude': points_dict[row['uuid']][0],\n",
    "                        'numPts': points_dict[row['uuid']][1], \n",
    "                        'speed': float(row['speed']), \n",
    "                        'length': float(row['Length']), \n",
    "                        'startTime': convStartTimeToSec(row['startTime'])}\n",
    "                jam_test_data[key] = data\n",
    "                i += 1\n",
    "print(i)"
   ]
  },
  {
   "cell_type": "code",
   "execution_count": 6,
   "metadata": {
    "collapsed": false
   },
   "outputs": [],
   "source": [
    "# Writing JSON data\n",
    "with open(data_folder + 'jam_test_data.json', 'w') as json_file:\n",
    "    json.dump(jam_test_data, json_file)"
   ]
  },
  {
   "cell_type": "code",
   "execution_count": 7,
   "metadata": {
    "collapsed": false
   },
   "outputs": [
    {
     "data": {
      "text/plain": [
       "{'length': 964.0,\n",
       " 'longitude_latitude': [[-71.096804, 42.337314],\n",
       "  [-71.096804, 42.337314],\n",
       "  [-71.096804, 42.337314],\n",
       "  [-71.096804, 42.337314]],\n",
       " 'numPts': 1,\n",
       " 'speed': 2.2944444444444443,\n",
       " 'startTime': 57900.0,\n",
       " 'uuid': '76c898aa-df2b-324b-ac2d-e36eabf37bfa'}"
      ]
     },
     "execution_count": 7,
     "metadata": {},
     "output_type": "execute_result"
    }
   ],
   "source": [
    "jam_test_data['0']"
   ]
  },
  {
   "cell_type": "code",
   "execution_count": null,
   "metadata": {
    "collapsed": true
   },
   "outputs": [],
   "source": []
  }
 ],
 "metadata": {
  "kernelspec": {
   "display_name": "Python 2",
   "language": "python",
   "name": "python2"
  },
  "language_info": {
   "codemirror_mode": {
    "name": "ipython",
    "version": 2
   },
   "file_extension": ".py",
   "mimetype": "text/x-python",
   "name": "python",
   "nbconvert_exporter": "python",
   "pygments_lexer": "ipython2",
   "version": "2.7.12"
  }
 },
 "nbformat": 4,
 "nbformat_minor": 0
}
