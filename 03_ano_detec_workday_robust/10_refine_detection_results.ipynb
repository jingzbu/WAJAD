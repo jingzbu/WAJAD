{
 "cells": [
  {
   "cell_type": "code",
   "execution_count": 1,
   "metadata": {
    "collapsed": true
   },
   "outputs": [],
   "source": [
    "%run util.py"
   ]
  },
  {
   "cell_type": "code",
   "execution_count": 2,
   "metadata": {
    "collapsed": true
   },
   "outputs": [],
   "source": [
    "data_folder = '/home/jzh/Waze/'"
   ]
  },
  {
   "cell_type": "code",
   "execution_count": 3,
   "metadata": {
    "collapsed": true
   },
   "outputs": [],
   "source": [
    "import json"
   ]
  },
  {
   "cell_type": "code",
   "execution_count": 4,
   "metadata": {
    "collapsed": false
   },
   "outputs": [],
   "source": [
    "[time_range, KL_list, etaWC_list, win_jam] = zload(data_folder + 'detec_results.pkz')"
   ]
  },
  {
   "cell_type": "code",
   "execution_count": 5,
   "metadata": {
    "collapsed": false
   },
   "outputs": [
    {
     "data": {
      "text/plain": [
       "(715, 715, 715, [0.0, 2.0])"
      ]
     },
     "execution_count": 5,
     "metadata": {},
     "output_type": "execute_result"
    }
   ],
   "source": [
    "len(time_range), len(KL_list), len(etaWC_list), time_range[0:2]"
   ]
  },
  {
   "cell_type": "code",
   "execution_count": 6,
   "metadata": {
    "collapsed": true
   },
   "outputs": [],
   "source": [
    "potential_ano_list = []\n",
    "for i in range(len(KL_list)):\n",
    "    if KL_list[i] > etaWC_list[i]:\n",
    "        for j in range(len(win_jam[str(i)])):\n",
    "            potential_ano_list.append(win_jam[str(i)][j])"
   ]
  },
  {
   "cell_type": "code",
   "execution_count": 7,
   "metadata": {
    "collapsed": true
   },
   "outputs": [],
   "source": [
    "with open(data_folder + 'sample_path_jam_test_data_sorted.json', 'r') as json_file:\n",
    "    sample_path_jam_test_data_sorted = json.load(json_file)\n",
    "    \n",
    "with open(data_folder + 'sample_path_jam_test_data_sorted_trans.json', 'r') as json_file:\n",
    "    sample_path_jam_test_data_sorted_trans = json.load(json_file)"
   ]
  },
  {
   "cell_type": "code",
   "execution_count": 8,
   "metadata": {
    "collapsed": false
   },
   "outputs": [],
   "source": [
    "lengthTestList = []\n",
    "for i in range(len(sample_path_jam_test_data_sorted)):\n",
    "    lengthTestList.append(sample_path_jam_test_data_sorted[str(i)]['length'])"
   ]
  },
  {
   "cell_type": "code",
   "execution_count": 9,
   "metadata": {
    "collapsed": false
   },
   "outputs": [],
   "source": [
    "mu_length = np.mean(lengthTestList)\n",
    "sigma_length = np.std(lengthTestList)\n",
    "\n",
    "# apply the three-sigma rule\n",
    "thres_length = mu_length + 3 * sigma_length"
   ]
  },
  {
   "cell_type": "code",
   "execution_count": 10,
   "metadata": {
    "collapsed": false
   },
   "outputs": [
    {
     "data": {
      "text/plain": [
       "2073.5183349935064"
      ]
     },
     "execution_count": 10,
     "metadata": {},
     "output_type": "execute_result"
    }
   ],
   "source": [
    "thres_length"
   ]
  },
  {
   "cell_type": "code",
   "execution_count": 11,
   "metadata": {
    "collapsed": false
   },
   "outputs": [
    {
     "data": {
      "text/plain": [
       "(295,\n",
       " {'1285',\n",
       "  '1286',\n",
       "  '1287',\n",
       "  '1288',\n",
       "  '1289',\n",
       "  '1290',\n",
       "  '1291',\n",
       "  '1292',\n",
       "  '1293',\n",
       "  '1294',\n",
       "  '1295',\n",
       "  '1296',\n",
       "  '1297',\n",
       "  '1298',\n",
       "  '1299',\n",
       "  '1300',\n",
       "  '1301',\n",
       "  '1302',\n",
       "  '1303',\n",
       "  '1304',\n",
       "  '1305',\n",
       "  '1306',\n",
       "  '1307',\n",
       "  '1308',\n",
       "  '1309',\n",
       "  '1310',\n",
       "  '1311',\n",
       "  '1312',\n",
       "  '1313',\n",
       "  '2959',\n",
       "  '2960',\n",
       "  '2961',\n",
       "  '2962',\n",
       "  '2963',\n",
       "  '2964',\n",
       "  '2965',\n",
       "  '2966',\n",
       "  '2967',\n",
       "  '2968',\n",
       "  '2969',\n",
       "  '2970',\n",
       "  '2971',\n",
       "  '2972',\n",
       "  '2973',\n",
       "  '2974',\n",
       "  '2975',\n",
       "  '2976',\n",
       "  '2977',\n",
       "  '2978',\n",
       "  '2979',\n",
       "  '2980',\n",
       "  '2981',\n",
       "  '2982',\n",
       "  '2983',\n",
       "  '2984',\n",
       "  '2985',\n",
       "  '2986',\n",
       "  '2987',\n",
       "  '2988',\n",
       "  '2989',\n",
       "  '2990',\n",
       "  '2991',\n",
       "  '2992',\n",
       "  '2993',\n",
       "  '2994',\n",
       "  '2995',\n",
       "  '2996',\n",
       "  '2997',\n",
       "  '2998',\n",
       "  '2999',\n",
       "  '3000',\n",
       "  '3001',\n",
       "  '3002',\n",
       "  '3003',\n",
       "  '3004',\n",
       "  '3005',\n",
       "  '3006',\n",
       "  '3007',\n",
       "  '3008',\n",
       "  '3009',\n",
       "  '3010',\n",
       "  '3011',\n",
       "  '3012',\n",
       "  '3013',\n",
       "  '3014',\n",
       "  '3015',\n",
       "  '3016',\n",
       "  '3017',\n",
       "  '3018',\n",
       "  '3019',\n",
       "  '3020',\n",
       "  '3021',\n",
       "  '3022',\n",
       "  '3023',\n",
       "  '3024',\n",
       "  '3025',\n",
       "  '3026',\n",
       "  '3027',\n",
       "  '3028',\n",
       "  '3029',\n",
       "  '3030',\n",
       "  '3031',\n",
       "  '3032',\n",
       "  '3033',\n",
       "  '3034',\n",
       "  '3035',\n",
       "  '3036',\n",
       "  '3037',\n",
       "  '3038',\n",
       "  '3039',\n",
       "  '3040',\n",
       "  '3041',\n",
       "  '3042',\n",
       "  '3043',\n",
       "  '3044',\n",
       "  '3045',\n",
       "  '3232',\n",
       "  '3233',\n",
       "  '3234',\n",
       "  '3235',\n",
       "  '3236',\n",
       "  '3237',\n",
       "  '3238',\n",
       "  '3239',\n",
       "  '3240',\n",
       "  '3241',\n",
       "  '3242',\n",
       "  '3243',\n",
       "  '3244',\n",
       "  '3245',\n",
       "  '3246',\n",
       "  '3247',\n",
       "  '3248',\n",
       "  '3249',\n",
       "  '3250',\n",
       "  '3251',\n",
       "  '3252',\n",
       "  '3253',\n",
       "  '3254',\n",
       "  '3255',\n",
       "  '3256',\n",
       "  '3257',\n",
       "  '3258',\n",
       "  '3259',\n",
       "  '3260',\n",
       "  '3261',\n",
       "  '3262',\n",
       "  '3263',\n",
       "  '3264',\n",
       "  '3265',\n",
       "  '3266',\n",
       "  '3267',\n",
       "  '3268',\n",
       "  '3269',\n",
       "  '3270',\n",
       "  '3271',\n",
       "  '3272',\n",
       "  '3273',\n",
       "  '3274',\n",
       "  '3275',\n",
       "  '3276',\n",
       "  '3277',\n",
       "  '3278',\n",
       "  '3279',\n",
       "  '3280',\n",
       "  '3281',\n",
       "  '3282',\n",
       "  '3283',\n",
       "  '3284',\n",
       "  '3285',\n",
       "  '3286',\n",
       "  '3287',\n",
       "  '3288',\n",
       "  '3289',\n",
       "  '3290',\n",
       "  '3291',\n",
       "  '3292',\n",
       "  '3293',\n",
       "  '3294',\n",
       "  '3295',\n",
       "  '3296',\n",
       "  '3297',\n",
       "  '3298',\n",
       "  '3299',\n",
       "  '3300',\n",
       "  '3301',\n",
       "  '3302',\n",
       "  '3303',\n",
       "  '3304',\n",
       "  '3305',\n",
       "  '3306',\n",
       "  '3307',\n",
       "  '3308',\n",
       "  '3309',\n",
       "  '3310',\n",
       "  '3311',\n",
       "  '3312',\n",
       "  '3636',\n",
       "  '3637',\n",
       "  '3638',\n",
       "  '3639',\n",
       "  '3640',\n",
       "  '3641',\n",
       "  '3642',\n",
       "  '3643',\n",
       "  '3644',\n",
       "  '3645',\n",
       "  '3646',\n",
       "  '3647',\n",
       "  '3648',\n",
       "  '3649',\n",
       "  '3650',\n",
       "  '3651',\n",
       "  '3652',\n",
       "  '3653',\n",
       "  '3654',\n",
       "  '3655',\n",
       "  '3656',\n",
       "  '3657',\n",
       "  '3658',\n",
       "  '3659',\n",
       "  '3660',\n",
       "  '3661',\n",
       "  '3662',\n",
       "  '3663',\n",
       "  '3664',\n",
       "  '3665',\n",
       "  '3666',\n",
       "  '3667',\n",
       "  '3668',\n",
       "  '3669',\n",
       "  '3670',\n",
       "  '3671',\n",
       "  '3672',\n",
       "  '3673',\n",
       "  '3674',\n",
       "  '3675',\n",
       "  '3676',\n",
       "  '3677',\n",
       "  '3678',\n",
       "  '3679',\n",
       "  '739',\n",
       "  '740',\n",
       "  '741',\n",
       "  '742',\n",
       "  '743',\n",
       "  '744',\n",
       "  '745',\n",
       "  '746',\n",
       "  '747',\n",
       "  '748',\n",
       "  '749',\n",
       "  '750',\n",
       "  '751',\n",
       "  '752',\n",
       "  '753',\n",
       "  '754',\n",
       "  '755',\n",
       "  '756',\n",
       "  '757',\n",
       "  '758',\n",
       "  '759',\n",
       "  '760',\n",
       "  '761',\n",
       "  '762',\n",
       "  '763',\n",
       "  '764',\n",
       "  '765',\n",
       "  '766',\n",
       "  '767',\n",
       "  '768',\n",
       "  '769',\n",
       "  '770',\n",
       "  '771',\n",
       "  '772',\n",
       "  '773',\n",
       "  '774',\n",
       "  '775',\n",
       "  '776',\n",
       "  '777',\n",
       "  '778',\n",
       "  '779',\n",
       "  '780',\n",
       "  '781',\n",
       "  '782',\n",
       "  '783',\n",
       "  '784',\n",
       "  '785',\n",
       "  '786',\n",
       "  '787',\n",
       "  '788',\n",
       "  '789',\n",
       "  '790',\n",
       "  '791',\n",
       "  '792'})"
      ]
     },
     "execution_count": 11,
     "metadata": {},
     "output_type": "execute_result"
    }
   ],
   "source": [
    "len(set(potential_ano_list)), set(potential_ano_list)"
   ]
  },
  {
   "cell_type": "code",
   "execution_count": 12,
   "metadata": {
    "collapsed": false
   },
   "outputs": [
    {
     "data": {
      "text/plain": [
       "3881"
      ]
     },
     "execution_count": 12,
     "metadata": {},
     "output_type": "execute_result"
    }
   ],
   "source": [
    "len(sample_path_jam_test_data_sorted_trans)"
   ]
  },
  {
   "cell_type": "code",
   "execution_count": 13,
   "metadata": {
    "collapsed": true
   },
   "outputs": [],
   "source": [
    "# Refine the detection results; if a jam's length is larger than thres_length,\n",
    "# then the jam is \"indeed\" abnormal.\n",
    "ano_list = []\n",
    "for key in set(potential_ano_list):\n",
    "    if (sample_path_jam_test_data_sorted[key]['length'] > thres_length):\n",
    "        ano_list.append(key)"
   ]
  },
  {
   "cell_type": "code",
   "execution_count": 14,
   "metadata": {
    "collapsed": false
   },
   "outputs": [
    {
     "data": {
      "text/plain": [
       "(3, ['3005', '742', '3657'])"
      ]
     },
     "execution_count": 14,
     "metadata": {},
     "output_type": "execute_result"
    }
   ],
   "source": [
    "len(ano_list), ano_list"
   ]
  },
  {
   "cell_type": "code",
   "execution_count": 15,
   "metadata": {
    "collapsed": true
   },
   "outputs": [],
   "source": [
    "for key in potential_ano_list:\n",
    "    if (sample_path_jam_test_data_sorted[key]['startTime'] > 69900 and \n",
    "        sample_path_jam_test_data_sorted[key]['startTime'] < 69901):\n",
    "        uuid = sample_path_jam_test_data_sorted[key]['uuid']\n",
    "        print(points_dict_Mar16[uuid][0][2])"
   ]
  },
  {
   "cell_type": "code",
   "execution_count": 16,
   "metadata": {
    "collapsed": true
   },
   "outputs": [],
   "source": [
    "with open(data_folder + '/points_dict_Mar16_comp.json', 'r') as json_file:\n",
    "    points_dict_Mar16_comp = json.load(json_file)"
   ]
  },
  {
   "cell_type": "code",
   "execution_count": 17,
   "metadata": {
    "collapsed": false
   },
   "outputs": [
    {
     "data": {
      "text/plain": [
       "[[[-71.123535, 42.334441],\n",
       "  [-71.12364, 42.334329],\n",
       "  [-71.12384, 42.33408],\n",
       "  [-71.124185, 42.333598],\n",
       "  [-71.124659, 42.33294],\n",
       "  [-71.12478, 42.332789],\n",
       "  [-71.12535, 42.33198],\n",
       "  [-71.125498, 42.331798],\n",
       "  [-71.125729, 42.33141],\n",
       "  [-71.12573, 42.33141],\n",
       "  [-71.125835, 42.331218],\n",
       "  [-71.12595, 42.330951],\n",
       "  [-71.126026, 42.330675],\n",
       "  [-71.126057, 42.330385],\n",
       "  [-71.126085, 42.330063]],\n",
       " 15]"
      ]
     },
     "execution_count": 17,
     "metadata": {},
     "output_type": "execute_result"
    }
   ],
   "source": [
    "points_dict_Mar16_comp['50a5d058-2b16-3034-bd41-623f96b2829a']"
   ]
  },
  {
   "cell_type": "code",
   "execution_count": 18,
   "metadata": {
    "collapsed": false
   },
   "outputs": [
    {
     "data": {
      "text/plain": [
       "('-71.128121', '42.359786', 'ACCIDENT', 68700.0, '2016-03-16 19:06:00.000')"
      ]
     },
     "execution_count": 18,
     "metadata": {},
     "output_type": "execute_result"
    }
   ],
   "source": [
    "('-71.128121', '42.359786', 'ACCIDENT', 68700.0, '2016-03-16 19:06:00.000')"
   ]
  },
  {
   "cell_type": "code",
   "execution_count": 19,
   "metadata": {
    "collapsed": false
   },
   "outputs": [
    {
     "data": {
      "text/plain": [
       "771.8372664016924"
      ]
     },
     "execution_count": 19,
     "metadata": {},
     "output_type": "execute_result"
    }
   ],
   "source": [
    "jam1 = [42.359786, -71.128121]\n",
    "\n",
    "jam2 = [42.363025, -71.13641] \n",
    "\n",
    "from geopy.distance import vincenty\n",
    "vincenty(jam1, jam2).meters"
   ]
  }
 ],
 "metadata": {
  "kernelspec": {
   "display_name": "Python 2",
   "language": "python",
   "name": "python2"
  },
  "language_info": {
   "codemirror_mode": {
    "name": "ipython",
    "version": 2
   },
   "file_extension": ".py",
   "mimetype": "text/x-python",
   "name": "python",
   "nbconvert_exporter": "python",
   "pygments_lexer": "ipython2",
   "version": "2.7.11"
  }
 },
 "nbformat": 4,
 "nbformat_minor": 0
}
