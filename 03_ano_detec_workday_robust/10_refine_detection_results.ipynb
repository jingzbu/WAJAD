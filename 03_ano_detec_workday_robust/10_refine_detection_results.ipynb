{
 "cells": [
  {
   "cell_type": "code",
   "execution_count": 44,
   "metadata": {
    "collapsed": true
   },
   "outputs": [],
   "source": [
    "%run util.py"
   ]
  },
  {
   "cell_type": "code",
   "execution_count": 45,
   "metadata": {
    "collapsed": true
   },
   "outputs": [],
   "source": [
    "data_folder = '/home/jzh/Waze/'"
   ]
  },
  {
   "cell_type": "code",
   "execution_count": 46,
   "metadata": {
    "collapsed": true
   },
   "outputs": [],
   "source": [
    "import json"
   ]
  },
  {
   "cell_type": "code",
   "execution_count": 47,
   "metadata": {
    "collapsed": false
   },
   "outputs": [],
   "source": [
    "[distToClusterCenter, loc_label, loc_centroid] = zload(data_folder + 'loc_quant_results.pkz')\n",
    "[time_range, KL_list, etaWC_list, win_jam] = zload(data_folder + 'detec_results.pkz')\n",
    "para_dict = zload(data_folder + 'para_dict.pkz')"
   ]
  },
  {
   "cell_type": "code",
   "execution_count": 48,
   "metadata": {
    "collapsed": false
   },
   "outputs": [
    {
     "data": {
      "text/plain": [
       "[[-71.085217,\n",
       "  42.344827,\n",
       "  -71.085217,\n",
       "  42.347836,\n",
       "  -71.0831385,\n",
       "  42.344827,\n",
       "  -71.0831385,\n",
       "  42.347836],\n",
       " [-71.110251,\n",
       "  42.335729,\n",
       "  -71.110251,\n",
       "  42.338452,\n",
       "  -71.106477,\n",
       "  42.335729,\n",
       "  -71.106477,\n",
       "  42.338452],\n",
       " [-71.111864,\n",
       "  42.364303,\n",
       "  -71.111864,\n",
       "  42.366344,\n",
       "  -71.105036,\n",
       "  42.364303,\n",
       "  -71.105036,\n",
       "  42.366344]]"
      ]
     },
     "execution_count": 48,
     "metadata": {},
     "output_type": "execute_result"
    }
   ],
   "source": [
    "loc_centroid"
   ]
  },
  {
   "cell_type": "code",
   "execution_count": 49,
   "metadata": {
    "collapsed": false
   },
   "outputs": [],
   "source": [
    "latitudes = []\n",
    "\n",
    "for i in range(3):\n",
    "    for j in range(4):\n",
    "        latitudes.append(loc_centroid[i][2*j+1])"
   ]
  },
  {
   "cell_type": "code",
   "execution_count": 50,
   "metadata": {
    "collapsed": false
   },
   "outputs": [],
   "source": [
    "longitudes = []\n",
    "\n",
    "for i in range(3):\n",
    "    for j in range(4):\n",
    "        longitudes.append(loc_centroid[i][2*j])"
   ]
  },
  {
   "cell_type": "code",
   "execution_count": 51,
   "metadata": {
    "collapsed": false
   },
   "outputs": [],
   "source": [
    "import gmplot\n",
    "\n",
    "gmap = gmplot.GoogleMapPlotter(42.351848, -71.110730, 13)\n",
    "\n",
    "gmap.scatter([42.351848], [-71.110730], c='g', marker=True)\n",
    "\n",
    "gmap.circle(42.351848, -71.110730, 3000, '#ffefef', ew=4)\n",
    "\n",
    "gmap.scatter(latitudes, longitudes, c='r', marker=True)\n",
    "\n",
    "gmap.draw('./loc_clusters.html')"
   ]
  },
  {
   "cell_type": "code",
   "execution_count": 52,
   "metadata": {
    "collapsed": false
   },
   "outputs": [
    {
     "data": {
      "text/plain": [
       "(715, 715, 715, [0.0, 2.0])"
      ]
     },
     "execution_count": 52,
     "metadata": {},
     "output_type": "execute_result"
    }
   ],
   "source": [
    "len(time_range), len(KL_list), len(etaWC_list), time_range[0:2]"
   ]
  },
  {
   "cell_type": "code",
   "execution_count": 53,
   "metadata": {
    "collapsed": true
   },
   "outputs": [],
   "source": [
    "win_size = para_dict['win_size']\n",
    "\n",
    "alarmWinIdxList = []\n",
    "alarmWinIdxStartTimeDict = {}\n",
    "potential_ano_list = []\n",
    "for i in range(len(KL_list)):\n",
    "    if KL_list[i] > etaWC_list[i]:\n",
    "        alarmWinIdxList.append(i)\n",
    "        alarmWinIdxStartTimeDict[i] = 60 * time_range[i] + win_size\n",
    "        for j in range(len(win_jam[str(i)])):\n",
    "            potential_ano_list.append(win_jam[str(i)][j])"
   ]
  },
  {
   "cell_type": "code",
   "execution_count": 106,
   "metadata": {
    "collapsed": false
   },
   "outputs": [
    {
     "data": {
      "text/plain": [
       "(0.45456054596683332, 0.342963671068031, 736.0, 0.0, 600, 44760)"
      ]
     },
     "execution_count": 106,
     "metadata": {},
     "output_type": "execute_result"
    }
   ],
   "source": [
    "KL_list[368], etaWC_list[368], time_range[368], time_range[0], win_size, 60 * 736 + 600"
   ]
  },
  {
   "cell_type": "code",
   "execution_count": 54,
   "metadata": {
    "collapsed": false,
    "scrolled": true
   },
   "outputs": [
    {
     "data": {
      "text/plain": [
       "({368: 44760.0,\n",
       "  369: 44880.0,\n",
       "  370: 45000.0,\n",
       "  371: 45120.0,\n",
       "  372: 45240.0,\n",
       "  423: 51360.0,\n",
       "  424: 51480.0,\n",
       "  425: 51600.0,\n",
       "  426: 51720.0,\n",
       "  427: 51840.0,\n",
       "  638: 77160.0,\n",
       "  639: 77280.0,\n",
       "  640: 77400.0,\n",
       "  641: 77520.0,\n",
       "  642: 77640.0,\n",
       "  653: 78960.0,\n",
       "  654: 79080.0,\n",
       "  655: 79200.0,\n",
       "  656: 79320.0,\n",
       "  657: 79440.0,\n",
       "  683: 82560.0,\n",
       "  684: 82680.0,\n",
       "  685: 82800.0,\n",
       "  686: 82920.0,\n",
       "  687: 83040.0},\n",
       " [368,\n",
       "  369,\n",
       "  370,\n",
       "  371,\n",
       "  372,\n",
       "  423,\n",
       "  424,\n",
       "  425,\n",
       "  426,\n",
       "  427,\n",
       "  638,\n",
       "  639,\n",
       "  640,\n",
       "  641,\n",
       "  642,\n",
       "  653,\n",
       "  654,\n",
       "  655,\n",
       "  656,\n",
       "  657,\n",
       "  683,\n",
       "  684,\n",
       "  685,\n",
       "  686,\n",
       "  687])"
      ]
     },
     "execution_count": 54,
     "metadata": {},
     "output_type": "execute_result"
    }
   ],
   "source": [
    "alarmWinIdxStartTimeDict, alarmWinIdxList"
   ]
  },
  {
   "cell_type": "code",
   "execution_count": 55,
   "metadata": {
    "collapsed": false
   },
   "outputs": [],
   "source": [
    "with open(data_folder + 'sample_path_jam_test_data_sorted.json', 'r') as json_file:\n",
    "    sample_path_jam_test_data_sorted = json.load(json_file)\n",
    "    \n",
    "with open(data_folder + 'sample_path_jam_test_data_sorted_trans.json', 'r') as json_file:\n",
    "    sample_path_jam_test_data_sorted_trans = json.load(json_file)\n",
    "    \n",
    "with open(data_folder + 'sample_path_jam_ref_data_sorted.json', 'r') as json_file:\n",
    "    sample_path_jam_ref_data_sorted = json.load(json_file)\n",
    "    \n",
    "with open(data_folder + 'sample_path_jam_ref_data_sorted_trans.json', 'r') as json_file:\n",
    "    sample_path_jam_ref_data_sorted_trans = json.load(json_file)"
   ]
  },
  {
   "cell_type": "code",
   "execution_count": 56,
   "metadata": {
    "collapsed": false
   },
   "outputs": [],
   "source": [
    "lengthTestList = []\n",
    "for i in range(len(sample_path_jam_ref_data_sorted)):\n",
    "    lengthTestList.append(sample_path_jam_ref_data_sorted[str(i)]['length'])"
   ]
  },
  {
   "cell_type": "code",
   "execution_count": 107,
   "metadata": {
    "collapsed": false
   },
   "outputs": [],
   "source": [
    "mu_length = np.mean(lengthTestList)\n",
    "sigma_length = np.std(lengthTestList)\n",
    "\n",
    "# apply the three-sigma rule\n",
    "thres_length = mu_length + 3 * sigma_length"
   ]
  },
  {
   "cell_type": "code",
   "execution_count": 108,
   "metadata": {
    "collapsed": false
   },
   "outputs": [
    {
     "data": {
      "text/plain": [
       "1921.1039361100393"
      ]
     },
     "execution_count": 108,
     "metadata": {},
     "output_type": "execute_result"
    }
   ],
   "source": [
    "thres_length"
   ]
  },
  {
   "cell_type": "code",
   "execution_count": 109,
   "metadata": {
    "collapsed": false,
    "scrolled": true
   },
   "outputs": [],
   "source": [
    "# len(set(potential_ano_list)), set(potential_ano_list)"
   ]
  },
  {
   "cell_type": "code",
   "execution_count": 110,
   "metadata": {
    "collapsed": false
   },
   "outputs": [
    {
     "data": {
      "text/plain": [
       "3881"
      ]
     },
     "execution_count": 110,
     "metadata": {},
     "output_type": "execute_result"
    }
   ],
   "source": [
    "len(sample_path_jam_test_data_sorted_trans)"
   ]
  },
  {
   "cell_type": "code",
   "execution_count": 111,
   "metadata": {
    "collapsed": true
   },
   "outputs": [],
   "source": [
    "# Refine the detection results; if a jam's length is larger than thres_length,\n",
    "# then the jam is \"indeed\" abnormal.\n",
    "ano_list = []\n",
    "for key in set(potential_ano_list):\n",
    "    if (sample_path_jam_test_data_sorted[key]['length'] > thres_length):\n",
    "        ano_list.append(key)"
   ]
  },
  {
   "cell_type": "code",
   "execution_count": 112,
   "metadata": {
    "collapsed": false
   },
   "outputs": [
    {
     "data": {
      "text/plain": [
       "(4, ['788', '3005', '742', '3657'])"
      ]
     },
     "execution_count": 112,
     "metadata": {},
     "output_type": "execute_result"
    }
   ],
   "source": [
    "len(ano_list), ano_list"
   ]
  },
  {
   "cell_type": "code",
   "execution_count": 113,
   "metadata": {
    "collapsed": false
   },
   "outputs": [],
   "source": [
    "anoStartTimeDict = {}\n",
    "for key in ano_list:\n",
    "    anoStartTimeDict[key] = sample_path_jam_test_data_sorted[key]['startTime'] / 60.0"
   ]
  },
  {
   "cell_type": "code",
   "execution_count": 114,
   "metadata": {
    "collapsed": false
   },
   "outputs": [
    {
     "data": {
      "text/plain": [
       "{'3005': 1285.0039599999998,\n",
       " '3657': 1375.0031683333334,\n",
       " '742': 745.0015683333334,\n",
       " '788': 745.005035}"
      ]
     },
     "execution_count": 114,
     "metadata": {},
     "output_type": "execute_result"
    }
   ],
   "source": [
    "anoStartTimeDict"
   ]
  },
  {
   "cell_type": "code",
   "execution_count": 115,
   "metadata": {
    "collapsed": false
   },
   "outputs": [],
   "source": [
    "anoFirstAlarmTimeDict = {}\n",
    "for key in ano_list:\n",
    "    for winIdx in alarmWinIdxList:\n",
    "        if key in win_jam[str(winIdx)]:\n",
    "            anoFirstAlarmTimeDict[key] = alarmWinIdxStartTimeDict[winIdx] / 60.0\n",
    "            break"
   ]
  },
  {
   "cell_type": "code",
   "execution_count": 121,
   "metadata": {
    "collapsed": false
   },
   "outputs": [
    {
     "data": {
      "text/plain": [
       "(44700.0239, 44700.3521)"
      ]
     },
     "execution_count": 121,
     "metadata": {},
     "output_type": "execute_result"
    }
   ],
   "source": [
    "sample_path_jam_test_data_sorted['739']['startTime'], sample_path_jam_test_data_sorted['792']['startTime']"
   ]
  },
  {
   "cell_type": "code",
   "execution_count": 116,
   "metadata": {
    "collapsed": false
   },
   "outputs": [
    {
     "data": {
      "text/plain": [
       "{'3005': 1286.0, '3657': 1376.0, '742': 746.0, '788': 746.0}"
      ]
     },
     "execution_count": 116,
     "metadata": {},
     "output_type": "execute_result"
    }
   ],
   "source": [
    "anoFirstAlarmTimeDict"
   ]
  },
  {
   "cell_type": "code",
   "execution_count": 117,
   "metadata": {
    "collapsed": false
   },
   "outputs": [
    {
     "data": {
      "text/plain": [
       "{368: 44760.0,\n",
       " 369: 44880.0,\n",
       " 370: 45000.0,\n",
       " 371: 45120.0,\n",
       " 372: 45240.0,\n",
       " 423: 51360.0,\n",
       " 424: 51480.0,\n",
       " 425: 51600.0,\n",
       " 426: 51720.0,\n",
       " 427: 51840.0,\n",
       " 638: 77160.0,\n",
       " 639: 77280.0,\n",
       " 640: 77400.0,\n",
       " 641: 77520.0,\n",
       " 642: 77640.0,\n",
       " 653: 78960.0,\n",
       " 654: 79080.0,\n",
       " 655: 79200.0,\n",
       " 656: 79320.0,\n",
       " 657: 79440.0,\n",
       " 683: 82560.0,\n",
       " 684: 82680.0,\n",
       " 685: 82800.0,\n",
       " 686: 82920.0,\n",
       " 687: 83040.0}"
      ]
     },
     "execution_count": 117,
     "metadata": {},
     "output_type": "execute_result"
    }
   ],
   "source": [
    "alarmWinIdxStartTimeDict"
   ]
  },
  {
   "cell_type": "code",
   "execution_count": null,
   "metadata": {
    "collapsed": true
   },
   "outputs": [],
   "source": []
  }
 ],
 "metadata": {
  "kernelspec": {
   "display_name": "Python 2",
   "language": "python",
   "name": "python2"
  },
  "language_info": {
   "codemirror_mode": {
    "name": "ipython",
    "version": 2
   },
   "file_extension": ".py",
   "mimetype": "text/x-python",
   "name": "python",
   "nbconvert_exporter": "python",
   "pygments_lexer": "ipython2",
   "version": "2.7.12"
  }
 },
 "nbformat": 4,
 "nbformat_minor": 0
}
