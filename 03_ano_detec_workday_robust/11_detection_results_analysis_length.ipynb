{
 "cells": [
  {
   "cell_type": "code",
   "execution_count": 1,
   "metadata": {
    "collapsed": false
   },
   "outputs": [],
   "source": [
    "addpath('/home/jzh/Research/Anomaly_Detection/WAJAD/03_ano_detec_workday_robust')\n",
    "addpath('/home/jzh/jsonlab-1.2')"
   ]
  },
  {
   "cell_type": "code",
   "execution_count": 2,
   "metadata": {
    "collapsed": true
   },
   "outputs": [],
   "source": [
    "test_data = '/home/jzh/Waze/sample_path_jam_test_data_sorted_length.json';\n",
    "\n",
    "points_data = 'points_dict_Mar_16_2016.mat';\n",
    "\n",
    "alerts_data = 'filteredAlerts.mat';\n",
    "\n",
    "ano_data = 'anoDict_length.mat';"
   ]
  },
  {
   "cell_type": "code",
   "execution_count": 3,
   "metadata": {
    "collapsed": false
   },
   "outputs": [
    {
     "name": "stdout",
     "output_type": "stream",
     "text": [
      "The table presented below has the following information in each column:  Refined Indices, Minimum Distances, Time Stamp Differences, Longitude of Corresponding Accident, Latitude of Corresponding Accident, and Accident Timestamp. \n",
      "\n",
      "\n",
      "finalmatrix =\n",
      "\n",
      "  Columns 1 through 3\n",
      "\n",
      "                      3005          2.74924171089568         0.237599999993108\n",
      "                       788          37.4581336451656         0.302100000000792\n",
      "                      3657          22.2075158414103         0.190100000007078\n",
      "                       742          9.05865650973078        0.0941000000020722\n",
      "\n",
      "  Columns 4 through 6\n",
      "\n",
      "                 -71.10778                 42.349125                     77100\n",
      "                -71.117963                 42.361951                     44700\n",
      "                -71.119172                 42.355691                     82500\n",
      "                -71.117442                 42.353782                     44700\n",
      "\n",
      "\n",
      "TPR_length =\n",
      "\n",
      "   100\n",
      "\n",
      "\n",
      "ValidIndicesMatrix_length =\n",
      "\n",
      "  Columns 1 through 3\n",
      "\n",
      "                      3005                 -71.10778                 42.349125\n",
      "                       788                -71.117963                 42.361951\n",
      "                      3657                -71.119172                 42.355691\n",
      "                       742                -71.117442                 42.353782\n",
      "\n",
      "  Column 4\n",
      "\n",
      "                     77100\n",
      "                     44700\n",
      "                     82500\n",
      "                     44700\n"
     ]
    }
   ],
   "source": [
    "[TPR_length, ValidIndicesMatrix_length] = anomalyDataInterpretation(500, 10*60, test_data, points_data, ...\n",
    "alerts_data, ano_data)"
   ]
  },
  {
   "cell_type": "code",
   "execution_count": null,
   "metadata": {
    "collapsed": true
   },
   "outputs": [],
   "source": []
  }
 ],
 "metadata": {
  "kernelspec": {
   "display_name": "Matlab",
   "language": "matlab",
   "name": "matlab"
  },
  "language_info": {
   "codemirror_mode": "octave",
   "file_extension": ".m",
   "help_links": [
    {
     "text": "MetaKernel Magics",
     "url": "https://github.com/calysto/metakernel/blob/master/metakernel/magics/README.md"
    }
   ],
   "mimetype": "text/x-matlab",
   "name": "matlab",
   "version": "0.8.0"
  }
 },
 "nbformat": 4,
 "nbformat_minor": 0
}
