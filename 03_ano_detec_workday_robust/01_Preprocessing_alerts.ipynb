{
 "cells": [
  {
   "cell_type": "code",
   "execution_count": 1,
   "metadata": {
    "collapsed": false
   },
   "outputs": [],
   "source": [
    "%run util.py"
   ]
  },
  {
   "cell_type": "code",
   "execution_count": 2,
   "metadata": {
    "collapsed": true
   },
   "outputs": [],
   "source": [
    "data_folder = '/home/jzh/Waze/'"
   ]
  },
  {
   "cell_type": "code",
   "execution_count": 3,
   "metadata": {
    "collapsed": true
   },
   "outputs": [],
   "source": [
    "import csv"
   ]
  },
  {
   "cell_type": "code",
   "execution_count": 4,
   "metadata": {
    "collapsed": false,
    "scrolled": true
   },
   "outputs": [],
   "source": [
    "from geopy.distance import vincenty\n",
    "\n",
    "##### cf. http://www.latlong.net/\n",
    "BU = (42.351848, -71.110730)\n",
    "radius = 3e3\n",
    "\n",
    "filteredAlerts = {}\n",
    "\n",
    "with open(data_folder + 'raw_data/waze_alerts.csv', 'rb') as csvfile:\n",
    "    reader = csv.DictReader(csvfile)\n",
    "    i = 0\n",
    "    for row in reader:\n",
    "        if ('2016-03-16' in row['startTime']):\n",
    "            pt = (row['locy'], row['locx'])\n",
    "            if ((vincenty(BU, pt).meters < radius)): \n",
    "                key = 'idx_' + str(i)\n",
    "#                 and (row['type'] == 'ACCIDENT')):\n",
    "                longitude = row['locx']\n",
    "                latitude = row['locy']\n",
    "                alertType = row['type']\n",
    "                startTime = convStartTimeToSec(row['startTime'])\n",
    "                endTime = convStartTimeToSec(row['endTime'])\n",
    "                data = {'longitude':longitude, 'latitude':latitude, 'alertType':alertType,\n",
    "                       'startTime':startTime, 'endTime':endTime}\n",
    "                filteredAlerts[key] = data\n",
    "#                 print(row['locx'], row['locy'], row['type'], \\\n",
    "#                       convStartTimeToSec(row['startTime']), convStartTimeToSec(row['endTime']))\n",
    "                i += 1\n",
    "# print(i)"
   ]
  },
  {
   "cell_type": "code",
   "execution_count": 5,
   "metadata": {
    "collapsed": false
   },
   "outputs": [],
   "source": [
    "import scipy.io\n",
    "\n",
    "scipy.io.savemat(data_folder + '/filteredAlerts.mat', filteredAlerts)"
   ]
  },
  {
   "cell_type": "code",
   "execution_count": null,
   "metadata": {
    "collapsed": true
   },
   "outputs": [],
   "source": []
  }
 ],
 "metadata": {
  "kernelspec": {
   "display_name": "Python 2",
   "language": "python",
   "name": "python2"
  },
  "language_info": {
   "codemirror_mode": {
    "name": "ipython",
    "version": 2
   },
   "file_extension": ".py",
   "mimetype": "text/x-python",
   "name": "python",
   "nbconvert_exporter": "python",
   "pygments_lexer": "ipython2",
   "version": "2.7.12"
  }
 },
 "nbformat": 4,
 "nbformat_minor": 0
}
