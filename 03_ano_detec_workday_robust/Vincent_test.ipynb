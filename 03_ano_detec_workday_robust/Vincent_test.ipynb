{
 "cells": [
  {
   "cell_type": "code",
   "execution_count": 1,
   "metadata": {
    "collapsed": false
   },
   "outputs": [],
   "source": [
    "import pandas"
   ]
  },
  {
   "cell_type": "code",
   "execution_count": 2,
   "metadata": {
    "collapsed": false
   },
   "outputs": [],
   "source": [
    "import pandas as pd\n",
    "import random\n",
    "\n",
    "#Iterable\n",
    "list_data = [10, 20, 30, 20, 15, 30, 45]\n",
    "\n",
    "#Dicts of iterables\n",
    "cat_1 = ['y1', 'y2', 'y3', 'y4']\n",
    "index_1 = range(0, 21, 1)\n",
    "multi_iter1 = {'index': index_1}\n",
    "for cat in cat_1:\n",
    "    multi_iter1[cat] = [random.randint(10, 100) for x in index_1]\n",
    "\n",
    "cat_2 = ['y' + str(x) for x in range(0, 10, 1)]\n",
    "index_2 = range(1, 21, 1)\n",
    "multi_iter2 = {'index': index_2}\n",
    "for cat in cat_2:\n",
    "    multi_iter2[cat] = [random.randint(10, 100) for x in index_2]\n",
    "\n",
    "# #Pandas\n",
    "# import pandas as pd\n",
    "\n",
    "# farm_1 = {'apples': 10, 'berries': 32, 'squash': 21, 'melons': 13, 'corn': 18}\n",
    "# farm_2 = {'apples': 15, 'berries': 43, 'squash': 17, 'melons': 10, 'corn': 22}\n",
    "# farm_3 = {'apples': 6, 'berries': 24, 'squash': 22, 'melons': 16, 'corn': 30}\n",
    "# farm_4 = {'apples': 12, 'berries': 30, 'squash': 15, 'melons': 9, 'corn': 15}\n",
    "\n",
    "# farm_data = [farm_1, farm_2, farm_3, farm_4]\n",
    "# farm_index = ['Farm 1', 'Farm 2', 'Farm 3', 'Farm 4']\n",
    "# df_farm = pd.DataFrame(farm_data, index=farm_index)\n",
    "\n",
    "# #As DataFrames\n",
    "# index_3 = multi_iter2.pop('index')\n",
    "# df_1 = pd.DataFrame(multi_iter2, index=index_3)\n",
    "# df_1 = df_1.reindex(columns=sorted(df_1.columns))\n",
    "\n",
    "# cat_4 = ['Metric_' + str(x) for x in range(0, 10, 1)]\n",
    "# index_4 = ['Data 1', 'Data 2', 'Data 3', 'Data 4']\n",
    "# data_3 = {}\n",
    "# for cat in cat_4:\n",
    "#     data_3[cat] = [random.randint(10, 100) for x in index_4]\n",
    "# df_2 = pd.DataFrame(data_3, index=index_4)\n",
    "\n",
    "# import pandas.io.data as web\n",
    "# all_data = {}\n",
    "# for ticker in ['AAPL', 'GOOG', 'IBM', 'YHOO', 'MSFT']:\n",
    "#     all_data[ticker] = web.get_data_yahoo(ticker, '1/1/2010', '1/1/2013')\n",
    "# price = pd.DataFrame({tic: data['Adj Close']\n",
    "#                       for tic, data in all_data.iteritems()})"
   ]
  },
  {
   "cell_type": "code",
   "execution_count": 3,
   "metadata": {
    "collapsed": false
   },
   "outputs": [],
   "source": [
    "import vincent\n",
    "bar = vincent.Bar(list_data)"
   ]
  },
  {
   "cell_type": "code",
   "execution_count": 4,
   "metadata": {
    "collapsed": false
   },
   "outputs": [
    {
     "data": {
      "text/html": [
       "\n",
       "           <script>\n",
       "               \n",
       "                function vct_load_lib(url, callback){\n",
       "                      if(typeof d3 !== 'undefined' &&\n",
       "                         url === 'http://d3js.org/d3.v3.min.js'){\n",
       "                        callback()\n",
       "                      }\n",
       "                      var s = document.createElement('script');\n",
       "                      s.src = url;\n",
       "                      s.async = true;\n",
       "                      s.onreadystatechange = s.onload = callback;\n",
       "                      s.onerror = function(){\n",
       "                        console.warn(\"failed to load library \" + url);\n",
       "                        };\n",
       "                      document.getElementsByTagName(\"head\")[0].appendChild(s);\n",
       "                };\n",
       "                var vincent_event = new CustomEvent(\n",
       "                  \"vincent_libs_loaded\",\n",
       "                  {bubbles: true, cancelable: true}\n",
       "                );\n",
       "                \n",
       "               function load_all_libs(){\n",
       "                  console.log('Loading Vincent libs...')\n",
       "                  vct_load_lib('http://d3js.org/d3.v3.min.js', function(){\n",
       "                  vct_load_lib('http://d3js.org/d3.geo.projection.v0.min.js', function(){\n",
       "                  vct_load_lib('http://wrobstory.github.io/d3-cloud/d3.layout.cloud.js', function(){\n",
       "                  vct_load_lib('http://wrobstory.github.io/vega/vega.v1.3.3.js', function(){\n",
       "                  window.dispatchEvent(vincent_event);\n",
       "                  });\n",
       "                  });\n",
       "                  });\n",
       "                  });\n",
       "               };\n",
       "               if(typeof define === \"function\" && define.amd){\n",
       "                    if (window['d3'] === undefined ||\n",
       "                        window['topojson'] === undefined){\n",
       "                        require.config(\n",
       "                            {paths: {\n",
       "                              d3: 'http://d3js.org/d3.v3.min',\n",
       "                              topojson: 'http://d3js.org/topojson.v1.min'\n",
       "                              }\n",
       "                            }\n",
       "                          );\n",
       "                        require([\"d3\"], function(d3){\n",
       "                            console.log('Loading Vincent from require.js...')\n",
       "                            window.d3 = d3;\n",
       "                            require([\"topojson\"], function(topojson){\n",
       "                                window.topojson = topojson;\n",
       "                                load_all_libs();\n",
       "                            });\n",
       "                        });\n",
       "                    } else {\n",
       "                        load_all_libs();\n",
       "                    };\n",
       "               }else{\n",
       "                    console.log('Require.js not found, loading manually...')\n",
       "                    load_all_libs();\n",
       "               };\n",
       "\n",
       "           </script>"
      ],
      "text/plain": [
       "<IPython.core.display.HTML object>"
      ]
     },
     "metadata": {},
     "output_type": "display_data"
    },
    {
     "data": {
      "text/html": [
       "<div id=\"visf20adde0bce141579a6ab2dbabe70c20\"></div>\n",
       "<script>\n",
       "   ( function() {\n",
       "     var _do_plot = function() {\n",
       "       if (typeof vg === 'undefined') {\n",
       "         window.addEventListener('vincent_libs_loaded', _do_plot)\n",
       "         return;\n",
       "       }\n",
       "       vg.parse.spec({\"axes\": [{\"scale\": \"x\", \"title\": \"Index\", \"type\": \"x\"}, {\"scale\": \"y\", \"title\": \"Value\", \"type\": \"y\"}], \"data\": [{\"name\": \"table\", \"values\": [{\"col\": \"y1\", \"idx\": 0, \"val\": 20}, {\"col\": \"y1\", \"idx\": 1, \"val\": 61}, {\"col\": \"y1\", \"idx\": 2, \"val\": 10}, {\"col\": \"y1\", \"idx\": 3, \"val\": 65}, {\"col\": \"y1\", \"idx\": 4, \"val\": 54}, {\"col\": \"y1\", \"idx\": 5, \"val\": 35}, {\"col\": \"y1\", \"idx\": 6, \"val\": 47}, {\"col\": \"y1\", \"idx\": 7, \"val\": 67}, {\"col\": \"y1\", \"idx\": 8, \"val\": 98}, {\"col\": \"y1\", \"idx\": 9, \"val\": 13}, {\"col\": \"y1\", \"idx\": 10, \"val\": 59}, {\"col\": \"y1\", \"idx\": 11, \"val\": 45}, {\"col\": \"y1\", \"idx\": 12, \"val\": 18}, {\"col\": \"y1\", \"idx\": 13, \"val\": 86}, {\"col\": \"y1\", \"idx\": 14, \"val\": 47}, {\"col\": \"y1\", \"idx\": 15, \"val\": 59}, {\"col\": \"y1\", \"idx\": 16, \"val\": 28}, {\"col\": \"y1\", \"idx\": 17, \"val\": 55}, {\"col\": \"y1\", \"idx\": 18, \"val\": 40}, {\"col\": \"y1\", \"idx\": 19, \"val\": 52}, {\"col\": \"y1\", \"idx\": 20, \"val\": 90}, {\"col\": \"y2\", \"idx\": 0, \"val\": 16}, {\"col\": \"y2\", \"idx\": 1, \"val\": 39}, {\"col\": \"y2\", \"idx\": 2, \"val\": 44}, {\"col\": \"y2\", \"idx\": 3, \"val\": 89}, {\"col\": \"y2\", \"idx\": 4, \"val\": 52}, {\"col\": \"y2\", \"idx\": 5, \"val\": 44}, {\"col\": \"y2\", \"idx\": 6, \"val\": 40}, {\"col\": \"y2\", \"idx\": 7, \"val\": 51}, {\"col\": \"y2\", \"idx\": 8, \"val\": 49}, {\"col\": \"y2\", \"idx\": 9, \"val\": 94}, {\"col\": \"y2\", \"idx\": 10, \"val\": 27}, {\"col\": \"y2\", \"idx\": 11, \"val\": 22}, {\"col\": \"y2\", \"idx\": 12, \"val\": 51}, {\"col\": \"y2\", \"idx\": 13, \"val\": 55}, {\"col\": \"y2\", \"idx\": 14, \"val\": 92}, {\"col\": \"y2\", \"idx\": 15, \"val\": 86}, {\"col\": \"y2\", \"idx\": 16, \"val\": 55}, {\"col\": \"y2\", \"idx\": 17, \"val\": 42}, {\"col\": \"y2\", \"idx\": 18, \"val\": 100}, {\"col\": \"y2\", \"idx\": 19, \"val\": 38}, {\"col\": \"y2\", \"idx\": 20, \"val\": 33}, {\"col\": \"y3\", \"idx\": 0, \"val\": 78}, {\"col\": \"y3\", \"idx\": 1, \"val\": 22}, {\"col\": \"y3\", \"idx\": 2, \"val\": 75}, {\"col\": \"y3\", \"idx\": 3, \"val\": 47}, {\"col\": \"y3\", \"idx\": 4, \"val\": 56}, {\"col\": \"y3\", \"idx\": 5, \"val\": 56}, {\"col\": \"y3\", \"idx\": 6, \"val\": 54}, {\"col\": \"y3\", \"idx\": 7, \"val\": 98}, {\"col\": \"y3\", \"idx\": 8, \"val\": 12}, {\"col\": \"y3\", \"idx\": 9, \"val\": 12}, {\"col\": \"y3\", \"idx\": 10, \"val\": 30}, {\"col\": \"y3\", \"idx\": 11, \"val\": 90}, {\"col\": \"y3\", \"idx\": 12, \"val\": 35}, {\"col\": \"y3\", \"idx\": 13, \"val\": 58}, {\"col\": \"y3\", \"idx\": 14, \"val\": 74}, {\"col\": \"y3\", \"idx\": 15, \"val\": 71}, {\"col\": \"y3\", \"idx\": 16, \"val\": 32}, {\"col\": \"y3\", \"idx\": 17, \"val\": 44}, {\"col\": \"y3\", \"idx\": 18, \"val\": 74}, {\"col\": \"y3\", \"idx\": 19, \"val\": 34}, {\"col\": \"y3\", \"idx\": 20, \"val\": 27}, {\"col\": \"y4\", \"idx\": 0, \"val\": 36}, {\"col\": \"y4\", \"idx\": 1, \"val\": 84}, {\"col\": \"y4\", \"idx\": 2, \"val\": 92}, {\"col\": \"y4\", \"idx\": 3, \"val\": 15}, {\"col\": \"y4\", \"idx\": 4, \"val\": 41}, {\"col\": \"y4\", \"idx\": 5, \"val\": 36}, {\"col\": \"y4\", \"idx\": 6, \"val\": 61}, {\"col\": \"y4\", \"idx\": 7, \"val\": 15}, {\"col\": \"y4\", \"idx\": 8, \"val\": 39}, {\"col\": \"y4\", \"idx\": 9, \"val\": 92}, {\"col\": \"y4\", \"idx\": 10, \"val\": 30}, {\"col\": \"y4\", \"idx\": 11, \"val\": 49}, {\"col\": \"y4\", \"idx\": 12, \"val\": 56}, {\"col\": \"y4\", \"idx\": 13, \"val\": 29}, {\"col\": \"y4\", \"idx\": 14, \"val\": 44}, {\"col\": \"y4\", \"idx\": 15, \"val\": 34}, {\"col\": \"y4\", \"idx\": 16, \"val\": 55}, {\"col\": \"y4\", \"idx\": 17, \"val\": 83}, {\"col\": \"y4\", \"idx\": 18, \"val\": 55}, {\"col\": \"y4\", \"idx\": 19, \"val\": 31}, {\"col\": \"y4\", \"idx\": 20, \"val\": 19}]}], \"height\": 500, \"legends\": [{\"fill\": \"color\", \"offset\": 0, \"properties\": {}, \"title\": \"Categories\"}], \"marks\": [{\"from\": {\"data\": \"table\", \"transform\": [{\"keys\": [\"data.col\"], \"type\": \"facet\"}]}, \"marks\": [{\"properties\": {\"enter\": {\"stroke\": {\"field\": \"data.col\", \"scale\": \"color\"}, \"strokeWidth\": {\"value\": 2}, \"x\": {\"field\": \"data.idx\", \"scale\": \"x\"}, \"y\": {\"field\": \"data.val\", \"scale\": \"y\"}}}, \"type\": \"line\"}], \"type\": \"group\"}], \"padding\": \"auto\", \"scales\": [{\"domain\": {\"data\": \"table\", \"field\": \"data.idx\"}, \"name\": \"x\", \"range\": \"width\", \"type\": \"linear\"}, {\"domain\": {\"data\": \"table\", \"field\": \"data.val\"}, \"name\": \"y\", \"nice\": true, \"range\": \"height\"}, {\"domain\": {\"data\": \"table\", \"field\": \"data.col\"}, \"name\": \"color\", \"range\": \"category20\", \"type\": \"ordinal\"}], \"width\": 960}, function(chart) {\n",
       "         chart({el: \"#visf20adde0bce141579a6ab2dbabe70c20\"}).update();\n",
       "       });\n",
       "     };\n",
       "     _do_plot();\n",
       "   })();\n",
       "</script>\n",
       "<style>.vega canvas {width: 100%;}</style>\n",
       "        "
      ],
      "text/plain": [
       "<vincent.charts.Line at 0x7f406c4bdfd0>"
      ]
     },
     "execution_count": 4,
     "metadata": {},
     "output_type": "execute_result"
    }
   ],
   "source": [
    "line = vincent.Line(multi_iter1, iter_idx='index')\n",
    "vincent.core.initialize_notebook()\n",
    "\n",
    "line.axis_titles(x='Index', y='Value')\n",
    "line.legend(title='Categories')"
   ]
  },
  {
   "cell_type": "code",
   "execution_count": null,
   "metadata": {
    "collapsed": true
   },
   "outputs": [],
   "source": []
  }
 ],
 "metadata": {
  "kernelspec": {
   "display_name": "Python 2",
   "language": "python",
   "name": "python2"
  },
  "language_info": {
   "codemirror_mode": {
    "name": "ipython",
    "version": 2
   },
   "file_extension": ".py",
   "mimetype": "text/x-python",
   "name": "python",
   "nbconvert_exporter": "python",
   "pygments_lexer": "ipython2",
   "version": "2.7.12"
  }
 },
 "nbformat": 4,
 "nbformat_minor": 0
}
