{
 "cells": [
  {
   "cell_type": "code",
   "execution_count": 1,
   "metadata": {
    "collapsed": false
   },
   "outputs": [],
   "source": [
    "%run util.py"
   ]
  },
  {
   "cell_type": "code",
   "execution_count": 2,
   "metadata": {
    "collapsed": true
   },
   "outputs": [],
   "source": [
    "data_folder = '/home/jzh/Waze/'"
   ]
  },
  {
   "cell_type": "code",
   "execution_count": 3,
   "metadata": {
    "collapsed": true
   },
   "outputs": [],
   "source": [
    "import json"
   ]
  },
  {
   "cell_type": "code",
   "execution_count": 4,
   "metadata": {
    "collapsed": false
   },
   "outputs": [],
   "source": [
    "# Loading PL data\n",
    "PL_dict = zload(data_folder + 'PL_dict.pkz') "
   ]
  },
  {
   "cell_type": "code",
   "execution_count": 5,
   "metadata": {
    "collapsed": false
   },
   "outputs": [],
   "source": [
    "# PL_dict"
   ]
  },
  {
   "cell_type": "code",
   "execution_count": 6,
   "metadata": {
    "collapsed": false
   },
   "outputs": [
    {
     "name": "stderr",
     "output_type": "stream",
     "text": [
      "<string>:486: RuntimeWarning: covariance is not positive-semidefinite.\n"
     ]
    }
   ],
   "source": [
    "mu_1 = PL_dict['PL_AM']  # normal PL for AM period\n",
    "mu_2 = PL_dict['PL_MD']  # normal PL for MD period\n",
    "mu_3 = PL_dict['PL_PM']  # normal PL for PM period\n",
    "mu_4 = PL_dict['PL_NT']  # normal PL for NT period\n",
    "\n",
    "mu_1 = mu_adjust(mu_1)  # normal PL\n",
    "mu_01, mu1, mu_11, P1, G_11, H_11, U_11 = ChainGen_(mu_1)\n",
    "\n",
    "mu_2 = mu_adjust(mu_2)  # normal PL\n",
    "mu_02, mu2, mu_12, P2, G_12, H_12, U_12 = ChainGen_(mu_2)\n",
    "\n",
    "mu_3 = mu_adjust(mu_3)  # normal PL\n",
    "mu_03, mu3, mu_13, P3, G_13, H_13, U_13 = ChainGen_(mu_3)\n",
    "\n",
    "mu_4 = mu_adjust(mu_4)  # normal PL\n",
    "mu_04, mu4, mu_14, P4, G_14, H_14, U_14 = ChainGen_(mu_4)"
   ]
  },
  {
   "cell_type": "code",
   "execution_count": 7,
   "metadata": {
    "collapsed": true
   },
   "outputs": [],
   "source": [
    "beta = 1e-6\n",
    "G_list = [G_11, G_12, G_13, G_14]\n",
    "H_list = [H_11, H_12, H_13, H_14]\n",
    "U_list = [U_11, U_12, U_13, U_14]\n",
    "\n",
    "eta_wc = {}\n",
    "eta_Sanov = {}\n",
    "\n",
    "# Get thresholds for Hoeffding's test corresponding to sample length n  \n",
    "def etaWC(n):\n",
    "    return HoeffdingRuleMarkovRobust_(beta, G_list, H_list, U_list, n)"
   ]
  },
  {
   "cell_type": "code",
   "execution_count": 8,
   "metadata": {
    "collapsed": false
   },
   "outputs": [],
   "source": [
    "# Loading test data\n",
    "\n",
    "with open(data_folder + 'sample_path_jam_test_data_sorted_trans.json', 'r') as json_file:\n",
    "    sample_path_jam_test_data_sorted_trans = json.load(json_file)"
   ]
  },
  {
   "cell_type": "code",
   "execution_count": 9,
   "metadata": {
    "collapsed": false
   },
   "outputs": [
    {
     "data": {
      "text/plain": [
       "{u'alphaTrans': 78.0,\n",
       " u'startTime': 300.0105,\n",
       " u'uuid': [u'2a0ee22c-6229-3863-a362-8a5e0be020e4',\n",
       "  u'd836e23a-c958-37a7-b126-c70258b61a7a']}"
      ]
     },
     "execution_count": 9,
     "metadata": {},
     "output_type": "execute_result"
    }
   ],
   "source": [
    "sample_path_jam_test_data_sorted_trans['0']"
   ]
  },
  {
   "cell_type": "code",
   "execution_count": 10,
   "metadata": {
    "collapsed": false
   },
   "outputs": [],
   "source": [
    "i = 0  # index of windows\n",
    "sam_gap = 120\n",
    "win_size = 600\n",
    "win_list = []\n",
    "while i * sam_gap + win_size < 24 * 3600:\n",
    "    win_list.append((i * sam_gap, i * sam_gap + win_size))\n",
    "    i += 1"
   ]
  },
  {
   "cell_type": "code",
   "execution_count": 11,
   "metadata": {
    "collapsed": false
   },
   "outputs": [
    {
     "data": {
      "text/plain": [
       "715"
      ]
     },
     "execution_count": 11,
     "metadata": {},
     "output_type": "execute_result"
    }
   ],
   "source": [
    "i"
   ]
  },
  {
   "cell_type": "code",
   "execution_count": 12,
   "metadata": {
    "collapsed": false
   },
   "outputs": [],
   "source": [
    "win_num = len(win_list)\n",
    "jam_num = len(sample_path_jam_test_data_sorted_trans)\n",
    "\n",
    "win_jam = {}\n",
    "for i in range(win_num):\n",
    "    key = str(i)\n",
    "    value = []\n",
    "    for j in range(jam_num):\n",
    "        if ((sample_path_jam_test_data_sorted_trans[str(j)]['startTime'] >= win_list[i][0]) \\\n",
    "            and (sample_path_jam_test_data_sorted_trans[str(j)]['startTime'] < win_list[i][1])):\n",
    "            value.append(str(j))\n",
    "    win_jam[key] = value"
   ]
  },
  {
   "cell_type": "code",
   "execution_count": 13,
   "metadata": {
    "collapsed": false
   },
   "outputs": [
    {
     "data": {
      "text/plain": [
       "(['3857',\n",
       "  '3858',\n",
       "  '3859',\n",
       "  '3860',\n",
       "  '3861',\n",
       "  '3862',\n",
       "  '3863',\n",
       "  '3864',\n",
       "  '3865',\n",
       "  '3866',\n",
       "  '3867',\n",
       "  '3868',\n",
       "  '3869',\n",
       "  '3870',\n",
       "  '3871',\n",
       "  '3872',\n",
       "  '3873',\n",
       "  '3874',\n",
       "  '3875',\n",
       "  '3876',\n",
       "  '3877',\n",
       "  '3878',\n",
       "  '3879',\n",
       "  '3880'],\n",
       " 85680,\n",
       " 715)"
      ]
     },
     "execution_count": 13,
     "metadata": {},
     "output_type": "execute_result"
    }
   ],
   "source": [
    "win_jam['714'], win_list[714][0], win_num "
   ]
  },
  {
   "cell_type": "code",
   "execution_count": 14,
   "metadata": {
    "collapsed": false
   },
   "outputs": [
    {
     "data": {
      "text/plain": [
       "12300.0027"
      ]
     },
     "execution_count": 14,
     "metadata": {},
     "output_type": "execute_result"
    }
   ],
   "source": [
    "sample_path_jam_test_data_sorted_trans[win_jam['100'][0]]['startTime']"
   ]
  },
  {
   "cell_type": "code",
   "execution_count": 15,
   "metadata": {
    "collapsed": false
   },
   "outputs": [],
   "source": [
    "KL_list = []  # The list of the KL divergences; each is for a detection window\n",
    "etaWC_list = []\n",
    "for i in range(win_num):\n",
    "    sample_path_jam = [sample_path_jam_test_data_sorted_trans[key]['alphaTrans'] for key in win_jam[str(i)]]\n",
    "    n = len(sample_path_jam)\n",
    "    if (n != 0):\n",
    "        etaWC_list.append(etaWC(n))\n",
    "        KL_1 = KL_est(sample_path_jam, mu_1)\n",
    "        KL_2 = KL_est(sample_path_jam, mu_2)\n",
    "        KL_3 = KL_est(sample_path_jam, mu_3)\n",
    "        KL_4 = KL_est(sample_path_jam, mu_4)\n",
    "        KL_list.append(min([KL_1, KL_2, KL_3, KL_4]))\n",
    "    else:\n",
    "        etaWC_list.append(1e-6)\n",
    "        KL_list.append(0)"
   ]
  },
  {
   "cell_type": "code",
   "execution_count": 16,
   "metadata": {
    "collapsed": false
   },
   "outputs": [
    {
     "data": {
      "text/plain": [
       "(['233', '234', '235', '236', '237', '238', '239'], 12600)"
      ]
     },
     "execution_count": 16,
     "metadata": {},
     "output_type": "execute_result"
    }
   ],
   "source": [
    "win_jam[str(100)], win_list[100][1]"
   ]
  },
  {
   "cell_type": "code",
   "execution_count": 17,
   "metadata": {
    "collapsed": true
   },
   "outputs": [],
   "source": [
    "%matplotlib inline"
   ]
  },
  {
   "cell_type": "code",
   "execution_count": 18,
   "metadata": {
    "collapsed": false
   },
   "outputs": [
    {
     "data": {
      "image/png": "[encoded data removed]",
      "text/plain": [
       "<matplotlib.figure.Figure at 0x7f3ab723f690>"
      ]
     },
     "metadata": {},
     "output_type": "display_data"
    }
   ],
   "source": [
    "time_range = [win_list[i][0] / 60.0 for i in range(win_num)]\n",
    "plot_points(time_range, KL_list, etaWC_list)\n",
    "plt.ylabel('divergence')\n",
    "plt.xlabel('time (min)')\n",
    "pylab.ylim(-0.1, max(etaWC_list)+0.5)\n",
    "pylab.xlim(0, max(time_range) + 10)\n",
    "plt.savefig(data_folder + 'detec_results_WC_robust.pdf')"
   ]
  },
  {
   "cell_type": "code",
   "execution_count": 19,
   "metadata": {
    "collapsed": false
   },
   "outputs": [
    {
     "data": {
      "text/plain": [
       "(715, 715, 715, [0.0, 2.0])"
      ]
     },
     "execution_count": 19,
     "metadata": {},
     "output_type": "execute_result"
    }
   ],
   "source": [
    "len(time_range), len(KL_list), len(etaWC_list), time_range[0:2]"
   ]
  },
  {
   "cell_type": "code",
   "execution_count": 20,
   "metadata": {
    "collapsed": false
   },
   "outputs": [],
   "source": [
    "potential_ano_list = []\n",
    "for i in range(len(KL_list)):\n",
    "    if KL_list[i] > etaWC_list[i]:\n",
    "        for j in range(len(win_jam[str(i)])):\n",
    "            potential_ano_list.append(win_jam[str(i)][j])"
   ]
  },
  {
   "cell_type": "code",
   "execution_count": 21,
   "metadata": {
    "collapsed": false
   },
   "outputs": [],
   "source": [
    "with open(data_folder + 'sample_path_jam_test_data_sorted.json', 'r') as json_file:\n",
    "    sample_path_jam_test_data_sorted = json.load(json_file)"
   ]
  },
  {
   "cell_type": "code",
   "execution_count": 22,
   "metadata": {
    "collapsed": false
   },
   "outputs": [
    {
     "data": {
      "text/plain": [
       "{u'alpha': 10.0,\n",
       " u'length': 254.0,\n",
       " u'numPts': 12.0,\n",
       " u'speed': 1.025,\n",
       " u'startTime': 76500.1784,\n",
       " u'uuid': u'8565d7a9-74d1-37aa-bd2e-f327cbbcfc86'}"
      ]
     },
     "execution_count": 22,
     "metadata": {},
     "output_type": "execute_result"
    }
   ],
   "source": [
    "sample_path_jam_test_data_sorted['2917']"
   ]
  },
  {
   "cell_type": "code",
   "execution_count": 23,
   "metadata": {
    "collapsed": false
   },
   "outputs": [
    {
     "data": {
      "text/plain": [
       "(186,\n",
       " {'2959',\n",
       "  '2960',\n",
       "  '2961',\n",
       "  '2962',\n",
       "  '2963',\n",
       "  '2964',\n",
       "  '2965',\n",
       "  '2966',\n",
       "  '2967',\n",
       "  '2968',\n",
       "  '2969',\n",
       "  '2970',\n",
       "  '2971',\n",
       "  '2972',\n",
       "  '2973',\n",
       "  '2974',\n",
       "  '2975',\n",
       "  '2976',\n",
       "  '2977',\n",
       "  '2978',\n",
       "  '2979',\n",
       "  '2980',\n",
       "  '2981',\n",
       "  '2982',\n",
       "  '2983',\n",
       "  '2984',\n",
       "  '2985',\n",
       "  '2986',\n",
       "  '2987',\n",
       "  '2988',\n",
       "  '2989',\n",
       "  '2990',\n",
       "  '2991',\n",
       "  '2992',\n",
       "  '2993',\n",
       "  '2994',\n",
       "  '2995',\n",
       "  '2996',\n",
       "  '2997',\n",
       "  '2998',\n",
       "  '2999',\n",
       "  '3000',\n",
       "  '3001',\n",
       "  '3002',\n",
       "  '3003',\n",
       "  '3004',\n",
       "  '3005',\n",
       "  '3006',\n",
       "  '3007',\n",
       "  '3008',\n",
       "  '3009',\n",
       "  '3010',\n",
       "  '3011',\n",
       "  '3012',\n",
       "  '3013',\n",
       "  '3014',\n",
       "  '3015',\n",
       "  '3016',\n",
       "  '3017',\n",
       "  '3018',\n",
       "  '3019',\n",
       "  '3020',\n",
       "  '3021',\n",
       "  '3022',\n",
       "  '3023',\n",
       "  '3024',\n",
       "  '3025',\n",
       "  '3026',\n",
       "  '3027',\n",
       "  '3028',\n",
       "  '3029',\n",
       "  '3030',\n",
       "  '3031',\n",
       "  '3032',\n",
       "  '3033',\n",
       "  '3034',\n",
       "  '3035',\n",
       "  '3036',\n",
       "  '3037',\n",
       "  '3038',\n",
       "  '3039',\n",
       "  '3040',\n",
       "  '3041',\n",
       "  '3042',\n",
       "  '3043',\n",
       "  '3044',\n",
       "  '3045',\n",
       "  '3133',\n",
       "  '3134',\n",
       "  '3135',\n",
       "  '3136',\n",
       "  '3137',\n",
       "  '3138',\n",
       "  '3139',\n",
       "  '3140',\n",
       "  '3141',\n",
       "  '3142',\n",
       "  '3143',\n",
       "  '3144',\n",
       "  '3145',\n",
       "  '3146',\n",
       "  '3147',\n",
       "  '3148',\n",
       "  '3149',\n",
       "  '3150',\n",
       "  '3151',\n",
       "  '3152',\n",
       "  '3153',\n",
       "  '3154',\n",
       "  '3155',\n",
       "  '3156',\n",
       "  '3157',\n",
       "  '3158',\n",
       "  '3159',\n",
       "  '3160',\n",
       "  '3161',\n",
       "  '3162',\n",
       "  '3163',\n",
       "  '3164',\n",
       "  '3165',\n",
       "  '3166',\n",
       "  '3167',\n",
       "  '3168',\n",
       "  '3169',\n",
       "  '3170',\n",
       "  '3171',\n",
       "  '3172',\n",
       "  '3173',\n",
       "  '3174',\n",
       "  '3175',\n",
       "  '3176',\n",
       "  '3177',\n",
       "  '3178',\n",
       "  '3179',\n",
       "  '3180',\n",
       "  '3181',\n",
       "  '3182',\n",
       "  '3183',\n",
       "  '3184',\n",
       "  '3185',\n",
       "  '3186',\n",
       "  '3187',\n",
       "  '3188',\n",
       "  '3189',\n",
       "  '3190',\n",
       "  '3191',\n",
       "  '3192',\n",
       "  '3193',\n",
       "  '3194',\n",
       "  '3195',\n",
       "  '3196',\n",
       "  '3197',\n",
       "  '3198',\n",
       "  '3199',\n",
       "  '3200',\n",
       "  '3201',\n",
       "  '3202',\n",
       "  '3203',\n",
       "  '3204',\n",
       "  '3205',\n",
       "  '3206',\n",
       "  '3207',\n",
       "  '3208',\n",
       "  '3209',\n",
       "  '3210',\n",
       "  '3211',\n",
       "  '3212',\n",
       "  '3213',\n",
       "  '3214',\n",
       "  '3215',\n",
       "  '3216',\n",
       "  '3217',\n",
       "  '3218',\n",
       "  '3219',\n",
       "  '3220',\n",
       "  '3221',\n",
       "  '3222',\n",
       "  '3223',\n",
       "  '3224',\n",
       "  '3225',\n",
       "  '3226',\n",
       "  '3227',\n",
       "  '3228',\n",
       "  '3229',\n",
       "  '3230',\n",
       "  '3231'})"
      ]
     },
     "execution_count": 23,
     "metadata": {},
     "output_type": "execute_result"
    }
   ],
   "source": [
    "len(set(potential_ano_list)), set(potential_ano_list)"
   ]
  },
  {
   "cell_type": "code",
   "execution_count": 24,
   "metadata": {
    "collapsed": false
   },
   "outputs": [
    {
     "data": {
      "text/plain": [
       "3881"
      ]
     },
     "execution_count": 24,
     "metadata": {},
     "output_type": "execute_result"
    }
   ],
   "source": [
    "len(sample_path_jam_test_data_sorted_trans)"
   ]
  },
  {
   "cell_type": "code",
   "execution_count": 25,
   "metadata": {
    "collapsed": true
   },
   "outputs": [],
   "source": [
    "# Refine the detection results; if a jam's length is larger than 1 km,\n",
    "# then the jam is \"indeed\" abnormal.\n",
    "ano_list = []\n",
    "for key in set(potential_ano_list):\n",
    "    if (sample_path_jam_test_data_sorted[key]['length'] > 1000):\n",
    "        ano_list.append(key)"
   ]
  },
  {
   "cell_type": "code",
   "execution_count": 26,
   "metadata": {
    "collapsed": false,
    "scrolled": true
   },
   "outputs": [
    {
     "data": {
      "text/plain": [
       "(16,\n",
       " ['2964',\n",
       "  '2963',\n",
       "  '3034',\n",
       "  '3033',\n",
       "  '3035',\n",
       "  '3149',\n",
       "  '2989',\n",
       "  '3021',\n",
       "  '3005',\n",
       "  '3000',\n",
       "  '3212',\n",
       "  '2959',\n",
       "  '3205',\n",
       "  '2979',\n",
       "  '3223',\n",
       "  '3198'])"
      ]
     },
     "execution_count": 26,
     "metadata": {},
     "output_type": "execute_result"
    }
   ],
   "source": [
    "len(ano_list), ano_list"
   ]
  },
  {
   "cell_type": "code",
   "execution_count": 27,
   "metadata": {
    "collapsed": false
   },
   "outputs": [],
   "source": [
    "for key in potential_ano_list:\n",
    "    if (sample_path_jam_test_data_sorted[key]['startTime'] > 69900 and \n",
    "        sample_path_jam_test_data_sorted[key]['startTime'] < 69901):\n",
    "        uuid = sample_path_jam_test_data_sorted[key]['uuid']\n",
    "        print(points_dict_Mar16[uuid][0][2])"
   ]
  },
  {
   "cell_type": "code",
   "execution_count": 28,
   "metadata": {
    "collapsed": false
   },
   "outputs": [],
   "source": [
    "with open(data_folder + '/points_dict_Mar16_comp.json', 'r') as json_file:\n",
    "    points_dict_Mar16_comp = json.load(json_file)"
   ]
  },
  {
   "cell_type": "code",
   "execution_count": 29,
   "metadata": {
    "collapsed": false
   },
   "outputs": [
    {
     "data": {
      "text/plain": [
       "[[[-71.123535, 42.334441],\n",
       "  [-71.12364, 42.334329],\n",
       "  [-71.12384, 42.33408],\n",
       "  [-71.124185, 42.333598],\n",
       "  [-71.124659, 42.33294],\n",
       "  [-71.12478, 42.332789],\n",
       "  [-71.12535, 42.33198],\n",
       "  [-71.125498, 42.331798],\n",
       "  [-71.125729, 42.33141],\n",
       "  [-71.12573, 42.33141],\n",
       "  [-71.125835, 42.331218],\n",
       "  [-71.12595, 42.330951],\n",
       "  [-71.126026, 42.330675],\n",
       "  [-71.126057, 42.330385],\n",
       "  [-71.126085, 42.330063]],\n",
       " 15]"
      ]
     },
     "execution_count": 29,
     "metadata": {},
     "output_type": "execute_result"
    }
   ],
   "source": [
    "points_dict_Mar16_comp['50a5d058-2b16-3034-bd41-623f96b2829a']"
   ]
  },
  {
   "cell_type": "code",
   "execution_count": 30,
   "metadata": {
    "collapsed": false
   },
   "outputs": [
    {
     "data": {
      "text/plain": [
       "('-71.128121', '42.359786', 'ACCIDENT', 68700.0, '2016-03-16 19:06:00.000')"
      ]
     },
     "execution_count": 30,
     "metadata": {},
     "output_type": "execute_result"
    }
   ],
   "source": [
    "('-71.128121', '42.359786', 'ACCIDENT', 68700.0, '2016-03-16 19:06:00.000')\n"
   ]
  },
  {
   "cell_type": "code",
   "execution_count": 31,
   "metadata": {
    "collapsed": true
   },
   "outputs": [],
   "source": [
    "jam1 = [42.359786, -71.128121]"
   ]
  },
  {
   "cell_type": "code",
   "execution_count": 32,
   "metadata": {
    "collapsed": false
   },
   "outputs": [],
   "source": [
    "jam2 = [42.363025, -71.13641] "
   ]
  },
  {
   "cell_type": "code",
   "execution_count": 33,
   "metadata": {
    "collapsed": false
   },
   "outputs": [
    {
     "data": {
      "text/plain": [
       "771.8372664016924"
      ]
     },
     "execution_count": 33,
     "metadata": {},
     "output_type": "execute_result"
    }
   ],
   "source": [
    "from geopy.distance import vincenty\n",
    "vincenty(jam1, jam2).meters"
   ]
  },
  {
   "cell_type": "code",
   "execution_count": null,
   "metadata": {
    "collapsed": true
   },
   "outputs": [],
   "source": []
  }
 ],
 "metadata": {
  "kernelspec": {
   "display_name": "Python 2",
   "language": "python",
   "name": "python2"
  },
  "language_info": {
   "codemirror_mode": {
    "name": "ipython",
    "version": 2
   },
   "file_extension": ".py",
   "mimetype": "text/x-python",
   "name": "python",
   "nbconvert_exporter": "python",
   "pygments_lexer": "ipython2",
   "version": "2.7.11"
  }
 },
 "nbformat": 4,
 "nbformat_minor": 0
}
