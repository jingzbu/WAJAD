{
 "cells": [
  {
   "cell_type": "code",
   "execution_count": 1,
   "metadata": {
    "collapsed": false
   },
   "outputs": [
    {
     "data": {
      "image/png": "[encoded data removed]",
      "text/plain": [
       "<IPython.core.display.Image object>"
      ]
     },
     "metadata": {},
     "output_type": "display_data"
    }
   ],
   "source": [
    "t = linspace(0,6*pi,100);\n",
    "plot(sin(t))\n",
    "grid on\n",
    "hold on\n",
    "plot(cos(t), 'r')"
   ]
  },
  {
   "cell_type": "code",
   "execution_count": 2,
   "metadata": {
    "collapsed": false
   },
   "outputs": [
    {
     "data": {
      "image/png": "[encoded data removed]",
      "text/plain": [
       "<IPython.core.display.Image object>"
      ]
     },
     "metadata": {},
     "output_type": "display_data"
    }
   ],
   "source": [
    "b = 10*cos(t)+30; plot(b); grid on"
   ]
  },
  {
   "cell_type": "code",
   "execution_count": 3,
   "metadata": {
    "collapsed": false
   },
   "outputs": [
    {
     "name": "stdout",
     "output_type": "stream",
     "text": [
      "Hello, world!\n"
     ]
    }
   ],
   "source": [
    "%%python\n",
    "print('Hello, world!')"
   ]
  },
  {
   "cell_type": "code",
   "execution_count": 4,
   "metadata": {
    "collapsed": false
   },
   "outputs": [],
   "source": [
    "addpath('/home/jzh/Dropbox/Research/Anomaly_Detection/WAJAD/03_ano_detec_workday_robust')\n",
    "addpath('/home/jzh/jsonlab-1.2')"
   ]
  },
  {
   "cell_type": "code",
   "execution_count": 6,
   "metadata": {
    "collapsed": false
   },
   "outputs": [
    {
     "name": "stdout",
     "output_type": "stream",
     "text": [
      "finalmatrix =\n",
      "\n",
      "                      7482          1235.20150828146          0.70350000000326\n",
      "                      6721          2062.94131536816          600.022100000002\n",
      "                      6528          531.267054592205        0.0826999999990221\n",
      "                      1942           5209.7591898959                -1199.8386\n",
      "                      1941           6199.9952218053                -1199.8387\n",
      "                      1795          6019.67144501159                -2399.1959\n",
      "                      1708          3724.98690980767                -2399.7136\n",
      "                      6654          3679.34276411531         0.672000000005937\n",
      "                      6753          531.267054592205          600.220199999996\n",
      "                      6596          3895.13239720009         0.352100000003702\n",
      "                      6385          1061.60064651841         0.190400000006775\n",
      "                      6382          3816.23063886936         0.190000000002328\n",
      "                      6503          2709.82925103915         0.696599999995669\n",
      "                      6502          2222.60204316792         0.696500000005472\n",
      "                      6506          2486.45967511757         0.696899999995367\n",
      "                      6436          324.990777893951         0.499800000005052\n",
      "                      6808          361.945337818237          600.415800000002\n",
      "                      6806          2183.39506877493                   600.409\n",
      "                      6804          2928.64248179457          600.408800000005\n",
      "                      6613          2235.43117519638         0.371100000003935\n",
      "                      1995          2071.24527953727                -1199.4819\n",
      "                      1994          6203.02843998273                -1199.5123\n",
      "                      6755          637.752566235104          600.220400000006\n",
      "                      1692          3506.13898212679                -2399.7703\n",
      "                      1755           2931.9925839944                -2399.3167\n",
      "                      1699          3479.64412241718                -2399.7453\n",
      "                      6415           2243.2520061012         0.266300000002957\n",
      "                      3412          536.454928026772                -2999.4398\n",
      "                      3413          161.992498026725                -2999.4397\n",
      "                      3419          96.0938122284214                 -2999.414\n",
      "                      6470          1676.29546061031         0.607499999998254\n",
      "                      6797          1663.00377327557          600.380600000004\n",
      "                      6850          274.720606344021          600.754400000005\n",
      "                      6853          2880.60740221664          600.754700000005\n",
      "                      6790          1061.60064651841                  600.3799\n",
      "                      1717          2692.42904856012                -2399.6839\n",
      "                      6581          2750.24852886294         0.314599999997881\n",
      "                      3398          2148.16643721038                -2999.7101\n",
      "                      6536          1298.31128328115         0.111099999994622\n",
      "                      6363          3359.02702263626         0.137700000006589\n",
      "                      6361          3196.71900876172         0.108300000007148\n",
      "                      6693          2797.60087675911         0.800799999997253\n",
      "                      3444          882.559076402301                -2999.2579\n",
      "                      6409          1676.29546061031         0.265700000003562\n",
      "                      3441          1983.94649050205                -2999.2585\n",
      "                      1964          3547.24605299764                -1199.7836\n",
      "                      6697          2973.28183742551           0.8012000000017\n",
      "                      6864          3113.33875222124          600.782800000001\n",
      "                      6865          2071.43842454728          600.782900000006\n",
      "                      1686           5209.7591898959                -2399.8067\n",
      "                      7457          2481.71280648013         0.641799999997602\n",
      "                      7476          2418.47106130532          0.66830000000482\n",
      "                      7396          1075.43270055776         0.240099999995437\n",
      "                      6568          3056.20848433405         0.300399999992806\n",
      "                      6562          1510.86861521426         0.282999999995809\n",
      "                      1929          5126.59992484812                 -1199.867\n",
      "                      7368          361.945337818237        0.0650000000023283\n",
      "                      7366          3845.20718658201        0.0647999999928288\n",
      "                      7438          1708.92567345352         0.607699999993201\n",
      "                      6820          3679.34276411531          600.444799999997\n",
      "                      6829           4629.8787683873          600.471000000005\n",
      "                      6674          2071.43842454728         0.744699999995646\n",
      "                      1729          2309.92627482392                -2399.6501\n",
      "                      1722          1423.98370494746                -2399.6834\n",
      "                      6676          3113.33875222124         0.744900000005146\n",
      "                      6548          1676.29546061031          0.22620000000461\n",
      "                      6684          2235.43117519638         0.773300000000745\n",
      "                      6524          637.752566235104         0.082299999994575\n",
      "                      6526          1024.09894863074        0.0825000000040745\n",
      "                      6481          450.035743885225         0.636899999997695\n",
      "                      6350            2337.060982519        0.0525000000052387\n",
      "                      7445          1732.43306143763         0.608699999997043\n",
      "                      6557          1061.60064651841         0.282500000001164\n",
      "                      2032          2692.42904856012                -1199.3258\n",
      "                      6639          1327.33427294814         0.651700000002165\n",
      "                      6718          2797.60087675911          600.021800000002\n",
      "                      7388          703.616648247125         0.212100000004284\n",
      "                      6644          2880.60740221664          0.65219999999681\n",
      "                      6392          637.752566235104         0.208400000003166\n",
      "                      6396          1024.09894863074         0.208799999993062\n",
      "                      6708          3762.26151075763          600.001699999993\n",
      "                      6692          2062.94131536816         0.800700000007055\n",
      "                      6457          3655.92783788092         0.576700000005076\n",
      "                      6514          531.267054592205         0.784700000003795\n",
      "                      6426          5547.77761243275         0.443599999998696\n",
      "                      6422          2882.86311138708         0.380699999994249\n",
      "                      6423          2062.94131536816         0.380799999998999\n",
      "                      6731           2578.4891021795          600.027700000006\n",
      "                      6603          324.990777893951         0.352799999993294\n",
      "                      6608          1793.20783946804         0.370599999994738\n",
      "                      1981          2309.92627482392                -1199.6542\n",
      "                      1730          6203.02843998273                  -2399.65\n",
      "                      3375           319.63816176742                -2999.8979\n",
      "                      6460          1995.29924340883          0.58980000000156\n",
      "                      6494          3113.33875222124         0.692500000004657\n",
      "                      6493          2880.60740221664         0.692399999999907\n",
      "                      6492          2071.43842454728         0.692299999995157\n",
      "                      1762          3236.12543060099                 -2399.316\n",
      "                      2006           2393.7773220107                -1199.4564\n",
      "\n",
      "\n",
      "TPR =\n",
      "\n",
      "          6.06060606060606\n",
      "\n",
      "\n",
      "validIndices =\n",
      "\n",
      "        6436        6808        6850        7368        6481        6603\n"
     ]
    }
   ],
   "source": [
    "[TPR,validIndices] = anomalyDataInterpretation2(500,20*60)"
   ]
  },
  {
   "cell_type": "code",
   "execution_count": null,
   "metadata": {
    "collapsed": true
   },
   "outputs": [],
   "source": []
  }
 ],
 "metadata": {
  "kernelspec": {
   "display_name": "Matlab",
   "language": "matlab",
   "name": "matlab"
  },
  "language_info": {
   "codemirror_mode": "octave",
   "file_extension": ".m",
   "help_links": [
    {
     "text": "MetaKernel Magics",
     "url": "https://github.com/calysto/metakernel/blob/master/metakernel/magics/README.md"
    }
   ],
   "mimetype": "text/x-matlab",
   "name": "matlab",
   "version": "0.8.0"
  }
 },
 "nbformat": 4,
 "nbformat_minor": 0
}
