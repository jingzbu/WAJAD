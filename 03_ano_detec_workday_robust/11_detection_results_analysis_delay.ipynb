{
 "cells": [
  {
   "cell_type": "code",
   "execution_count": 1,
   "metadata": {
    "collapsed": false
   },
   "outputs": [],
   "source": [
    "addpath('/home/jzh/Dropbox/Research/Anomaly_Detection/WAJAD/03_ano_detec_workday_robust')\n",
    "addpath('/home/jzh/jsonlab-1.2')"
   ]
  },
  {
   "cell_type": "code",
   "execution_count": 2,
   "metadata": {
    "collapsed": true
   },
   "outputs": [],
   "source": [
    "test_data = '/home/jzh/Waze/sample_path_jam_test_data_sorted_delay.json';\n",
    "\n",
    "points_data = 'points_dict_Mar_16_2016.mat';\n",
    "\n",
    "alerts_data = 'filteredAlerts.mat';\n",
    "\n",
    "ano_data = 'anoDict_delay.mat';"
   ]
  },
  {
   "cell_type": "code",
   "execution_count": 3,
   "metadata": {
    "collapsed": false
   },
   "outputs": [
    {
     "name": "stdout",
     "output_type": "stream",
     "text": [
      "The table presented below has the following information in each column:  Refined Indices, Minimum Distances, Time Stamp Differences, Longitude of Corresponding Accident, Latitude of Corresponding Accident, and Accident Timestamp. \n",
      "\n",
      "\n",
      "finalmatrix =\n",
      "\n",
      "  Columns 1 through 3\n",
      "\n",
      "                      1502          34.7693307455127        0.0763999999981024\n",
      "                      3094          163.596732855443         0.267399999996996\n",
      "                      2412          171.476344257019         0.365000000005239\n",
      "                      3126          257.970693323402         0.326400000005378\n",
      "\n",
      "  Columns 4 through 6\n",
      "\n",
      "                -71.119852                 42.356275                     56100\n",
      "                -71.097731                 42.373336                     77700\n",
      "          -71.085010881845           42.342549263926                     69900\n",
      "                -71.110335                 42.355048                     77700\n",
      "\n",
      "\n",
      "TPR_delay =\n",
      "\n",
      "   100\n",
      "\n",
      "\n",
      "ValidIndicesMatrix_delay =\n",
      "\n",
      "  Columns 1 through 3\n",
      "\n",
      "                      1502                -71.119852                 42.356275\n",
      "                      3094                -71.097731                 42.373336\n",
      "                      2412          -71.085010881845           42.342549263926\n",
      "                      3126                -71.110335                 42.355048\n",
      "\n",
      "  Column 4\n",
      "\n",
      "                     56100\n",
      "                     77700\n",
      "                     69900\n",
      "                     77700\n"
     ]
    }
   ],
   "source": [
    "[TPR_delay, ValidIndicesMatrix_delay] = anomalyDataInterpretation(500, 10*60, test_data, points_data, ...\n",
    "alerts_data, ano_data)"
   ]
  },
  {
   "cell_type": "code",
   "execution_count": null,
   "metadata": {
    "collapsed": true
   },
   "outputs": [],
   "source": []
  }
 ],
 "metadata": {
  "kernelspec": {
   "display_name": "Matlab",
   "language": "matlab",
   "name": "matlab"
  },
  "language_info": {
   "codemirror_mode": "octave",
   "file_extension": ".m",
   "help_links": [
    {
     "text": "MetaKernel Magics",
     "url": "https://github.com/calysto/metakernel/blob/master/metakernel/magics/README.md"
    }
   ],
   "mimetype": "text/x-matlab",
   "name": "matlab",
   "version": "0.8.0"
  }
 },
 "nbformat": 4,
 "nbformat_minor": 0
}
