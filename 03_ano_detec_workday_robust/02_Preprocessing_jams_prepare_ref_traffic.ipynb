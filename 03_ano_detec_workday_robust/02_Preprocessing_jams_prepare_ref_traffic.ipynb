{
 "cells": [
  {
   "cell_type": "code",
   "execution_count": 1,
   "metadata": {
    "collapsed": false
   },
   "outputs": [],
   "source": [
    "%run util.py"
   ]
  },
  {
   "cell_type": "code",
   "execution_count": 2,
   "metadata": {
    "collapsed": true
   },
   "outputs": [],
   "source": [
    "data_folder = '/home/jzh/Waze/'"
   ]
  },
  {
   "cell_type": "code",
   "execution_count": 3,
   "metadata": {
    "collapsed": true
   },
   "outputs": [],
   "source": [
    "import csv\n",
    "import json"
   ]
  },
  {
   "cell_type": "code",
   "execution_count": 4,
   "metadata": {
    "collapsed": true
   },
   "outputs": [],
   "source": [
    "# Loading JSON data\n",
    "with open(data_folder + 'points_dict_Mar16.json', 'r') as json_file:\n",
    "    points_dict = json.load(json_file)"
   ]
  },
  {
   "cell_type": "markdown",
   "metadata": {},
   "source": [
    "### Extract jam data for a typical workday, say, March 9, 2016 (Wednesday)\n",
    "The features we are going to use are: \n",
    "(longitude, latitude), numPts, speed, length, startTime.\n",
    "\n",
    "Note that \"(longitude, latitude), numPts\" are from the points data.\n",
    "\n",
    "Convert \"startTime\" to seconds, discarding the date stamp."
   ]
  },
  {
   "cell_type": "code",
   "execution_count": 5,
   "metadata": {
    "collapsed": false
   },
   "outputs": [
    {
     "name": "stdout",
     "output_type": "stream",
     "text": [
      "{'city': 'Boston, MA', 'uuid': 'f47cc21e-1d6a-3bb7-88a2-7b3b9acd64e3', 'endTimeMillis': '1457562960000', 'turnType': 'NONE', 'level': '3', 'country': 'US', 'roadType': '6', 'delay': '464', 'Length': '1833', 'street': 'Summer St', 'startTime': '2016-03-09 22:35:00.000', 'endNode': 'Devonshire St', 'startTimeMillis': '1457562900000', 'endTime': '2016-03-09 22:36:00.000', 'speed': '2.68611111111111100', 'pubMillis': '1457562388199', '\\xef\\xbb\\xbfinject_date': '2016-03-09 22:40:01.000'}\n"
     ]
    },
    {
     "ename": "AssertionError",
     "evalue": "",
     "output_type": "error",
     "traceback": [
      "\u001b[1;31m---------------------------------------------------------------------------\u001b[0m",
      "\u001b[1;31mAssertionError\u001b[0m                            Traceback (most recent call last)",
      "\u001b[1;32m<ipython-input-5-b8bdeade0974>\u001b[0m in \u001b[0;36m<module>\u001b[1;34m()\u001b[0m\n\u001b[0;32m     15\u001b[0m \u001b[1;33m\u001b[0m\u001b[0m\n\u001b[0;32m     16\u001b[0m             \u001b[1;32mprint\u001b[0m\u001b[1;33m(\u001b[0m\u001b[0mrow\u001b[0m\u001b[1;33m)\u001b[0m\u001b[1;33m\u001b[0m\u001b[0m\n\u001b[1;32m---> 17\u001b[1;33m             \u001b[1;32massert\u001b[0m\u001b[1;33m(\u001b[0m\u001b[1;36m1\u001b[0m\u001b[1;33m==\u001b[0m\u001b[1;36m2\u001b[0m\u001b[1;33m)\u001b[0m\u001b[1;33m\u001b[0m\u001b[0m\n\u001b[0m\u001b[0;32m     18\u001b[0m \u001b[1;33m\u001b[0m\u001b[0m\n\u001b[0;32m     19\u001b[0m \u001b[1;33m\u001b[0m\u001b[0m\n",
      "\u001b[1;31mAssertionError\u001b[0m: "
     ]
    }
   ],
   "source": [
    "from geopy.distance import vincenty\n",
    "\n",
    "##### cf. http://www.latlong.net/\n",
    "BU = (42.351848, -71.110730)\n",
    "\n",
    "with open(data_folder + 'raw_data/waze_jams.csv', 'rb') as csvfile:\n",
    "    reader = csv.DictReader(csvfile)\n",
    "    i = 0\n",
    "    jam_ref_data = {}\n",
    "    \n",
    "    for row in reader:\n",
    "#         print(row.keys())\n",
    "        # print(row['street'])\n",
    "        if (('2016-03-02' in row['startTime']) or ('2016-03-09' in row['startTime'])):\n",
    "            \n",
    "            print(row)\n",
    "            assert(1==2)\n",
    "            \n",
    "            \n",
    "            pt = (points_dict[row['uuid']][0][0][1], points_dict[row['uuid']][0][0][0])\n",
    "            # If the number of points in a jam is less than 30, we roughly take this jam as \"normal\"\n",
    "#             if (vincenty(BU, pt).meters < 3e3 and points_dict[row['uuid']][1] < 30):\n",
    "            if (vincenty(BU, pt).meters < 3e3):\n",
    "                key = str(i)\n",
    "                data = {'uuid': row['uuid'],\n",
    "                        'longitude_latitude': points_dict[row['uuid']][0],\n",
    "                        'numPts': points_dict[row['uuid']][1], \n",
    "                        'speed': float(row['speed']), \n",
    "                        'length': float(row['Length']), \n",
    "                        'startTime': convStartTimeToSec(row['startTime'])}\n",
    "                jam_ref_data[key] = data\n",
    "                i += 1\n",
    "print(i)"
   ]
  },
  {
   "cell_type": "code",
   "execution_count": 6,
   "metadata": {
    "collapsed": false
   },
   "outputs": [],
   "source": [
    "# Writing JSON data\n",
    "with open(data_folder + 'jam_ref_data.json', 'w') as json_file:\n",
    "    json.dump(jam_ref_data, json_file)"
   ]
  },
  {
   "cell_type": "code",
   "execution_count": null,
   "metadata": {
    "collapsed": true
   },
   "outputs": [],
   "source": []
  }
 ],
 "metadata": {
  "kernelspec": {
   "display_name": "Python 2",
   "language": "python",
   "name": "python2"
  },
  "language_info": {
   "codemirror_mode": {
    "name": "ipython",
    "version": 2
   },
   "file_extension": ".py",
   "mimetype": "text/x-python",
   "name": "python",
   "nbconvert_exporter": "python",
   "pygments_lexer": "ipython2",
   "version": "2.7.12"
  }
 },
 "nbformat": 4,
 "nbformat_minor": 0
}
