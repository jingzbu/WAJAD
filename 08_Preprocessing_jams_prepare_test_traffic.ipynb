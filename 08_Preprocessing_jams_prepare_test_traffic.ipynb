{
 "cells": [
  {
   "cell_type": "code",
   "execution_count": 1,
   "metadata": {
    "collapsed": true
   },
   "outputs": [],
   "source": [
    "%run util.py"
   ]
  },
  {
   "cell_type": "code",
   "execution_count": 2,
   "metadata": {
    "collapsed": true
   },
   "outputs": [],
   "source": [
    "data_folder = '/home/jzh/Waze/'"
   ]
  },
  {
   "cell_type": "code",
   "execution_count": 3,
   "metadata": {
    "collapsed": true
   },
   "outputs": [],
   "source": [
    "import csv\n",
    "import json\n",
    "from collections import defaultdict"
   ]
  },
  {
   "cell_type": "code",
   "execution_count": 4,
   "metadata": {
    "collapsed": true
   },
   "outputs": [],
   "source": [
    "# Loading JSON data\n",
    "with open(data_folder + 'points_dict_Jan16_present.json', 'r') as json_file:\n",
    "    points_dict = json.load(json_file)"
   ]
  },
  {
   "cell_type": "markdown",
   "metadata": {},
   "source": [
    "### Extract jam data for a typical workday, say, 3/22/2016 (Tuesday)\n",
    "The features we are going to use are: \n",
    "(longitude, latitude), numPts, speed, length, startTime.\n",
    "\n",
    "Note that \"(longitude, latitude), numPts\" are from the points data.\n",
    "\n",
    "Convert \"startTime\" to seconds, discarding the date stamp."
   ]
  },
  {
   "cell_type": "code",
   "execution_count": 5,
   "metadata": {
    "collapsed": false
   },
   "outputs": [
    {
     "name": "stdout",
     "output_type": "stream",
     "text": [
      "11725\n"
     ]
    }
   ],
   "source": [
    "with open(data_folder + 'raw_data/waze_jams.csv', 'rb') as csvfile:\n",
    "    reader = csv.DictReader(csvfile)\n",
    "    i = 0\n",
    "    jam_test_data = defaultdict(list)\n",
    "    for row in reader:\n",
    "#         print(row.keys())\n",
    "        # print(row['street'])\n",
    "        if ('2016-03-22' in row['startTime']):\n",
    "#             print(row['uuid'], row['street'], row['endNode'], row['roadType'], row['speed'], row['delay'], \n",
    "#             row['Length'], row['startTime'], row['endTime'], row['\\xef\\xbb\\xbfinject_date'])\n",
    "            key = row['uuid']\n",
    "            data = {'longitude_latitude': points_dict[row['uuid']][0],\n",
    "                    'numPts': points_dict[row['uuid']][1], \n",
    "                    'speed': float(row['speed']), \n",
    "                    'length': float(row['Length']), \n",
    "                    'startTime': convStartTimeToSec(row['startTime'])}\n",
    "            jam_test_data[key].append(data)\n",
    "            i += 1\n",
    "print(i)"
   ]
  },
  {
   "cell_type": "code",
   "execution_count": 6,
   "metadata": {
    "collapsed": true
   },
   "outputs": [],
   "source": [
    "##### testine jam_test_data such that each key therein corresponds to only one value, \n",
    "##### where the startTime is the least\n",
    "jam_test_data_ = {}\n",
    "for key in jam_test_data.keys():\n",
    "    for idx in range(len(jam_test_data[key])):\n",
    "        if (jam_test_data[key][idx]['startTime'] == \\\n",
    "            min([jam_test_data[key][j]['startTime'] for j in range(len(jam_test_data[key]))])):\n",
    "            idx_ = idx\n",
    "    jam_test_data_[key] = jam_test_data[key][idx_]"
   ]
  },
  {
   "cell_type": "code",
   "execution_count": 7,
   "metadata": {
    "collapsed": false
   },
   "outputs": [],
   "source": [
    "# Writing JSON data\n",
    "with open(data_folder + 'jam_test_data.json', 'w') as json_file:\n",
    "    json.dump(jam_test_data, json_file)\n",
    "    \n",
    "# Writing JSON data\n",
    "with open(data_folder + 'jam_test_data_.json', 'w') as json_file:\n",
    "    json.dump(jam_test_data_, json_file)"
   ]
  },
  {
   "cell_type": "code",
   "execution_count": 9,
   "metadata": {
    "collapsed": false
   },
   "outputs": [
    {
     "data": {
      "text/plain": [
       "[{'length': 472.0,\n",
       "  'longitude_latitude': [[-71.09702, 42.344783],\n",
       "   [-71.095651, 42.345145],\n",
       "   [-71.095584, 42.345162],\n",
       "   [-71.095326, 42.345231],\n",
       "   [-71.095052, 42.345308],\n",
       "   [-71.094946, 42.345339],\n",
       "   [-71.094644, 42.345437],\n",
       "   [-71.094461, 42.345497],\n",
       "   [-71.094333, 42.345564],\n",
       "   [-71.09428, 42.345602],\n",
       "   [-71.093212, 42.346572],\n",
       "   [-71.09309, 42.346661],\n",
       "   [-71.092813, 42.346817]],\n",
       "  'numPts': 13,\n",
       "  'speed': 3.0472222222222225,\n",
       "  'startTime': 42300.0},\n",
       " {'length': 290.0,\n",
       "  'longitude_latitude': [[-71.09702, 42.344783],\n",
       "   [-71.095651, 42.345145],\n",
       "   [-71.095584, 42.345162],\n",
       "   [-71.095326, 42.345231],\n",
       "   [-71.095052, 42.345308],\n",
       "   [-71.094946, 42.345339],\n",
       "   [-71.094644, 42.345437],\n",
       "   [-71.094461, 42.345497],\n",
       "   [-71.094333, 42.345564],\n",
       "   [-71.09428, 42.345602],\n",
       "   [-71.093212, 42.346572],\n",
       "   [-71.09309, 42.346661],\n",
       "   [-71.092813, 42.346817]],\n",
       "  'numPts': 13,\n",
       "  'speed': 1.4027777777777777,\n",
       "  'startTime': 42900.0},\n",
       " {'length': 426.0,\n",
       "  'longitude_latitude': [[-71.09702, 42.344783],\n",
       "   [-71.095651, 42.345145],\n",
       "   [-71.095584, 42.345162],\n",
       "   [-71.095326, 42.345231],\n",
       "   [-71.095052, 42.345308],\n",
       "   [-71.094946, 42.345339],\n",
       "   [-71.094644, 42.345437],\n",
       "   [-71.094461, 42.345497],\n",
       "   [-71.094333, 42.345564],\n",
       "   [-71.09428, 42.345602],\n",
       "   [-71.093212, 42.346572],\n",
       "   [-71.09309, 42.346661],\n",
       "   [-71.092813, 42.346817]],\n",
       "  'numPts': 13,\n",
       "  'speed': 2.3805555555555555,\n",
       "  'startTime': 43500.0}]"
      ]
     },
     "execution_count": 9,
     "metadata": {},
     "output_type": "execute_result"
    }
   ],
   "source": [
    "jam_test_data['48f951eb-a001-3a0e-b075-d261e82519ac']"
   ]
  },
  {
   "cell_type": "code",
   "execution_count": 10,
   "metadata": {
    "collapsed": false
   },
   "outputs": [
    {
     "data": {
      "text/plain": [
       "{'length': 472.0,\n",
       " 'longitude_latitude': [[-71.09702, 42.344783],\n",
       "  [-71.095651, 42.345145],\n",
       "  [-71.095584, 42.345162],\n",
       "  [-71.095326, 42.345231],\n",
       "  [-71.095052, 42.345308],\n",
       "  [-71.094946, 42.345339],\n",
       "  [-71.094644, 42.345437],\n",
       "  [-71.094461, 42.345497],\n",
       "  [-71.094333, 42.345564],\n",
       "  [-71.09428, 42.345602],\n",
       "  [-71.093212, 42.346572],\n",
       "  [-71.09309, 42.346661],\n",
       "  [-71.092813, 42.346817]],\n",
       " 'numPts': 13,\n",
       " 'speed': 3.0472222222222225,\n",
       " 'startTime': 42300.0}"
      ]
     },
     "execution_count": 10,
     "metadata": {},
     "output_type": "execute_result"
    }
   ],
   "source": [
    "jam_test_data_['48f951eb-a001-3a0e-b075-d261e82519ac']"
   ]
  },
  {
   "cell_type": "code",
   "execution_count": null,
   "metadata": {
    "collapsed": true
   },
   "outputs": [],
   "source": []
  }
 ],
 "metadata": {
  "kernelspec": {
   "display_name": "Python 2",
   "language": "python",
   "name": "python2"
  },
  "language_info": {
   "codemirror_mode": {
    "name": "ipython",
    "version": 2
   },
   "file_extension": ".py",
   "mimetype": "text/x-python",
   "name": "python",
   "nbconvert_exporter": "python",
   "pygments_lexer": "ipython2",
   "version": "2.7.11"
  }
 },
 "nbformat": 4,
 "nbformat_minor": 0
}
