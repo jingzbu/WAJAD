{
 "cells": [
  {
   "cell_type": "code",
   "execution_count": 1,
   "metadata": {
    "collapsed": true
   },
   "outputs": [],
   "source": [
    "data_folder = '/home/jzh/Waze/'"
   ]
  },
  {
   "cell_type": "code",
   "execution_count": 2,
   "metadata": {
    "collapsed": true
   },
   "outputs": [],
   "source": [
    "import csv"
   ]
  },
  {
   "cell_type": "code",
   "execution_count": 3,
   "metadata": {
    "collapsed": false
   },
   "outputs": [
    {
     "name": "stdout",
     "output_type": "stream",
     "text": [
      "('-71.132686', '42.355211', 'JAM', '2015-03-27 16:56:00.000', '2015-03-27 16:57:00.000')\n",
      "('-71.132686', '42.355211', 'JAM', '2015-03-27 17:01:00.000', '2015-03-27 17:02:00.000')\n",
      "('-71.131102', '42.350566', 'JAM', '2015-03-27 17:26:00.000', '2015-03-27 17:27:00.000')\n",
      "('-71.131693', '42.351724', 'JAM', '2015-03-27 17:26:00.000', '2015-03-27 17:27:00.000')\n",
      "('-71.131102', '42.350566', 'JAM', '2015-03-27 17:15:00.000', '2015-03-27 17:16:00.000')\n",
      "('-71.131693', '42.351724', 'JAM', '2015-03-27 17:15:00.000', '2015-03-27 17:16:00.000')\n",
      "('-71.132686', '42.355211', 'JAM', '2015-03-27 17:15:00.000', '2015-03-27 17:16:00.000')\n",
      "('-71.131102', '42.350566', 'JAM', '2015-03-27 17:32:00.000', '2015-03-27 17:33:00.000')\n",
      "('-71.131693', '42.351724', 'JAM', '2015-03-27 17:32:00.000', '2015-03-27 17:33:00.000')\n",
      "('-71.131893', '42.352282', 'JAM', '2015-03-27 19:56:00.000', '2015-03-27 19:57:00.000')\n",
      "('-71.131893', '42.352282', 'JAM', '2015-03-27 20:06:00.000', '2015-03-27 20:07:00.000')\n",
      "('-71.132132', '42.353211', 'JAM', '2015-03-27 21:56:00.000', '2015-03-27 21:57:00.000')\n",
      "('-71.131893', '42.352282', 'JAM', '2015-03-27 20:08:00.000', '2015-03-27 20:09:00.000')\n",
      "('-71.131283', '42.350875', 'JAM', '2015-03-27 23:44:00.000', '2015-03-27 23:45:00.000')\n",
      "('-71.131883', '42.352253', 'JAM', '2015-03-27 23:44:00.000', '2015-03-27 23:45:00.000')\n",
      "('-71.131283', '42.350875', 'JAM', '2015-03-27 23:54:00.000', '2015-03-27 23:55:00.000')\n",
      "('-71.131883', '42.352253', 'JAM', '2015-03-27 23:54:00.000', '2015-03-27 23:55:00.000')\n",
      "17\n"
     ]
    }
   ],
   "source": [
    "with open(data_folder + 'raw_data/waze_alerts.csv', 'rb') as csvfile:\n",
    "    reader = csv.DictReader(csvfile)\n",
    "    i = 0\n",
    "    for row in reader:\n",
    "#         print(row.keys())\n",
    "        if ((row['street'] == 'Harvard Ave') \\\n",
    "            and ('2015-03-27' in row['startTime']) \\\n",
    "#             and (row['type'] == 'ACCIDENT' or row['type'] == 'WEATHERHAZARD') \\\n",
    "            and (-71.132774 < float(row['locx']) and float(row['locx']) < -71.130037 and \\\n",
    "                 42.349221 < float(row['locy']) and float(row['locy']) < 42.355531)): \n",
    "            print(row['locx'], row['locy'], row['type'], \\\n",
    "                  row['startTime'], row['endTime'])\n",
    "#         print(row)\n",
    "            i += 1\n",
    "print(i)\n",
    "#         if i > 0:\n",
    "#             break"
   ]
  },
  {
   "cell_type": "code",
   "execution_count": null,
   "metadata": {
    "collapsed": true
   },
   "outputs": [],
   "source": []
  }
 ],
 "metadata": {
  "kernelspec": {
   "display_name": "Python 2",
   "language": "python",
   "name": "python2"
  },
  "language_info": {
   "codemirror_mode": {
    "name": "ipython",
    "version": 2
   },
   "file_extension": ".py",
   "mimetype": "text/x-python",
   "name": "python",
   "nbconvert_exporter": "python",
   "pygments_lexer": "ipython2",
   "version": "2.7.11"
  }
 },
 "nbformat": 4,
 "nbformat_minor": 0
}
