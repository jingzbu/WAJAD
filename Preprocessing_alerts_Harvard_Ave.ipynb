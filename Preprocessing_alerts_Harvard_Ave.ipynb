{
 "cells": [
  {
   "cell_type": "code",
   "execution_count": 2,
   "metadata": {
    "collapsed": true
   },
   "outputs": [],
   "source": [
    "data_folder = '/home/jzh/Waze/'"
   ]
  },
  {
   "cell_type": "code",
   "execution_count": 3,
   "metadata": {
    "collapsed": true
   },
   "outputs": [],
   "source": [
    "import csv"
   ]
  },
  {
   "cell_type": "code",
   "execution_count": 4,
   "metadata": {
    "collapsed": false
   },
   "outputs": [
    {
     "name": "stdout",
     "output_type": "stream",
     "text": [
      "['city', 'endTime', 'endTimeMillis', 'uuid', 'type', 'magvar', 'startTimeMillis', 'subtype', 'roadType', 'street', 'startTime', 'country', 'locx', 'locy', 'reliability', 'reportRating', 'pubMillis', '\\xef\\xbb\\xbfinject_date']\n"
     ]
    },
    {
     "ename": "AssertionError",
     "evalue": "",
     "output_type": "error",
     "traceback": [
      "\u001b[1;31m---------------------------------------------------------------------------\u001b[0m",
      "\u001b[1;31mAssertionError\u001b[0m                            Traceback (most recent call last)",
      "\u001b[1;32m<ipython-input-4-1d97c844ecd6>\u001b[0m in \u001b[0;36m<module>\u001b[1;34m()\u001b[0m\n\u001b[0;32m      4\u001b[0m     \u001b[1;32mfor\u001b[0m \u001b[0mrow\u001b[0m \u001b[1;32min\u001b[0m \u001b[0mreader\u001b[0m\u001b[1;33m:\u001b[0m\u001b[1;33m\u001b[0m\u001b[0m\n\u001b[0;32m      5\u001b[0m         \u001b[1;32mprint\u001b[0m\u001b[1;33m(\u001b[0m\u001b[0mrow\u001b[0m\u001b[1;33m.\u001b[0m\u001b[0mkeys\u001b[0m\u001b[1;33m(\u001b[0m\u001b[1;33m)\u001b[0m\u001b[1;33m)\u001b[0m\u001b[1;33m\u001b[0m\u001b[0m\n\u001b[1;32m----> 6\u001b[1;33m         \u001b[1;32massert\u001b[0m\u001b[1;33m(\u001b[0m\u001b[1;36m1\u001b[0m \u001b[1;33m==\u001b[0m \u001b[1;36m2\u001b[0m\u001b[1;33m)\u001b[0m\u001b[1;33m\u001b[0m\u001b[0m\n\u001b[0m\u001b[0;32m      7\u001b[0m         if ((row['street'] == 'Harvard Ave')             and ('2015-03-27' in row['startTime']) #             and (row['type'] == 'ACCIDENT' or row['type'] == 'WEATHERHAZARD') \\\n\u001b[0;32m      8\u001b[0m             and (-71.132774 < float(row['locx']) and float(row['locx']) < -71.130037 and \\\n",
      "\u001b[1;31mAssertionError\u001b[0m: "
     ]
    }
   ],
   "source": [
    "with open(data_folder + 'raw_data/waze_alerts.csv', 'rb') as csvfile:\n",
    "    reader = csv.DictReader(csvfile)\n",
    "    i = 0\n",
    "    for row in reader:\n",
    "        print(row.keys())\n",
    "        assert(1 == 2)\n",
    "        if ((row['street'] == 'Harvard Ave') \\\n",
    "            and ('2015-03-27' in row['startTime']) \\\n",
    "#             and (row['type'] == 'ACCIDENT' or row['type'] == 'WEATHERHAZARD') \\\n",
    "            and (-71.132774 < float(row['locx']) and float(row['locx']) < -71.130037 and \\\n",
    "                 42.349221 < float(row['locy']) and float(row['locy']) < 42.355531)): \n",
    "            print(row['locx'], row['locy'], row['type'], \\\n",
    "                  row['startTime'], row['endTime'])\n",
    "#         print(row)\n",
    "            i += 1\n",
    "print(i)\n",
    "#         if i > 0:\n",
    "#             break"
   ]
  },
  {
   "cell_type": "code",
   "execution_count": null,
   "metadata": {
    "collapsed": true
   },
   "outputs": [],
   "source": []
  }
 ],
 "metadata": {
  "kernelspec": {
   "display_name": "Python 2",
   "language": "python",
   "name": "python2"
  },
  "language_info": {
   "codemirror_mode": {
    "name": "ipython",
    "version": 2
   },
   "file_extension": ".py",
   "mimetype": "text/x-python",
   "name": "python",
   "nbconvert_exporter": "python",
   "pygments_lexer": "ipython2",
   "version": "2.7.11"
  }
 },
 "nbformat": 4,
 "nbformat_minor": 0
}
