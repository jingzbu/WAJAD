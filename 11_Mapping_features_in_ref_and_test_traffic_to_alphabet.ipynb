{
 "cells": [
  {
   "cell_type": "code",
   "execution_count": 1,
   "metadata": {
    "collapsed": false
   },
   "outputs": [
    {
     "name": "stderr",
     "output_type": "stream",
     "text": [
      "/home/jzh/anaconda2/lib/python2.7/site-packages/matplotlib/font_manager.py:273: UserWarning: Matplotlib is building the font cache using fc-list. This may take a moment.\n",
      "  warnings.warn('Matplotlib is building the font cache using fc-list. This may take a moment.')\n"
     ]
    }
   ],
   "source": [
    "%run util.py"
   ]
  },
  {
   "cell_type": "code",
   "execution_count": 2,
   "metadata": {
    "collapsed": true
   },
   "outputs": [],
   "source": [
    "data_folder = '/home/jzh/Waze/'"
   ]
  },
  {
   "cell_type": "code",
   "execution_count": 3,
   "metadata": {
    "collapsed": true
   },
   "outputs": [],
   "source": [
    "import json"
   ]
  },
  {
   "cell_type": "code",
   "execution_count": 4,
   "metadata": {
    "collapsed": true
   },
   "outputs": [],
   "source": [
    "# Loading JSON data\n",
    "with open(data_folder + 'quantized_jam_ref_data.json', 'r') as json_file:\n",
    "    quantized_jam_ref_data = json.load(json_file)\n",
    "    \n",
    "with open(data_folder + 'quantized_jam_test_data.json', 'r') as json_file:\n",
    "    quantized_jam_test_data = json.load(json_file)"
   ]
  },
  {
   "cell_type": "code",
   "execution_count": 5,
   "metadata": {
    "collapsed": false
   },
   "outputs": [
    {
     "data": {
      "text/plain": [
       "(1.0, 0.0, 0.0, 0.0)"
      ]
     },
     "execution_count": 5,
     "metadata": {},
     "output_type": "execute_result"
    }
   ],
   "source": [
    "quantized_jam_ref_data['0']['loc_label'], quantized_jam_ref_data['0']['length_label'], \\\n",
    "quantized_jam_ref_data['0']['numPts_label'], quantized_jam_ref_data['0']['speed_label']"
   ]
  },
  {
   "cell_type": "markdown",
   "metadata": {},
   "source": [
    "### Quantization levels: loc_k = 3, length_k = 2, numPts_k = 1, speed_k = 1\n"
   ]
  },
  {
   "cell_type": "code",
   "execution_count": 6,
   "metadata": {
    "collapsed": false
   },
   "outputs": [],
   "source": [
    "##### Create the finite alphabet\n",
    "\n",
    "loc_k = 3 \n",
    "length_k = 2\n",
    "numPts_k = 1\n",
    "speed_k = 1\n",
    "\n",
    "alphabet = {}\n",
    "\n",
    "i = 0\n",
    "for loc_label in range(loc_k):\n",
    "    for length_label in range(length_k):\n",
    "        for numPts_label in range(numPts_k):\n",
    "            for speed_label in range(speed_k):\n",
    "                key = str((float(loc_label), float(length_label), float(numPts_label), float(speed_label)))\n",
    "                alphabet[key] = float(i)\n",
    "                i += 1"
   ]
  },
  {
   "cell_type": "code",
   "execution_count": 7,
   "metadata": {
    "collapsed": false
   },
   "outputs": [
    {
     "data": {
      "text/plain": [
       "6"
      ]
     },
     "execution_count": 7,
     "metadata": {},
     "output_type": "execute_result"
    }
   ],
   "source": [
    "len(alphabet)"
   ]
  },
  {
   "cell_type": "code",
   "execution_count": 8,
   "metadata": {
    "collapsed": true
   },
   "outputs": [],
   "source": [
    "alphabet_trans = {}\n",
    "\n",
    "L = len(alphabet)\n",
    "i = 0\n",
    "for l in range(L):\n",
    "    for m in range(L):\n",
    "        key = str((float(l), float(m)))\n",
    "        alphabet_trans[key] = float(i)\n",
    "        i += 1"
   ]
  },
  {
   "cell_type": "code",
   "execution_count": 9,
   "metadata": {
    "collapsed": false
   },
   "outputs": [
    {
     "data": {
      "text/plain": [
       "36"
      ]
     },
     "execution_count": 9,
     "metadata": {},
     "output_type": "execute_result"
    }
   ],
   "source": [
    "len(alphabet_trans)"
   ]
  },
  {
   "cell_type": "markdown",
   "metadata": {},
   "source": [
    "### Mapping features to the alphabet"
   ]
  },
  {
   "cell_type": "code",
   "execution_count": 10,
   "metadata": {
    "collapsed": false
   },
   "outputs": [],
   "source": [
    "sample_path_jam_ref_data = {}\n",
    "\n",
    "i = 0\n",
    "for key in quantized_jam_ref_data.keys():\n",
    "    alpha_key = str((quantized_jam_ref_data[key]['loc_label'], \\\n",
    "                 quantized_jam_ref_data[key]['length_label'], \\\n",
    "                 quantized_jam_ref_data[key]['numPts_label'], \\\n",
    "                 quantized_jam_ref_data[key]['speed_label']))\n",
    "    data = {'uuid': quantized_jam_ref_data[key]['uuid'],\n",
    "            'startTime': quantized_jam_ref_data[key]['startTime'] + 0.0001 * i,\n",
    "            'numPts': quantized_jam_ref_data[key]['numPts'],\n",
    "            'length': quantized_jam_ref_data[key]['length'],\n",
    "            'speed': quantized_jam_ref_data[key]['speed'],\n",
    "            'alpha': alphabet[alpha_key]}\n",
    "    sample_path_jam_ref_data[key] = data\n",
    "    i += 1\n",
    "\n",
    "len_sample_path_jam_ref_data = len(sample_path_jam_ref_data)\n",
    "\n",
    "sample_path_jam_ref_data_sorted = {}\n",
    "for i in range(len_sample_path_jam_ref_data):\n",
    "    key = str(i)\n",
    "    sample_path_jam_ref_data_sorted[key] = sorted(sample_path_jam_ref_data.items(), key=lambda x: x[1]['startTime'])[i][1]\n",
    "    \n",
    "# Writing JSON data\n",
    "with open(data_folder + 'sample_path_jam_ref_data_sorted.json', 'w') as json_file:\n",
    "    json.dump(sample_path_jam_ref_data_sorted, json_file)"
   ]
  },
  {
   "cell_type": "code",
   "execution_count": 11,
   "metadata": {
    "collapsed": false
   },
   "outputs": [],
   "source": [
    "sample_path_jam_ref_data_sorted_trans = {} \n",
    "\n",
    "for i in range(len_sample_path_jam_ref_data)[:-1]:\n",
    "    key = str(i)\n",
    "    key_ = str(i+1)\n",
    "    alphabet_trans_key = str((sample_path_jam_ref_data_sorted[key]['alpha'], sample_path_jam_ref_data_sorted[key_]['alpha']))\n",
    "    data = {'alphaTrans': alphabet_trans[alphabet_trans_key],\n",
    "            'startTime': sample_path_jam_ref_data_sorted[key]['startTime'],\n",
    "            'uuid': (sample_path_jam_ref_data_sorted[key]['uuid'], sample_path_jam_ref_data_sorted[key_]['uuid'])}\n",
    "    sample_path_jam_ref_data_sorted_trans[key] = data\n",
    "    \n",
    "# Writing JSON data\n",
    "with open(data_folder + 'sample_path_jam_ref_data_sorted_trans.json', 'w') as json_file:\n",
    "    json.dump(sample_path_jam_ref_data_sorted_trans, json_file)"
   ]
  },
  {
   "cell_type": "code",
   "execution_count": 12,
   "metadata": {
    "collapsed": false
   },
   "outputs": [
    {
     "data": {
      "text/plain": [
       "({'alphaTrans': 0.0,\n",
       "  'startTime': 300.0853,\n",
       "  'uuid': (u'63457a3e-804c-3ac7-9b7e-e59fad98b632',\n",
       "   u'ad8260c1-7dde-338b-82e2-8e143a591ebd')},\n",
       " {'alphaTrans': 0.0,\n",
       "  'startTime': 300.1175,\n",
       "  'uuid': (u'ad8260c1-7dde-338b-82e2-8e143a591ebd',\n",
       "   u'a251f83d-1e22-3f9e-a127-aac0d45712a8')})"
      ]
     },
     "execution_count": 12,
     "metadata": {},
     "output_type": "execute_result"
    }
   ],
   "source": [
    "sample_path_jam_ref_data_sorted_trans['0'], sample_path_jam_ref_data_sorted_trans['1']"
   ]
  },
  {
   "cell_type": "code",
   "execution_count": 13,
   "metadata": {
    "collapsed": false
   },
   "outputs": [],
   "source": [
    "sample_path_jam_test_data = {}\n",
    "\n",
    "i = 0\n",
    "for key in quantized_jam_test_data.keys():\n",
    "    alpha_key = str((quantized_jam_test_data[key]['loc_label'], \\\n",
    "                 quantized_jam_test_data[key]['length_label'], \\\n",
    "                 quantized_jam_test_data[key]['numPts_label'], \\\n",
    "                 quantized_jam_test_data[key]['speed_label']))\n",
    "    data = {'uuid': quantized_jam_test_data[key]['uuid'],\n",
    "            'startTime': quantized_jam_test_data[key]['startTime'] + 0.0001 * i,\n",
    "            'numPts': quantized_jam_test_data[key]['numPts'],\n",
    "            'length': quantized_jam_test_data[key]['length'],\n",
    "            'speed': quantized_jam_test_data[key]['speed'],\n",
    "            'alpha': alphabet[alpha_key]}\n",
    "    sample_path_jam_test_data[key] = data\n",
    "    i += 1\n",
    "\n",
    "len_sample_path_jam_test_data = len(sample_path_jam_test_data)\n",
    "\n",
    "sample_path_jam_test_data_sorted = {}\n",
    "for i in range(len_sample_path_jam_test_data):\n",
    "    key = str(i)\n",
    "    sample_path_jam_test_data_sorted[key] = sorted(sample_path_jam_test_data.items(), key=lambda x: x[1]['startTime'])[i][1]\n",
    "    \n",
    "# Writing JSON data\n",
    "with open(data_folder + 'sample_path_jam_test_data_sorted.json', 'w') as json_file:\n",
    "    json.dump(sample_path_jam_test_data_sorted, json_file)"
   ]
  },
  {
   "cell_type": "code",
   "execution_count": 14,
   "metadata": {
    "collapsed": true
   },
   "outputs": [],
   "source": [
    "sample_path_jam_test_data_sorted_trans = {} \n",
    "\n",
    "for i in range(len_sample_path_jam_test_data)[:-1]:\n",
    "    key = str(i)\n",
    "    key_ = str(i+1)\n",
    "    alphabet_trans_key = str((sample_path_jam_test_data_sorted[key]['alpha'], sample_path_jam_test_data_sorted[key_]['alpha']))\n",
    "    data = {'alphaTrans': alphabet_trans[alphabet_trans_key],\n",
    "            'startTime': sample_path_jam_test_data_sorted[key]['startTime'],\n",
    "            'uuid': (sample_path_jam_test_data_sorted[key]['uuid'], sample_path_jam_test_data_sorted[key_]['uuid'])}\n",
    "    sample_path_jam_test_data_sorted_trans[key] = data\n",
    "    \n",
    "# Writing JSON data\n",
    "with open(data_folder + 'sample_path_jam_test_data_sorted_trans.json', 'w') as json_file:\n",
    "    json.dump(sample_path_jam_test_data_sorted_trans, json_file)"
   ]
  },
  {
   "cell_type": "code",
   "execution_count": 15,
   "metadata": {
    "collapsed": false
   },
   "outputs": [
    {
     "data": {
      "text/plain": [
       "({'alphaTrans': 28.0,\n",
       "  'startTime': 300.0585,\n",
       "  'uuid': (u'8d8c6438-f059-3062-b8f2-d8a948f9c49f',\n",
       "   u'f48c594a-be63-38d4-87ff-cd316ecbf277')},\n",
       " {'alphaTrans': 28.0,\n",
       "  'startTime': 300.0587,\n",
       "  'uuid': (u'f48c594a-be63-38d4-87ff-cd316ecbf277',\n",
       "   u'8778d87f-f241-33de-8d5f-0ce7aac4a478')})"
      ]
     },
     "execution_count": 15,
     "metadata": {},
     "output_type": "execute_result"
    }
   ],
   "source": [
    "sample_path_jam_test_data_sorted_trans['0'], sample_path_jam_test_data_sorted_trans['1']"
   ]
  },
  {
   "cell_type": "code",
   "execution_count": null,
   "metadata": {
    "collapsed": true
   },
   "outputs": [],
   "source": []
  }
 ],
 "metadata": {
  "kernelspec": {
   "display_name": "Python 2",
   "language": "python",
   "name": "python2"
  },
  "language_info": {
   "codemirror_mode": {
    "name": "ipython",
    "version": 2
   },
   "file_extension": ".py",
   "mimetype": "text/x-python",
   "name": "python",
   "nbconvert_exporter": "python",
   "pygments_lexer": "ipython2",
   "version": "2.7.11"
  }
 },
 "nbformat": 4,
 "nbformat_minor": 0
}
