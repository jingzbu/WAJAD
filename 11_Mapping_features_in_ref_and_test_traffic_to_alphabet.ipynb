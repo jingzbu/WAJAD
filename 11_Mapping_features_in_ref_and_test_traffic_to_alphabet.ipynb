{
 "cells": [
  {
   "cell_type": "code",
   "execution_count": 1,
   "metadata": {
    "collapsed": true
   },
   "outputs": [],
   "source": [
    "%run util.py"
   ]
  },
  {
   "cell_type": "code",
   "execution_count": 2,
   "metadata": {
    "collapsed": true
   },
   "outputs": [],
   "source": [
    "data_folder = '/home/jzh/Waze/'"
   ]
  },
  {
   "cell_type": "code",
   "execution_count": 3,
   "metadata": {
    "collapsed": true
   },
   "outputs": [],
   "source": [
    "import json"
   ]
  },
  {
   "cell_type": "code",
   "execution_count": 4,
   "metadata": {
    "collapsed": true
   },
   "outputs": [],
   "source": [
    "# Loading JSON data\n",
    "with open(data_folder + 'quantized_jam_ref_data.json', 'r') as json_file:\n",
    "    quantized_jam_ref_data = json.load(json_file)\n",
    "    \n",
    "with open(data_folder + 'quantized_jam_test_data.json', 'r') as json_file:\n",
    "    quantized_jam_test_data = json.load(json_file)"
   ]
  },
  {
   "cell_type": "code",
   "execution_count": 5,
   "metadata": {
    "collapsed": false
   },
   "outputs": [
    {
     "data": {
      "text/plain": [
       "(1.0, 1.0, 1.0, 1.0)"
      ]
     },
     "execution_count": 5,
     "metadata": {},
     "output_type": "execute_result"
    }
   ],
   "source": [
    "quantized_jam_ref_data['0']['loc_label'], quantized_jam_ref_data['0']['length_label'], \\\n",
    "quantized_jam_ref_data['0']['numPts_label'], quantized_jam_ref_data['0']['speed_label']"
   ]
  },
  {
   "cell_type": "markdown",
   "metadata": {},
   "source": [
    "### Quantization levels: loc_k = 3, length_k = 2, numPts_k = 2, speed_k = 2\n"
   ]
  },
  {
   "cell_type": "code",
   "execution_count": 6,
   "metadata": {
    "collapsed": false
   },
   "outputs": [],
   "source": [
    "##### Create the finite alphabet\n",
    "\n",
    "loc_k = 3 \n",
    "length_k = 2\n",
    "numPts_k = 2\n",
    "speed_k = 2\n",
    "\n",
    "alphabet = {}\n",
    "\n",
    "i = 0\n",
    "for loc_label in range(loc_k):\n",
    "    for length_label in range(length_k):\n",
    "        for numPts_label in range(numPts_k):\n",
    "            for speed_label in range(speed_k):\n",
    "                key = str((float(loc_label), float(length_label), float(numPts_label), float(speed_label)))\n",
    "                alphabet[key] = float(i)\n",
    "                i += 1"
   ]
  },
  {
   "cell_type": "code",
   "execution_count": 7,
   "metadata": {
    "collapsed": false
   },
   "outputs": [
    {
     "data": {
      "text/plain": [
       "{'(0.0, 0.0, 0.0, 0.0)': 0.0,\n",
       " '(0.0, 0.0, 0.0, 1.0)': 1.0,\n",
       " '(0.0, 0.0, 1.0, 0.0)': 2.0,\n",
       " '(0.0, 0.0, 1.0, 1.0)': 3.0,\n",
       " '(0.0, 1.0, 0.0, 0.0)': 4.0,\n",
       " '(0.0, 1.0, 0.0, 1.0)': 5.0,\n",
       " '(0.0, 1.0, 1.0, 0.0)': 6.0,\n",
       " '(0.0, 1.0, 1.0, 1.0)': 7.0,\n",
       " '(1.0, 0.0, 0.0, 0.0)': 8.0,\n",
       " '(1.0, 0.0, 0.0, 1.0)': 9.0,\n",
       " '(1.0, 0.0, 1.0, 0.0)': 10.0,\n",
       " '(1.0, 0.0, 1.0, 1.0)': 11.0,\n",
       " '(1.0, 1.0, 0.0, 0.0)': 12.0,\n",
       " '(1.0, 1.0, 0.0, 1.0)': 13.0,\n",
       " '(1.0, 1.0, 1.0, 0.0)': 14.0,\n",
       " '(1.0, 1.0, 1.0, 1.0)': 15.0,\n",
       " '(2.0, 0.0, 0.0, 0.0)': 16.0,\n",
       " '(2.0, 0.0, 0.0, 1.0)': 17.0,\n",
       " '(2.0, 0.0, 1.0, 0.0)': 18.0,\n",
       " '(2.0, 0.0, 1.0, 1.0)': 19.0,\n",
       " '(2.0, 1.0, 0.0, 0.0)': 20.0,\n",
       " '(2.0, 1.0, 0.0, 1.0)': 21.0,\n",
       " '(2.0, 1.0, 1.0, 0.0)': 22.0,\n",
       " '(2.0, 1.0, 1.0, 1.0)': 23.0}"
      ]
     },
     "execution_count": 7,
     "metadata": {},
     "output_type": "execute_result"
    }
   ],
   "source": [
    "alphabet"
   ]
  },
  {
   "cell_type": "markdown",
   "metadata": {},
   "source": [
    "### Mapping features to the alphabet"
   ]
  },
  {
   "cell_type": "code",
   "execution_count": 8,
   "metadata": {
    "collapsed": true
   },
   "outputs": [],
   "source": [
    "sample_path_jam_ref_data = {}\n",
    "\n",
    "for i in range(len(quantized_jam_ref_data.keys())):\n",
    "    key = str(i)\n",
    "    alpha_key = str((quantized_jam_ref_data[key]['loc_label'], \\\n",
    "                 quantized_jam_ref_data[key]['length_label'], \\\n",
    "                 quantized_jam_ref_data[key]['numPts_label'], \\\n",
    "                 quantized_jam_ref_data[key]['speed_label']))\n",
    "    data = {'uuid': quantized_jam_ref_data[key]['uuid'],\n",
    "            'startTime': quantized_jam_ref_data[key]['startTime'],\n",
    "            'alpha': alphabet[alpha_key]}\n",
    "    sample_path_jam_ref_data[key] = data\n",
    "    \n",
    "# Writing JSON data\n",
    "with open(data_folder + 'sample_path_jam_ref_data.json', 'w') as json_file:\n",
    "    json.dump(sample_path_jam_ref_data, json_file)"
   ]
  },
  {
   "cell_type": "code",
   "execution_count": 9,
   "metadata": {
    "collapsed": false
   },
   "outputs": [
    {
     "data": {
      "text/plain": [
       "{'alpha': 15.0,\n",
       " 'startTime': 71700.0,\n",
       " 'uuid': u'8651c397-a57b-3e6c-a123-090f813928d5'}"
      ]
     },
     "execution_count": 9,
     "metadata": {},
     "output_type": "execute_result"
    }
   ],
   "source": [
    "sample_path_jam_ref_data['0']"
   ]
  },
  {
   "cell_type": "code",
   "execution_count": 10,
   "metadata": {
    "collapsed": true
   },
   "outputs": [],
   "source": [
    "sample_path_jam_test_data = {}\n",
    "\n",
    "for i in range(len(quantized_jam_test_data.keys())):\n",
    "    key = str(i)\n",
    "    alpha_key = str((quantized_jam_test_data[key]['loc_label'], \\\n",
    "                 quantized_jam_test_data[key]['length_label'], \\\n",
    "                 quantized_jam_test_data[key]['numPts_label'], \\\n",
    "                 quantized_jam_test_data[key]['speed_label']))\n",
    "    data = {'uuid': quantized_jam_test_data[key]['uuid'],\n",
    "            'startTime': quantized_jam_test_data[key]['startTime'],\n",
    "            'alpha': alphabet[alpha_key]}\n",
    "    sample_path_jam_test_data[key] = data\n",
    "\n",
    "# Writing JSON data\n",
    "with open(data_folder + 'sample_path_jam_test_data.json', 'w') as json_file:\n",
    "    json.dump(sample_path_jam_test_data, json_file)"
   ]
  },
  {
   "cell_type": "code",
   "execution_count": 11,
   "metadata": {
    "collapsed": false
   },
   "outputs": [
    {
     "data": {
      "text/plain": [
       "{'alpha': 15.0,\n",
       " 'startTime': 42300.0,\n",
       " 'uuid': u'48f951eb-a001-3a0e-b075-d261e82519ac'}"
      ]
     },
     "execution_count": 11,
     "metadata": {},
     "output_type": "execute_result"
    }
   ],
   "source": [
    "sample_path_jam_test_data['0']"
   ]
  },
  {
   "cell_type": "code",
   "execution_count": null,
   "metadata": {
    "collapsed": true
   },
   "outputs": [],
   "source": []
  }
 ],
 "metadata": {
  "kernelspec": {
   "display_name": "Python 2",
   "language": "python",
   "name": "python2"
  },
  "language_info": {
   "codemirror_mode": {
    "name": "ipython",
    "version": 2
   },
   "file_extension": ".py",
   "mimetype": "text/x-python",
   "name": "python",
   "nbconvert_exporter": "python",
   "pygments_lexer": "ipython2",
   "version": "2.7.11"
  }
 },
 "nbformat": 4,
 "nbformat_minor": 0
}
