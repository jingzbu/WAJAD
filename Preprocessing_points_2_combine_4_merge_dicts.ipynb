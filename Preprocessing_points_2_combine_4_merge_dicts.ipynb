{
 "cells": [
  {
   "cell_type": "code",
   "execution_count": 1,
   "metadata": {
    "collapsed": true
   },
   "outputs": [],
   "source": [
    "data_folder = '/home/jzh/Waze/'"
   ]
  },
  {
   "cell_type": "code",
   "execution_count": 2,
   "metadata": {
    "collapsed": true
   },
   "outputs": [],
   "source": [
    "import json"
   ]
  },
  {
   "cell_type": "code",
   "execution_count": 3,
   "metadata": {
    "collapsed": false
   },
   "outputs": [],
   "source": [
    "# Loading JSON data\n",
    "with open(data_folder + 'points_dict__Dec14_May15.json', 'r') as json_file:\n",
    "    points_dict_Dec14_May15 = json.load(json_file)\n",
    "\n",
    "with open(data_folder + 'points_dict__Jun15_Dec15.json', 'r') as json_file:\n",
    "    points_dict_Jun15_Dec15 = json.load(json_file)\n",
    "    \n",
    "with open(data_folder + 'points_dict__Jan16_present.json', 'r') as json_file:\n",
    "    points_dict_Jan16_present = json.load(json_file)"
   ]
  },
  {
   "cell_type": "code",
   "execution_count": 4,
   "metadata": {
    "collapsed": true
   },
   "outputs": [],
   "source": [
    "points_dict = dict(points_dict_Dec14_May15.items() + \\\n",
    "                   points_dict_Jun15_Dec15.items() + \\\n",
    "                   points_dict_Jan16_present.items())"
   ]
  },
  {
   "cell_type": "code",
   "execution_count": 5,
   "metadata": {
    "collapsed": true
   },
   "outputs": [],
   "source": [
    "# Writing JSON data\n",
    "with open(data_folder + 'points_dict.json', 'w') as json_file:\n",
    "    json.dump(points_dict, json_file)"
   ]
  },
  {
   "cell_type": "code",
   "execution_count": 6,
   "metadata": {
    "collapsed": false
   },
   "outputs": [
    {
     "data": {
      "text/plain": [
       "[-71.083044, -71.07498, 42.308718, 42.325268]"
      ]
     },
     "execution_count": 6,
     "metadata": {},
     "output_type": "execute_result"
    }
   ],
   "source": [
    "points_dict['bded01fc-79d7-326c-aed8-3f004f13a11c']"
   ]
  },
  {
   "cell_type": "code",
   "execution_count": null,
   "metadata": {
    "collapsed": true
   },
   "outputs": [],
   "source": []
  }
 ],
 "metadata": {
  "kernelspec": {
   "display_name": "Python 2",
   "language": "python",
   "name": "python2"
  },
  "language_info": {
   "codemirror_mode": {
    "name": "ipython",
    "version": 2
   },
   "file_extension": ".py",
   "mimetype": "text/x-python",
   "name": "python",
   "nbconvert_exporter": "python",
   "pygments_lexer": "ipython2",
   "version": "2.7.11"
  }
 },
 "nbformat": 4,
 "nbformat_minor": 0
}
