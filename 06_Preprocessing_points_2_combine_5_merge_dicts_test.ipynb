{
 "cells": [
  {
   "cell_type": "code",
   "execution_count": 1,
   "metadata": {
    "collapsed": true
   },
   "outputs": [],
   "source": [
    "data_folder = '/home/jzh/Waze/'"
   ]
  },
  {
   "cell_type": "code",
   "execution_count": 2,
   "metadata": {
    "collapsed": true
   },
   "outputs": [],
   "source": [
    "import json"
   ]
  },
  {
   "cell_type": "code",
   "execution_count": 3,
   "metadata": {
    "collapsed": false
   },
   "outputs": [],
   "source": [
    "# Loading JSON data\n",
    "with open(data_folder + 'points_dict.json', 'r') as json_file:\n",
    "    points_dict = json.load(json_file)"
   ]
  },
  {
   "cell_type": "code",
   "execution_count": 4,
   "metadata": {
    "collapsed": false
   },
   "outputs": [
    {
     "data": {
      "text/plain": [
       "[[[-71.130037, 42.349221],\n",
       "  [-71.130524, 42.349681],\n",
       "  [-71.130665, 42.349843],\n",
       "  [-71.130772, 42.349988],\n",
       "  [-71.130872, 42.350151],\n",
       "  [-71.130969, 42.350312],\n",
       "  [-71.131072, 42.350515],\n",
       "  [-71.131447, 42.351154],\n",
       "  [-71.131695, 42.351696],\n",
       "  [-71.131746, 42.351849],\n",
       "  [-71.131926, 42.352384],\n",
       "  [-71.13198, 42.352593],\n",
       "  [-71.132087, 42.353015],\n",
       "  [-71.132168, 42.353371],\n",
       "  [-71.132185, 42.353446],\n",
       "  [-71.132362, 42.354042],\n",
       "  [-71.132408, 42.354217],\n",
       "  [-71.132753, 42.355374],\n",
       "  [-71.132774, 42.355531]],\n",
       " 19]"
      ]
     },
     "execution_count": 4,
     "metadata": {},
     "output_type": "execute_result"
    }
   ],
   "source": [
    "points_dict['c2c4c68f-a732-3d5b-9f9e-f6d7614e92a5']"
   ]
  },
  {
   "cell_type": "code",
   "execution_count": null,
   "metadata": {
    "collapsed": true
   },
   "outputs": [],
   "source": []
  }
 ],
 "metadata": {
  "kernelspec": {
   "display_name": "Python 2",
   "language": "python",
   "name": "python2"
  },
  "language_info": {
   "codemirror_mode": {
    "name": "ipython",
    "version": 2
   },
   "file_extension": ".py",
   "mimetype": "text/x-python",
   "name": "python",
   "nbconvert_exporter": "python",
   "pygments_lexer": "ipython2",
   "version": "2.7.11"
  }
 },
 "nbformat": 4,
 "nbformat_minor": 0
}
