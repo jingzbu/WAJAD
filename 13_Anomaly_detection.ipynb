{
 "cells": [
  {
   "cell_type": "code",
   "execution_count": 1,
   "metadata": {
    "collapsed": false
   },
   "outputs": [
    {
     "name": "stderr",
     "output_type": "stream",
     "text": [
      "/home/jzh/anaconda2/lib/python2.7/site-packages/matplotlib/font_manager.py:273: UserWarning: Matplotlib is building the font cache using fc-list. This may take a moment.\n",
      "  warnings.warn('Matplotlib is building the font cache using fc-list. This may take a moment.')\n"
     ]
    }
   ],
   "source": [
    "%run util.py"
   ]
  },
  {
   "cell_type": "code",
   "execution_count": 2,
   "metadata": {
    "collapsed": true
   },
   "outputs": [],
   "source": [
    "data_folder = '/home/jzh/Waze/'"
   ]
  },
  {
   "cell_type": "code",
   "execution_count": 3,
   "metadata": {
    "collapsed": true
   },
   "outputs": [],
   "source": [
    "import json"
   ]
  },
  {
   "cell_type": "code",
   "execution_count": 4,
   "metadata": {
    "collapsed": true
   },
   "outputs": [],
   "source": [
    "# Loading PL data\n",
    "PL_dict = zload(data_folder + 'PL_dict.pkz') "
   ]
  },
  {
   "cell_type": "code",
   "execution_count": 5,
   "metadata": {
    "collapsed": false
   },
   "outputs": [],
   "source": [
    "# PL_dict"
   ]
  },
  {
   "cell_type": "code",
   "execution_count": 6,
   "metadata": {
    "collapsed": false
   },
   "outputs": [
    {
     "name": "stderr",
     "output_type": "stream",
     "text": [
      "<string>:486: RuntimeWarning: covariance is not positive-semidefinite.\n"
     ]
    }
   ],
   "source": [
    "mu_1 = PL_dict['PL_AM']  # normal PL for AM period\n",
    "mu_2 = PL_dict['PL_MD']  # normal PL for MD period\n",
    "mu_3 = PL_dict['PL_PM']  # normal PL for PM period\n",
    "mu_4 = PL_dict['PL_NT']  # normal PL for NT period\n",
    "\n",
    "mu_1 = mu_adjust(mu_1)  # normal PL\n",
    "mu_01, mu1, mu_11, P1, G_11, H_11, U_11 = ChainGen_(mu_1)\n",
    "\n",
    "mu_2 = mu_adjust(mu_2)  # normal PL\n",
    "mu_02, mu2, mu_12, P2, G_12, H_12, U_12 = ChainGen_(mu_2)\n",
    "\n",
    "mu_3 = mu_adjust(mu_3)  # normal PL\n",
    "mu_03, mu3, mu_13, P3, G_13, H_13, U_13 = ChainGen_(mu_3)\n",
    "\n",
    "mu_4 = mu_adjust(mu_4)  # normal PL\n",
    "mu_04, mu4, mu_14, P4, G_14, H_14, U_14 = ChainGen_(mu_4)"
   ]
  },
  {
   "cell_type": "code",
   "execution_count": 7,
   "metadata": {
    "collapsed": true
   },
   "outputs": [],
   "source": [
    "beta = 0.001\n",
    "G_list = [G_11, G_12, G_13, G_14]\n",
    "H_list = [H_11, H_12, H_13, H_14]\n",
    "U_list = [U_11, U_12, U_13, U_14]\n",
    "\n",
    "eta_wc = {}\n",
    "eta_Sanov = {}\n",
    "\n",
    "# Get thresholds for Hoeffding's test corresponding to sample length n  \n",
    "def etaWC(n):\n",
    "    return HoeffdingRuleMarkovRobust_(beta, G_list, H_list, U_list, n)"
   ]
  },
  {
   "cell_type": "code",
   "execution_count": 8,
   "metadata": {
    "collapsed": true
   },
   "outputs": [],
   "source": [
    "# Loading test data\n",
    "\n",
    "with open(data_folder + 'sample_path_jam_test_data_sorted_trans.json', 'r') as json_file:\n",
    "    sample_path_jam_test_data_sorted_trans = json.load(json_file)"
   ]
  },
  {
   "cell_type": "code",
   "execution_count": 9,
   "metadata": {
    "collapsed": false
   },
   "outputs": [
    {
     "data": {
      "text/plain": [
       "{u'alphaTrans': 28.0,\n",
       " u'startTime': 300.0585,\n",
       " u'uuid': [u'8d8c6438-f059-3062-b8f2-d8a948f9c49f',\n",
       "  u'f48c594a-be63-38d4-87ff-cd316ecbf277']}"
      ]
     },
     "execution_count": 9,
     "metadata": {},
     "output_type": "execute_result"
    }
   ],
   "source": [
    "sample_path_jam_test_data_sorted_trans['0']"
   ]
  },
  {
   "cell_type": "code",
   "execution_count": 10,
   "metadata": {
    "collapsed": false
   },
   "outputs": [],
   "source": [
    "i = 0  # index of windows\n",
    "sam_gap = 100\n",
    "win_size = 600\n",
    "win_list = []\n",
    "while i * sam_gap + win_size < 24 * 3600:\n",
    "    win_list.append((i * sam_gap, i * sam_gap + win_size))\n",
    "    i += 1"
   ]
  },
  {
   "cell_type": "code",
   "execution_count": 11,
   "metadata": {
    "collapsed": false
   },
   "outputs": [
    {
     "data": {
      "text/plain": [
       "858"
      ]
     },
     "execution_count": 11,
     "metadata": {},
     "output_type": "execute_result"
    }
   ],
   "source": [
    "i"
   ]
  },
  {
   "cell_type": "code",
   "execution_count": 12,
   "metadata": {
    "collapsed": false
   },
   "outputs": [],
   "source": [
    "win_num = len(win_list)\n",
    "jam_num = len(sample_path_jam_test_data_sorted_trans)\n",
    "\n",
    "win_jam = {}\n",
    "for i in range(win_num):\n",
    "    key = str(i)\n",
    "    value = []\n",
    "    for j in range(jam_num):\n",
    "        if ((sample_path_jam_test_data_sorted_trans[str(j)]['startTime'] >= win_list[i][0]) \\\n",
    "            and (sample_path_jam_test_data_sorted_trans[str(j)]['startTime'] < win_list[i][1])):\n",
    "            value.append(str(j))\n",
    "    win_jam[key] = value"
   ]
  },
  {
   "cell_type": "code",
   "execution_count": 35,
   "metadata": {
    "collapsed": false
   },
   "outputs": [
    {
     "data": {
      "text/plain": [
       "(['1674', '1675', '1676', '1677', '1678', '1679', '1680', '1681'], 85700, 858)"
      ]
     },
     "execution_count": 35,
     "metadata": {},
     "output_type": "execute_result"
    }
   ],
   "source": [
    "win_jam['857'], win_list[857][0], win_num "
   ]
  },
  {
   "cell_type": "code",
   "execution_count": 64,
   "metadata": {
    "collapsed": false
   },
   "outputs": [
    {
     "data": {
      "text/plain": [
       "10500.0999"
      ]
     },
     "execution_count": 64,
     "metadata": {},
     "output_type": "execute_result"
    }
   ],
   "source": [
    "sample_path_jam_test_data_sorted_trans[win_jam['100'][0]]['startTime']"
   ]
  },
  {
   "cell_type": "code",
   "execution_count": 14,
   "metadata": {
    "collapsed": false
   },
   "outputs": [],
   "source": [
    "KL_list = []  # The list of the KL divergences; each is for a detection window\n",
    "etaWC_list = []\n",
    "for i in range(win_num):\n",
    "    sample_path_jam = [sample_path_jam_test_data_sorted_trans[key]['alphaTrans'] for key in win_jam[str(i)]]\n",
    "    n = len(sample_path_jam)\n",
    "    if (n != 0):\n",
    "        etaWC_list.append(etaWC(n))\n",
    "        KL_1 = KL_est(sample_path_jam, mu_1)\n",
    "        KL_2 = KL_est(sample_path_jam, mu_2)\n",
    "        KL_3 = KL_est(sample_path_jam, mu_3)\n",
    "        KL_4 = KL_est(sample_path_jam, mu_4)\n",
    "        KL_list.append(min([KL_1, KL_2, KL_3, KL_4]))\n",
    "    else:\n",
    "        etaWC_list.append(1e-6)\n",
    "        KL_list.append(0)"
   ]
  },
  {
   "cell_type": "code",
   "execution_count": null,
   "metadata": {
    "collapsed": true
   },
   "outputs": [],
   "source": [
    "time_range = [sample_path_jam_test_data_sorted_trans[win_jam[str(i)][0]]['startTime'] for i in range(win_num)]"
   ]
  },
  {
   "cell_type": "code",
   "execution_count": 66,
   "metadata": {
    "collapsed": false
   },
   "outputs": [
    {
     "data": {
      "text/plain": [
       "(['60', '61', '62'], 10600)"
      ]
     },
     "execution_count": 66,
     "metadata": {},
     "output_type": "execute_result"
    }
   ],
   "source": [
    "win_jam[str(100)], win_list[100][1]"
   ]
  },
  {
   "cell_type": "code",
   "execution_count": 74,
   "metadata": {
    "collapsed": false
   },
   "outputs": [],
   "source": [
    "time_range = [win_list[i][0] for i in range(win_num)]\n",
    "plot_points(time_range, KL_list, etaWC_list)\n",
    "plt.ylabel('divergence')\n",
    "plt.xlabel('time (s)')\n",
    "pylab.ylim(-0.1, max(etaWC_list)+0.5)\n",
    "pylab.xlim(0, max(time_range) + 100)\n",
    "plt.savefig(data_folder + 'detec_results_WC_robust.pdf')\n",
    "plt.show()"
   ]
  },
  {
   "cell_type": "code",
   "execution_count": 76,
   "metadata": {
    "collapsed": false
   },
   "outputs": [
    {
     "data": {
      "text/plain": [
       "(858, 858, 858, [0, 100])"
      ]
     },
     "execution_count": 76,
     "metadata": {},
     "output_type": "execute_result"
    }
   ],
   "source": [
    "len(time_range), len(KL_list), len(etaWC_list), time_range[0:2]"
   ]
  },
  {
   "cell_type": "code",
   "execution_count": 81,
   "metadata": {
    "collapsed": false
   },
   "outputs": [],
   "source": [
    "potential_ano_list = []\n",
    "for i in range(len(KL_list)):\n",
    "    if KL_list[i] > etaWC_list[i]:\n",
    "        for j in range(len(win_jam[str(i)])):\n",
    "            potential_ano_list.append(win_jam[str(i)][j])"
   ]
  },
  {
   "cell_type": "code",
   "execution_count": 91,
   "metadata": {
    "collapsed": false
   },
   "outputs": [
    {
     "data": {
      "text/plain": [
       "({u'alphaTrans': 4.0,\n",
       "  u'startTime': 51900.0063,\n",
       "  u'uuid': [u'81971278-86c3-34c4-9724-a509f85b0c01',\n",
       "   u'869012af-1c7e-3d84-9824-940fd2530b28']},\n",
       " {u'alphaTrans': 14.0,\n",
       "  u'startTime': 74700.0083,\n",
       "  u'uuid': [u'21883f62-022e-3f3c-9405-cc9165112fcd',\n",
       "   u'9ab64694-243c-318f-a57e-00bcc94c7a1c']})"
      ]
     },
     "execution_count": 91,
     "metadata": {},
     "output_type": "execute_result"
    }
   ],
   "source": [
    "sample_path_jam_test_data_sorted_trans['532'], sample_path_jam_test_data_sorted_trans['1140']"
   ]
  },
  {
   "cell_type": "code",
   "execution_count": 87,
   "metadata": {
    "collapsed": false
   },
   "outputs": [
    {
     "data": {
      "text/plain": [
       "{'1140',\n",
       " '1141',\n",
       " '1142',\n",
       " '1143',\n",
       " '1144',\n",
       " '1145',\n",
       " '1146',\n",
       " '1147',\n",
       " '1148',\n",
       " '1149',\n",
       " '1150',\n",
       " '1151',\n",
       " '1152',\n",
       " '1153',\n",
       " '1154',\n",
       " '1155',\n",
       " '1156',\n",
       " '1157',\n",
       " '1158',\n",
       " '1159',\n",
       " '1160',\n",
       " '1161',\n",
       " '1162',\n",
       " '1163',\n",
       " '1164',\n",
       " '1165',\n",
       " '1166',\n",
       " '1167',\n",
       " '1168',\n",
       " '1169',\n",
       " '1170',\n",
       " '1171',\n",
       " '1172',\n",
       " '1173',\n",
       " '1174',\n",
       " '1175',\n",
       " '1176',\n",
       " '1177',\n",
       " '1178',\n",
       " '1179',\n",
       " '1180',\n",
       " '1181',\n",
       " '1182',\n",
       " '1183',\n",
       " '1184',\n",
       " '1185',\n",
       " '1186',\n",
       " '1187',\n",
       " '1188',\n",
       " '1189',\n",
       " '1190',\n",
       " '1191',\n",
       " '1192',\n",
       " '1193',\n",
       " '1194',\n",
       " '1195',\n",
       " '1196',\n",
       " '1197',\n",
       " '1198',\n",
       " '1225',\n",
       " '1226',\n",
       " '1227',\n",
       " '1228',\n",
       " '1229',\n",
       " '1230',\n",
       " '1231',\n",
       " '1232',\n",
       " '1233',\n",
       " '1234',\n",
       " '1235',\n",
       " '1236',\n",
       " '1237',\n",
       " '1238',\n",
       " '1239',\n",
       " '1240',\n",
       " '1241',\n",
       " '1242',\n",
       " '1243',\n",
       " '1244',\n",
       " '1245',\n",
       " '1246',\n",
       " '1247',\n",
       " '1248',\n",
       " '1249',\n",
       " '1250',\n",
       " '1251',\n",
       " '1252',\n",
       " '1253',\n",
       " '1254',\n",
       " '1255',\n",
       " '1256',\n",
       " '1257',\n",
       " '1342',\n",
       " '1343',\n",
       " '1344',\n",
       " '1345',\n",
       " '1346',\n",
       " '1347',\n",
       " '1348',\n",
       " '1349',\n",
       " '1350',\n",
       " '1351',\n",
       " '1352',\n",
       " '1353',\n",
       " '1354',\n",
       " '1355',\n",
       " '1356',\n",
       " '1357',\n",
       " '1358',\n",
       " '1359',\n",
       " '1360',\n",
       " '1361',\n",
       " '1362',\n",
       " '1363',\n",
       " '1364',\n",
       " '1365',\n",
       " '1366',\n",
       " '1367',\n",
       " '1368',\n",
       " '1369',\n",
       " '1370',\n",
       " '1371',\n",
       " '1372',\n",
       " '1373',\n",
       " '1374',\n",
       " '1375',\n",
       " '1376',\n",
       " '1377',\n",
       " '1378',\n",
       " '1379',\n",
       " '1380',\n",
       " '1381',\n",
       " '1382',\n",
       " '1383',\n",
       " '1384',\n",
       " '1385',\n",
       " '1386',\n",
       " '1387',\n",
       " '1422',\n",
       " '1423',\n",
       " '1424',\n",
       " '1425',\n",
       " '1426',\n",
       " '1427',\n",
       " '1428',\n",
       " '1429',\n",
       " '1430',\n",
       " '1431',\n",
       " '1432',\n",
       " '1433',\n",
       " '1434',\n",
       " '1435',\n",
       " '1436',\n",
       " '1437',\n",
       " '1438',\n",
       " '1439',\n",
       " '1440',\n",
       " '1441',\n",
       " '1442',\n",
       " '1443',\n",
       " '1444',\n",
       " '1445',\n",
       " '1446',\n",
       " '1447',\n",
       " '1448',\n",
       " '1449',\n",
       " '1450',\n",
       " '1451',\n",
       " '1452',\n",
       " '1453',\n",
       " '1454',\n",
       " '1455',\n",
       " '1456',\n",
       " '1457',\n",
       " '1458',\n",
       " '1459',\n",
       " '1460',\n",
       " '1461',\n",
       " '1462',\n",
       " '1463',\n",
       " '1464',\n",
       " '1465',\n",
       " '1466',\n",
       " '1467',\n",
       " '1468',\n",
       " '1469',\n",
       " '1470',\n",
       " '1471',\n",
       " '1472',\n",
       " '1473',\n",
       " '1474',\n",
       " '1475',\n",
       " '1476',\n",
       " '1477',\n",
       " '1478',\n",
       " '1479',\n",
       " '1480',\n",
       " '1481',\n",
       " '1482',\n",
       " '1483',\n",
       " '1484',\n",
       " '1485',\n",
       " '1486',\n",
       " '1487',\n",
       " '1488',\n",
       " '1489',\n",
       " '1490',\n",
       " '1491',\n",
       " '1492',\n",
       " '1493',\n",
       " '1572',\n",
       " '1573',\n",
       " '1574',\n",
       " '1575',\n",
       " '1576',\n",
       " '1577',\n",
       " '1578',\n",
       " '1579',\n",
       " '1580',\n",
       " '1581',\n",
       " '1582',\n",
       " '1583',\n",
       " '1584',\n",
       " '1585',\n",
       " '1586',\n",
       " '1587',\n",
       " '1588',\n",
       " '1589',\n",
       " '1590',\n",
       " '1591',\n",
       " '532',\n",
       " '533',\n",
       " '534',\n",
       " '535',\n",
       " '536',\n",
       " '537',\n",
       " '538',\n",
       " '584',\n",
       " '585',\n",
       " '586',\n",
       " '587',\n",
       " '588',\n",
       " '589',\n",
       " '590',\n",
       " '591',\n",
       " '592',\n",
       " '593',\n",
       " '594'}"
      ]
     },
     "execution_count": 87,
     "metadata": {},
     "output_type": "execute_result"
    }
   ],
   "source": [
    "set(potential_ano_list)"
   ]
  },
  {
   "cell_type": "code",
   "execution_count": null,
   "metadata": {
    "collapsed": true
   },
   "outputs": [],
   "source": []
  }
 ],
 "metadata": {
  "kernelspec": {
   "display_name": "Python 2",
   "language": "python",
   "name": "python2"
  },
  "language_info": {
   "codemirror_mode": {
    "name": "ipython",
    "version": 2
   },
   "file_extension": ".py",
   "mimetype": "text/x-python",
   "name": "python",
   "nbconvert_exporter": "python",
   "pygments_lexer": "ipython2",
   "version": "2.7.11"
  }
 },
 "nbformat": 4,
 "nbformat_minor": 0
}
