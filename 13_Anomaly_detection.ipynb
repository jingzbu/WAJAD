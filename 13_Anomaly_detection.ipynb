{
 "cells": [
  {
   "cell_type": "code",
   "execution_count": 1,
   "metadata": {
    "collapsed": false
   },
   "outputs": [
    {
     "name": "stderr",
     "output_type": "stream",
     "text": [
      "/home/jzh/anaconda2/lib/python2.7/site-packages/matplotlib/font_manager.py:273: UserWarning: Matplotlib is building the font cache using fc-list. This may take a moment.\n",
      "  warnings.warn('Matplotlib is building the font cache using fc-list. This may take a moment.')\n"
     ]
    }
   ],
   "source": [
    "%run util.py"
   ]
  },
  {
   "cell_type": "code",
   "execution_count": 2,
   "metadata": {
    "collapsed": true
   },
   "outputs": [],
   "source": [
    "data_folder = '/home/jzh/Waze/'"
   ]
  },
  {
   "cell_type": "code",
   "execution_count": 3,
   "metadata": {
    "collapsed": true
   },
   "outputs": [],
   "source": [
    "import json"
   ]
  },
  {
   "cell_type": "code",
   "execution_count": 5,
   "metadata": {
    "collapsed": false
   },
   "outputs": [],
   "source": [
    "# Loading PL data\n",
    "PL_dict = zload(data_folder + 'PL_dict.pkz') "
   ]
  },
  {
   "cell_type": "code",
   "execution_count": 6,
   "metadata": {
    "collapsed": false
   },
   "outputs": [],
   "source": [
    "# PL_dict"
   ]
  },
  {
   "cell_type": "code",
   "execution_count": 7,
   "metadata": {
    "collapsed": false
   },
   "outputs": [
    {
     "name": "stderr",
     "output_type": "stream",
     "text": [
      "<string>:486: RuntimeWarning: covariance is not positive-semidefinite.\n"
     ]
    }
   ],
   "source": [
    "mu_1 = PL_dict['PL_AM']  # normal PL for AM period\n",
    "mu_2 = PL_dict['PL_MD']  # normal PL for MD period\n",
    "mu_3 = PL_dict['PL_PM']  # normal PL for PM period\n",
    "mu_4 = PL_dict['PL_NT']  # normal PL for NT period\n",
    "\n",
    "mu_1 = mu_adjust(mu_1)  # normal PL\n",
    "mu_01, mu1, mu_11, P1, G_11, H_11, U_11 = ChainGen_(mu_1)\n",
    "\n",
    "mu_2 = mu_adjust(mu_2)  # normal PL\n",
    "mu_02, mu2, mu_12, P2, G_12, H_12, U_12 = ChainGen_(mu_2)\n",
    "\n",
    "mu_3 = mu_adjust(mu_3)  # normal PL\n",
    "mu_03, mu3, mu_13, P3, G_13, H_13, U_13 = ChainGen_(mu_3)\n",
    "\n",
    "mu_4 = mu_adjust(mu_4)  # normal PL\n",
    "mu_04, mu4, mu_14, P4, G_14, H_14, U_14 = ChainGen_(mu_4)"
   ]
  },
  {
   "cell_type": "code",
   "execution_count": 8,
   "metadata": {
    "collapsed": true
   },
   "outputs": [],
   "source": [
    "beta = 0.001\n",
    "G_list = [G_11, G_12, G_13, G_14]\n",
    "H_list = [H_11, H_12, H_13, H_14]\n",
    "U_list = [U_11, U_12, U_13, U_14]\n",
    "\n",
    "eta_wc = {}\n",
    "eta_Sanov = {}\n",
    "\n",
    "# Get thresholds for Hoeffding's test corresponding to sample length n  \n",
    "def etaWC(n):\n",
    "    return HoeffdingRuleMarkovRobust_(beta, G_list, H_list, U_list, n)"
   ]
  },
  {
   "cell_type": "code",
   "execution_count": 9,
   "metadata": {
    "collapsed": false
   },
   "outputs": [
    {
     "ename": "IOError",
     "evalue": "[Errno 2] No such file or directory: '/home/jzh/Waze/sample_path_jam_test_data_sorted_trans.json'",
     "output_type": "error",
     "traceback": [
      "\u001b[1;31m---------------------------------------------------------------------------\u001b[0m",
      "\u001b[1;31mIOError\u001b[0m                                   Traceback (most recent call last)",
      "\u001b[1;32m<ipython-input-9-05b5b335e7a8>\u001b[0m in \u001b[0;36m<module>\u001b[1;34m()\u001b[0m\n\u001b[0;32m      1\u001b[0m \u001b[1;31m# Loading test data\u001b[0m\u001b[1;33m\u001b[0m\u001b[1;33m\u001b[0m\u001b[0m\n\u001b[0;32m      2\u001b[0m \u001b[1;33m\u001b[0m\u001b[0m\n\u001b[1;32m----> 3\u001b[1;33m \u001b[1;32mwith\u001b[0m \u001b[0mopen\u001b[0m\u001b[1;33m(\u001b[0m\u001b[0mdata_folder\u001b[0m \u001b[1;33m+\u001b[0m \u001b[1;34m'sample_path_jam_test_data_sorted_trans.json'\u001b[0m\u001b[1;33m,\u001b[0m \u001b[1;34m'r'\u001b[0m\u001b[1;33m)\u001b[0m \u001b[1;32mas\u001b[0m \u001b[0mjson_file\u001b[0m\u001b[1;33m:\u001b[0m\u001b[1;33m\u001b[0m\u001b[0m\n\u001b[0m\u001b[0;32m      4\u001b[0m     \u001b[0msample_path_jam_test_data_sorted_trans\u001b[0m \u001b[1;33m=\u001b[0m \u001b[0mjson\u001b[0m\u001b[1;33m.\u001b[0m\u001b[0mload\u001b[0m\u001b[1;33m(\u001b[0m\u001b[0mjson_file\u001b[0m\u001b[1;33m)\u001b[0m\u001b[1;33m\u001b[0m\u001b[0m\n",
      "\u001b[1;31mIOError\u001b[0m: [Errno 2] No such file or directory: '/home/jzh/Waze/sample_path_jam_test_data_sorted_trans.json'"
     ]
    }
   ],
   "source": [
    "# Loading test data\n",
    "\n",
    "with open(data_folder + 'sample_path_jam_test_data_sorted_trans.json', 'r') as json_file:\n",
    "    sample_path_jam_test_data_sorted_trans = json.load(json_file)"
   ]
  },
  {
   "cell_type": "code",
   "execution_count": 9,
   "metadata": {
    "collapsed": false
   },
   "outputs": [
    {
     "data": {
      "text/plain": [
       "{u'alphaTrans': 39.0,\n",
       " u'startTime': 300.0742,\n",
       " u'uuid': [u'4a27354e-e8c6-373c-9863-f6bfe6d7a4d4',\n",
       "  u'd836e23a-c958-37a7-b126-c70258b61a7a']}"
      ]
     },
     "execution_count": 9,
     "metadata": {},
     "output_type": "execute_result"
    }
   ],
   "source": [
    "sample_path_jam_test_data_sorted_trans['0']"
   ]
  },
  {
   "cell_type": "code",
   "execution_count": 10,
   "metadata": {
    "collapsed": false
   },
   "outputs": [],
   "source": [
    "i = 0  # index of windows\n",
    "sam_gap = 120\n",
    "win_size = 600\n",
    "win_list = []\n",
    "while i * sam_gap + win_size < 24 * 3600:\n",
    "    win_list.append((i * sam_gap, i * sam_gap + win_size))\n",
    "    i += 1"
   ]
  },
  {
   "cell_type": "code",
   "execution_count": 11,
   "metadata": {
    "collapsed": false
   },
   "outputs": [
    {
     "data": {
      "text/plain": [
       "715"
      ]
     },
     "execution_count": 11,
     "metadata": {},
     "output_type": "execute_result"
    }
   ],
   "source": [
    "i"
   ]
  },
  {
   "cell_type": "code",
   "execution_count": 12,
   "metadata": {
    "collapsed": false
   },
   "outputs": [],
   "source": [
    "win_num = len(win_list)\n",
    "jam_num = len(sample_path_jam_test_data_sorted_trans)\n",
    "\n",
    "win_jam = {}\n",
    "for i in range(win_num):\n",
    "    key = str(i)\n",
    "    value = []\n",
    "    for j in range(jam_num):\n",
    "        if ((sample_path_jam_test_data_sorted_trans[str(j)]['startTime'] >= win_list[i][0]) \\\n",
    "            and (sample_path_jam_test_data_sorted_trans[str(j)]['startTime'] < win_list[i][1])):\n",
    "            value.append(str(j))\n",
    "    win_jam[key] = value"
   ]
  },
  {
   "cell_type": "code",
   "execution_count": 16,
   "metadata": {
    "collapsed": false
   },
   "outputs": [
    {
     "data": {
      "text/plain": [
       "(['3733',\n",
       "  '3734',\n",
       "  '3735',\n",
       "  '3736',\n",
       "  '3737',\n",
       "  '3738',\n",
       "  '3739',\n",
       "  '3740',\n",
       "  '3741',\n",
       "  '3742',\n",
       "  '3743',\n",
       "  '3744',\n",
       "  '3745',\n",
       "  '3746',\n",
       "  '3747',\n",
       "  '3748',\n",
       "  '3749',\n",
       "  '3750',\n",
       "  '3751',\n",
       "  '3752',\n",
       "  '3753',\n",
       "  '3754'],\n",
       " 85680,\n",
       " 715)"
      ]
     },
     "execution_count": 16,
     "metadata": {},
     "output_type": "execute_result"
    }
   ],
   "source": [
    "win_jam['714'], win_list[714][0], win_num "
   ]
  },
  {
   "cell_type": "code",
   "execution_count": 17,
   "metadata": {
    "collapsed": false
   },
   "outputs": [
    {
     "data": {
      "text/plain": [
       "12300.2363"
      ]
     },
     "execution_count": 17,
     "metadata": {},
     "output_type": "execute_result"
    }
   ],
   "source": [
    "sample_path_jam_test_data_sorted_trans[win_jam['100'][0]]['startTime']"
   ]
  },
  {
   "cell_type": "code",
   "execution_count": 18,
   "metadata": {
    "collapsed": false
   },
   "outputs": [],
   "source": [
    "KL_list = []  # The list of the KL divergences; each is for a detection window\n",
    "etaWC_list = []\n",
    "for i in range(win_num):\n",
    "    sample_path_jam = [sample_path_jam_test_data_sorted_trans[key]['alphaTrans'] for key in win_jam[str(i)]]\n",
    "    n = len(sample_path_jam)\n",
    "    if (n != 0):\n",
    "        etaWC_list.append(etaWC(n))\n",
    "        KL_1 = KL_est(sample_path_jam, mu_1)\n",
    "        KL_2 = KL_est(sample_path_jam, mu_2)\n",
    "        KL_3 = KL_est(sample_path_jam, mu_3)\n",
    "        KL_4 = KL_est(sample_path_jam, mu_4)\n",
    "        KL_list.append(min([KL_1, KL_2, KL_3, KL_4]))\n",
    "    else:\n",
    "        etaWC_list.append(1e-6)\n",
    "        KL_list.append(0)"
   ]
  },
  {
   "cell_type": "code",
   "execution_count": 19,
   "metadata": {
    "collapsed": false
   },
   "outputs": [
    {
     "data": {
      "text/plain": [
       "(['225', '226', '227', '228', '229', '230'], 12600)"
      ]
     },
     "execution_count": 19,
     "metadata": {},
     "output_type": "execute_result"
    }
   ],
   "source": [
    "win_jam[str(100)], win_list[100][1]"
   ]
  },
  {
   "cell_type": "code",
   "execution_count": 20,
   "metadata": {
    "collapsed": false
   },
   "outputs": [],
   "source": [
    "time_range = [win_list[i][0] / 60.0 for i in range(win_num)]\n",
    "plot_points(time_range, KL_list, etaWC_list)\n",
    "plt.ylabel('divergence')\n",
    "plt.xlabel('time (min)')\n",
    "pylab.ylim(-0.1, max(etaWC_list)+0.5)\n",
    "pylab.xlim(0, max(time_range) + 10)\n",
    "plt.savefig(data_folder + 'detec_results_WC_robust.pdf')\n",
    "plt.show()"
   ]
  },
  {
   "cell_type": "code",
   "execution_count": 21,
   "metadata": {
    "collapsed": false
   },
   "outputs": [
    {
     "data": {
      "text/plain": [
       "(715, 715, 715, [0.0, 2.0])"
      ]
     },
     "execution_count": 21,
     "metadata": {},
     "output_type": "execute_result"
    }
   ],
   "source": [
    "len(time_range), len(KL_list), len(etaWC_list), time_range[0:2]"
   ]
  },
  {
   "cell_type": "code",
   "execution_count": 22,
   "metadata": {
    "collapsed": false
   },
   "outputs": [],
   "source": [
    "potential_ano_list = []\n",
    "for i in range(len(KL_list)):\n",
    "    if KL_list[i] > etaWC_list[i]:\n",
    "        for j in range(len(win_jam[str(i)])):\n",
    "            potential_ano_list.append(win_jam[str(i)][j])"
   ]
  },
  {
   "cell_type": "code",
   "execution_count": 23,
   "metadata": {
    "collapsed": false
   },
   "outputs": [],
   "source": [
    "with open(data_folder + 'sample_path_jam_test_data_sorted.json', 'r') as json_file:\n",
    "    sample_path_jam_test_data_sorted = json.load(json_file)"
   ]
  },
  {
   "cell_type": "code",
   "execution_count": 24,
   "metadata": {
    "collapsed": false
   },
   "outputs": [
    {
     "data": {
      "text/plain": [
       "{u'alpha': 0.0,\n",
       " u'length': 3568.0,\n",
       " u'numPts': 25.0,\n",
       " u'speed': 8.919444444444444,\n",
       " u'startTime': 82500.3026,\n",
       " u'uuid': u'949eca59-4be7-3352-af0e-959032a35a2c'}"
      ]
     },
     "execution_count": 24,
     "metadata": {},
     "output_type": "execute_result"
    }
   ],
   "source": [
    "sample_path_jam_test_data_sorted['3551']"
   ]
  },
  {
   "cell_type": "code",
   "execution_count": 25,
   "metadata": {
    "collapsed": false
   },
   "outputs": [
    {
     "data": {
      "text/plain": [
       "(585,\n",
       " {'1167',\n",
       "  '1168',\n",
       "  '1169',\n",
       "  '1170',\n",
       "  '1171',\n",
       "  '1172',\n",
       "  '1173',\n",
       "  '1174',\n",
       "  '1175',\n",
       "  '1176',\n",
       "  '1177',\n",
       "  '1178',\n",
       "  '1179',\n",
       "  '1180',\n",
       "  '1181',\n",
       "  '1182',\n",
       "  '1183',\n",
       "  '1184',\n",
       "  '1185',\n",
       "  '1186',\n",
       "  '1187',\n",
       "  '1188',\n",
       "  '1189',\n",
       "  '1190',\n",
       "  '1191',\n",
       "  '1192',\n",
       "  '1193',\n",
       "  '1194',\n",
       "  '1195',\n",
       "  '1526',\n",
       "  '1527',\n",
       "  '1528',\n",
       "  '1529',\n",
       "  '1530',\n",
       "  '1531',\n",
       "  '1532',\n",
       "  '1533',\n",
       "  '1534',\n",
       "  '1535',\n",
       "  '1536',\n",
       "  '1537',\n",
       "  '1538',\n",
       "  '1539',\n",
       "  '1540',\n",
       "  '1541',\n",
       "  '1542',\n",
       "  '1543',\n",
       "  '1544',\n",
       "  '1545',\n",
       "  '1546',\n",
       "  '1547',\n",
       "  '1548',\n",
       "  '1549',\n",
       "  '1550',\n",
       "  '1551',\n",
       "  '1552',\n",
       "  '1553',\n",
       "  '1554',\n",
       "  '1555',\n",
       "  '1556',\n",
       "  '1557',\n",
       "  '1558',\n",
       "  '1559',\n",
       "  '1560',\n",
       "  '1561',\n",
       "  '1599',\n",
       "  '1600',\n",
       "  '1601',\n",
       "  '1602',\n",
       "  '1603',\n",
       "  '1604',\n",
       "  '1605',\n",
       "  '1606',\n",
       "  '1607',\n",
       "  '1608',\n",
       "  '1609',\n",
       "  '1610',\n",
       "  '1611',\n",
       "  '1612',\n",
       "  '1613',\n",
       "  '1614',\n",
       "  '1615',\n",
       "  '1616',\n",
       "  '1617',\n",
       "  '1618',\n",
       "  '1619',\n",
       "  '1620',\n",
       "  '1621',\n",
       "  '1622',\n",
       "  '1623',\n",
       "  '1624',\n",
       "  '1625',\n",
       "  '1626',\n",
       "  '1627',\n",
       "  '1628',\n",
       "  '1629',\n",
       "  '1630',\n",
       "  '1631',\n",
       "  '1632',\n",
       "  '1633',\n",
       "  '1634',\n",
       "  '1635',\n",
       "  '1636',\n",
       "  '1637',\n",
       "  '1638',\n",
       "  '1639',\n",
       "  '1640',\n",
       "  '1848',\n",
       "  '1849',\n",
       "  '1850',\n",
       "  '1851',\n",
       "  '1852',\n",
       "  '1853',\n",
       "  '1854',\n",
       "  '1855',\n",
       "  '1856',\n",
       "  '1857',\n",
       "  '1858',\n",
       "  '1859',\n",
       "  '1860',\n",
       "  '1861',\n",
       "  '1862',\n",
       "  '1863',\n",
       "  '1864',\n",
       "  '1865',\n",
       "  '1866',\n",
       "  '1867',\n",
       "  '1868',\n",
       "  '1869',\n",
       "  '1870',\n",
       "  '1871',\n",
       "  '1872',\n",
       "  '1873',\n",
       "  '1874',\n",
       "  '1875',\n",
       "  '1876',\n",
       "  '1877',\n",
       "  '1878',\n",
       "  '1879',\n",
       "  '2170',\n",
       "  '2171',\n",
       "  '2172',\n",
       "  '2173',\n",
       "  '2174',\n",
       "  '2175',\n",
       "  '2176',\n",
       "  '2177',\n",
       "  '2178',\n",
       "  '2179',\n",
       "  '2180',\n",
       "  '2181',\n",
       "  '2182',\n",
       "  '2183',\n",
       "  '2184',\n",
       "  '2185',\n",
       "  '2186',\n",
       "  '2187',\n",
       "  '2188',\n",
       "  '2189',\n",
       "  '2190',\n",
       "  '2191',\n",
       "  '2192',\n",
       "  '2193',\n",
       "  '2194',\n",
       "  '2195',\n",
       "  '2196',\n",
       "  '2197',\n",
       "  '2198',\n",
       "  '2199',\n",
       "  '2200',\n",
       "  '2201',\n",
       "  '2202',\n",
       "  '2203',\n",
       "  '2204',\n",
       "  '2205',\n",
       "  '2206',\n",
       "  '2207',\n",
       "  '2208',\n",
       "  '2209',\n",
       "  '2210',\n",
       "  '2211',\n",
       "  '2212',\n",
       "  '2213',\n",
       "  '2214',\n",
       "  '2215',\n",
       "  '2216',\n",
       "  '2217',\n",
       "  '2218',\n",
       "  '2219',\n",
       "  '2220',\n",
       "  '2353',\n",
       "  '2354',\n",
       "  '2355',\n",
       "  '2356',\n",
       "  '2357',\n",
       "  '2358',\n",
       "  '2359',\n",
       "  '2360',\n",
       "  '2361',\n",
       "  '2362',\n",
       "  '2363',\n",
       "  '2364',\n",
       "  '2365',\n",
       "  '2366',\n",
       "  '2367',\n",
       "  '2368',\n",
       "  '2369',\n",
       "  '2370',\n",
       "  '2371',\n",
       "  '2372',\n",
       "  '2373',\n",
       "  '2374',\n",
       "  '2375',\n",
       "  '2376',\n",
       "  '2377',\n",
       "  '2378',\n",
       "  '2379',\n",
       "  '2380',\n",
       "  '2381',\n",
       "  '2382',\n",
       "  '2383',\n",
       "  '2384',\n",
       "  '2385',\n",
       "  '2386',\n",
       "  '2387',\n",
       "  '2388',\n",
       "  '2389',\n",
       "  '2390',\n",
       "  '2391',\n",
       "  '2392',\n",
       "  '2393',\n",
       "  '2394',\n",
       "  '2395',\n",
       "  '2396',\n",
       "  '2397',\n",
       "  '2398',\n",
       "  '2399',\n",
       "  '2400',\n",
       "  '2401',\n",
       "  '2402',\n",
       "  '2403',\n",
       "  '2404',\n",
       "  '2405',\n",
       "  '2406',\n",
       "  '2407',\n",
       "  '2408',\n",
       "  '2409',\n",
       "  '2410',\n",
       "  '2411',\n",
       "  '2887',\n",
       "  '2888',\n",
       "  '2889',\n",
       "  '2890',\n",
       "  '2891',\n",
       "  '2892',\n",
       "  '2893',\n",
       "  '2894',\n",
       "  '2895',\n",
       "  '2896',\n",
       "  '2897',\n",
       "  '2898',\n",
       "  '2899',\n",
       "  '2900',\n",
       "  '2901',\n",
       "  '2902',\n",
       "  '2903',\n",
       "  '2904',\n",
       "  '2905',\n",
       "  '2906',\n",
       "  '2907',\n",
       "  '2908',\n",
       "  '2909',\n",
       "  '2910',\n",
       "  '2911',\n",
       "  '2912',\n",
       "  '2913',\n",
       "  '2914',\n",
       "  '2915',\n",
       "  '2916',\n",
       "  '2917',\n",
       "  '2918',\n",
       "  '2919',\n",
       "  '2920',\n",
       "  '2921',\n",
       "  '2922',\n",
       "  '2923',\n",
       "  '2924',\n",
       "  '2925',\n",
       "  '2926',\n",
       "  '2927',\n",
       "  '2928',\n",
       "  '2929',\n",
       "  '2930',\n",
       "  '2931',\n",
       "  '2932',\n",
       "  '2933',\n",
       "  '2934',\n",
       "  '2935',\n",
       "  '2936',\n",
       "  '2937',\n",
       "  '2938',\n",
       "  '2939',\n",
       "  '2940',\n",
       "  '2941',\n",
       "  '2942',\n",
       "  '2943',\n",
       "  '2944',\n",
       "  '2945',\n",
       "  '2946',\n",
       "  '2947',\n",
       "  '2948',\n",
       "  '2949',\n",
       "  '2950',\n",
       "  '2951',\n",
       "  '2952',\n",
       "  '2953',\n",
       "  '2954',\n",
       "  '2955',\n",
       "  '2956',\n",
       "  '2957',\n",
       "  '2958',\n",
       "  '2959',\n",
       "  '2960',\n",
       "  '2961',\n",
       "  '2962',\n",
       "  '2963',\n",
       "  '2964',\n",
       "  '2965',\n",
       "  '2966',\n",
       "  '2967',\n",
       "  '2968',\n",
       "  '2969',\n",
       "  '2970',\n",
       "  '2971',\n",
       "  '2972',\n",
       "  '2973',\n",
       "  '2974',\n",
       "  '2975',\n",
       "  '2976',\n",
       "  '2977',\n",
       "  '2978',\n",
       "  '2979',\n",
       "  '2980',\n",
       "  '2981',\n",
       "  '2982',\n",
       "  '2983',\n",
       "  '2984',\n",
       "  '2985',\n",
       "  '2986',\n",
       "  '2987',\n",
       "  '2988',\n",
       "  '2989',\n",
       "  '2990',\n",
       "  '2991',\n",
       "  '2992',\n",
       "  '2993',\n",
       "  '2994',\n",
       "  '2995',\n",
       "  '2996',\n",
       "  '2997',\n",
       "  '2998',\n",
       "  '2999',\n",
       "  '3000',\n",
       "  '3001',\n",
       "  '3002',\n",
       "  '3003',\n",
       "  '3004',\n",
       "  '3005',\n",
       "  '3006',\n",
       "  '3007',\n",
       "  '3008',\n",
       "  '3009',\n",
       "  '3010',\n",
       "  '3011',\n",
       "  '3012',\n",
       "  '3013',\n",
       "  '3014',\n",
       "  '3015',\n",
       "  '3016',\n",
       "  '3017',\n",
       "  '3018',\n",
       "  '3019',\n",
       "  '3020',\n",
       "  '3021',\n",
       "  '3022',\n",
       "  '3023',\n",
       "  '3024',\n",
       "  '3025',\n",
       "  '3026',\n",
       "  '3027',\n",
       "  '3028',\n",
       "  '3029',\n",
       "  '3030',\n",
       "  '3031',\n",
       "  '3032',\n",
       "  '3033',\n",
       "  '3034',\n",
       "  '3035',\n",
       "  '3036',\n",
       "  '3037',\n",
       "  '3038',\n",
       "  '3039',\n",
       "  '3040',\n",
       "  '3041',\n",
       "  '3042',\n",
       "  '3043',\n",
       "  '3044',\n",
       "  '3045',\n",
       "  '3046',\n",
       "  '3047',\n",
       "  '3048',\n",
       "  '3049',\n",
       "  '3050',\n",
       "  '3051',\n",
       "  '3052',\n",
       "  '3053',\n",
       "  '3151',\n",
       "  '3152',\n",
       "  '3153',\n",
       "  '3154',\n",
       "  '3155',\n",
       "  '3156',\n",
       "  '3157',\n",
       "  '3158',\n",
       "  '3159',\n",
       "  '3160',\n",
       "  '3161',\n",
       "  '3162',\n",
       "  '3163',\n",
       "  '3164',\n",
       "  '3165',\n",
       "  '3166',\n",
       "  '3167',\n",
       "  '3168',\n",
       "  '3169',\n",
       "  '3170',\n",
       "  '3171',\n",
       "  '3172',\n",
       "  '3173',\n",
       "  '3174',\n",
       "  '3175',\n",
       "  '3176',\n",
       "  '3177',\n",
       "  '3178',\n",
       "  '3179',\n",
       "  '3180',\n",
       "  '3181',\n",
       "  '3182',\n",
       "  '3183',\n",
       "  '3184',\n",
       "  '3185',\n",
       "  '3186',\n",
       "  '3187',\n",
       "  '3188',\n",
       "  '3189',\n",
       "  '3190',\n",
       "  '3191',\n",
       "  '3192',\n",
       "  '3193',\n",
       "  '3194',\n",
       "  '3195',\n",
       "  '3196',\n",
       "  '3197',\n",
       "  '3198',\n",
       "  '3199',\n",
       "  '3200',\n",
       "  '3201',\n",
       "  '3202',\n",
       "  '3203',\n",
       "  '3204',\n",
       "  '3205',\n",
       "  '3206',\n",
       "  '3207',\n",
       "  '3208',\n",
       "  '3209',\n",
       "  '3210',\n",
       "  '3211',\n",
       "  '3212',\n",
       "  '3213',\n",
       "  '3214',\n",
       "  '3215',\n",
       "  '3216',\n",
       "  '3217',\n",
       "  '3218',\n",
       "  '3219',\n",
       "  '3220',\n",
       "  '3221',\n",
       "  '3222',\n",
       "  '3223',\n",
       "  '3224',\n",
       "  '3225',\n",
       "  '3226',\n",
       "  '3381',\n",
       "  '3382',\n",
       "  '3383',\n",
       "  '3384',\n",
       "  '3385',\n",
       "  '3386',\n",
       "  '3387',\n",
       "  '3388',\n",
       "  '3389',\n",
       "  '3390',\n",
       "  '3391',\n",
       "  '3392',\n",
       "  '3393',\n",
       "  '3394',\n",
       "  '3395',\n",
       "  '3396',\n",
       "  '3397',\n",
       "  '3398',\n",
       "  '3399',\n",
       "  '3400',\n",
       "  '3401',\n",
       "  '3402',\n",
       "  '3403',\n",
       "  '3404',\n",
       "  '3405',\n",
       "  '3406',\n",
       "  '3407',\n",
       "  '3408',\n",
       "  '3409',\n",
       "  '3410',\n",
       "  '3411',\n",
       "  '3412',\n",
       "  '3413',\n",
       "  '3414',\n",
       "  '3415',\n",
       "  '3416',\n",
       "  '3417',\n",
       "  '3418',\n",
       "  '3419',\n",
       "  '3420',\n",
       "  '3421',\n",
       "  '3422',\n",
       "  '3423',\n",
       "  '3424',\n",
       "  '3425',\n",
       "  '3426',\n",
       "  '3427',\n",
       "  '3428',\n",
       "  '3429',\n",
       "  '3430',\n",
       "  '3431',\n",
       "  '3432',\n",
       "  '3530',\n",
       "  '3531',\n",
       "  '3532',\n",
       "  '3533',\n",
       "  '3534',\n",
       "  '3535',\n",
       "  '3536',\n",
       "  '3537',\n",
       "  '3538',\n",
       "  '3539',\n",
       "  '3540',\n",
       "  '3541',\n",
       "  '3542',\n",
       "  '3543',\n",
       "  '3544',\n",
       "  '3545',\n",
       "  '3546',\n",
       "  '3547',\n",
       "  '3548',\n",
       "  '3549',\n",
       "  '3550',\n",
       "  '3551',\n",
       "  '3552',\n",
       "  '3553',\n",
       "  '3554',\n",
       "  '3555',\n",
       "  '3556',\n",
       "  '3557',\n",
       "  '3558',\n",
       "  '3559',\n",
       "  '3560',\n",
       "  '3561',\n",
       "  '3562',\n",
       "  '3563',\n",
       "  '3564',\n",
       "  '3565',\n",
       "  '3566',\n",
       "  '3567',\n",
       "  '3568',\n",
       "  '3569',\n",
       "  '3570'})"
      ]
     },
     "execution_count": 25,
     "metadata": {},
     "output_type": "execute_result"
    }
   ],
   "source": [
    "len(set(potential_ano_list)), set(potential_ano_list)"
   ]
  },
  {
   "cell_type": "code",
   "execution_count": 26,
   "metadata": {
    "collapsed": false
   },
   "outputs": [
    {
     "data": {
      "text/plain": [
       "3755"
      ]
     },
     "execution_count": 26,
     "metadata": {},
     "output_type": "execute_result"
    }
   ],
   "source": [
    "len(sample_path_jam_test_data_sorted_trans)"
   ]
  },
  {
   "cell_type": "code",
   "execution_count": 27,
   "metadata": {
    "collapsed": false
   },
   "outputs": [
    {
     "data": {
      "text/plain": [
       "(13.333333333333334, 16.666666666666668, 20.0, 23.333333333333332)"
      ]
     },
     "execution_count": 27,
     "metadata": {},
     "output_type": "execute_result"
    }
   ],
   "source": [
    "800 / 60.0, 1000 / 60.0, 1200 / 60.0, 1400 / 60.0"
   ]
  },
  {
   "cell_type": "code",
   "execution_count": 28,
   "metadata": {
    "collapsed": true
   },
   "outputs": [],
   "source": [
    "# Refine the detection results; if a jam's length is larger than 1 km,\n",
    "# then the jam is \"indeed\" abnormal.\n",
    "ano_list = []\n",
    "for key in set(potential_ano_list):\n",
    "    if (sample_path_jam_test_data_sorted[key]['length'] > 1000):\n",
    "        ano_list.append(key)"
   ]
  },
  {
   "cell_type": "code",
   "execution_count": 29,
   "metadata": {
    "collapsed": false,
    "scrolled": true
   },
   "outputs": [
    {
     "data": {
      "text/plain": [
       "(62,\n",
       " ['3551',\n",
       "  '3548',\n",
       "  '2917',\n",
       "  '3204',\n",
       "  '2982',\n",
       "  '2985',\n",
       "  '1533',\n",
       "  '1622',\n",
       "  '1621',\n",
       "  '1627',\n",
       "  '3209',\n",
       "  '2949',\n",
       "  '2947',\n",
       "  '2946',\n",
       "  '2943',\n",
       "  '1195',\n",
       "  '1178',\n",
       "  '2404',\n",
       "  '3562',\n",
       "  '3567',\n",
       "  '3568',\n",
       "  '3206',\n",
       "  '3395',\n",
       "  '2371',\n",
       "  '1877',\n",
       "  '2887',\n",
       "  '2888',\n",
       "  '1619',\n",
       "  '2979',\n",
       "  '2973',\n",
       "  '3179',\n",
       "  '1547',\n",
       "  '1544',\n",
       "  '1540',\n",
       "  '3405',\n",
       "  '1188',\n",
       "  '2190',\n",
       "  '2195',\n",
       "  '3164',\n",
       "  '1867',\n",
       "  '1866',\n",
       "  '2890',\n",
       "  '3183',\n",
       "  '1609',\n",
       "  '2968',\n",
       "  '3043',\n",
       "  '3042',\n",
       "  '3047',\n",
       "  '1554',\n",
       "  '3006',\n",
       "  '1855',\n",
       "  '2927',\n",
       "  '2926',\n",
       "  '1634',\n",
       "  '1635',\n",
       "  '3053',\n",
       "  '2180',\n",
       "  '2215',\n",
       "  '1189',\n",
       "  '1181',\n",
       "  '2358',\n",
       "  '2357'])"
      ]
     },
     "execution_count": 29,
     "metadata": {},
     "output_type": "execute_result"
    }
   ],
   "source": [
    "len(ano_list), ano_list"
   ]
  },
  {
   "cell_type": "code",
   "execution_count": null,
   "metadata": {
    "collapsed": true
   },
   "outputs": [],
   "source": []
  }
 ],
 "metadata": {
  "kernelspec": {
   "display_name": "Python 2",
   "language": "python",
   "name": "python2"
  },
  "language_info": {
   "codemirror_mode": {
    "name": "ipython",
    "version": 2
   },
   "file_extension": ".py",
   "mimetype": "text/x-python",
   "name": "python",
   "nbconvert_exporter": "python",
   "pygments_lexer": "ipython2",
   "version": "2.7.11"
  }
 },
 "nbformat": 4,
 "nbformat_minor": 0
}
