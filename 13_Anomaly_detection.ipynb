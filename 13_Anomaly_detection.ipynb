{
 "cells": [
  {
   "cell_type": "code",
   "execution_count": 1,
   "metadata": {
    "collapsed": false
   },
   "outputs": [
    {
     "name": "stderr",
     "output_type": "stream",
     "text": [
      "/home/jzh/anaconda2/lib/python2.7/site-packages/matplotlib/font_manager.py:273: UserWarning: Matplotlib is building the font cache using fc-list. This may take a moment.\n",
      "  warnings.warn('Matplotlib is building the font cache using fc-list. This may take a moment.')\n"
     ]
    }
   ],
   "source": [
    "%run util.py"
   ]
  },
  {
   "cell_type": "code",
   "execution_count": 2,
   "metadata": {
    "collapsed": true
   },
   "outputs": [],
   "source": [
    "data_folder = '/home/jzh/Waze/'"
   ]
  },
  {
   "cell_type": "code",
   "execution_count": 3,
   "metadata": {
    "collapsed": true
   },
   "outputs": [],
   "source": [
    "import json"
   ]
  },
  {
   "cell_type": "code",
   "execution_count": 4,
   "metadata": {
    "collapsed": true
   },
   "outputs": [],
   "source": [
    "# Loading PL data\n",
    "PL_dict = zload(data_folder + 'PL_dict.pkz') "
   ]
  },
  {
   "cell_type": "code",
   "execution_count": 5,
   "metadata": {
    "collapsed": false
   },
   "outputs": [],
   "source": [
    "# PL_dict"
   ]
  },
  {
   "cell_type": "code",
   "execution_count": 6,
   "metadata": {
    "collapsed": false
   },
   "outputs": [
    {
     "name": "stderr",
     "output_type": "stream",
     "text": [
      "<string>:486: RuntimeWarning: covariance is not positive-semidefinite.\n"
     ]
    }
   ],
   "source": [
    "mu_1 = PL_dict['PL_AM']  # normal PL for AM period\n",
    "mu_2 = PL_dict['PL_MD']  # normal PL for MD period\n",
    "mu_3 = PL_dict['PL_PM']  # normal PL for PM period\n",
    "mu_4 = PL_dict['PL_NT']  # normal PL for NT period\n",
    "\n",
    "mu_1 = mu_adjust(mu_1)  # normal PL\n",
    "mu_01, mu1, mu_11, P1, G_11, H_11, U_11 = ChainGen_(mu_1)\n",
    "\n",
    "mu_2 = mu_adjust(mu_2)  # normal PL\n",
    "mu_02, mu2, mu_12, P2, G_12, H_12, U_12 = ChainGen_(mu_2)\n",
    "\n",
    "mu_3 = mu_adjust(mu_3)  # normal PL\n",
    "mu_03, mu3, mu_13, P3, G_13, H_13, U_13 = ChainGen_(mu_3)\n",
    "\n",
    "mu_4 = mu_adjust(mu_4)  # normal PL\n",
    "mu_04, mu4, mu_14, P4, G_14, H_14, U_14 = ChainGen_(mu_4)"
   ]
  },
  {
   "cell_type": "code",
   "execution_count": 7,
   "metadata": {
    "collapsed": true
   },
   "outputs": [],
   "source": [
    "beta = 0.001\n",
    "G_list = [G_11, G_12, G_13, G_14]\n",
    "H_list = [H_11, H_12, H_13, H_14]\n",
    "U_list = [U_11, U_12, U_13, U_14]\n",
    "\n",
    "eta_wc = {}\n",
    "eta_Sanov = {}\n",
    "\n",
    "# Get thresholds for Hoeffding's test corresponding to sample length n  \n",
    "def etaWC(n):\n",
    "    return HoeffdingRuleMarkovRobust_(beta, G_list, H_list, U_list, n)"
   ]
  },
  {
   "cell_type": "code",
   "execution_count": 8,
   "metadata": {
    "collapsed": true
   },
   "outputs": [],
   "source": [
    "# Loading test data\n",
    "\n",
    "with open(data_folder + 'sample_path_jam_test_data_sorted_trans.json', 'r') as json_file:\n",
    "    sample_path_jam_test_data_sorted_trans = json.load(json_file)"
   ]
  },
  {
   "cell_type": "code",
   "execution_count": 9,
   "metadata": {
    "collapsed": false
   },
   "outputs": [
    {
     "data": {
      "text/plain": [
       "{u'alphaTrans': 7.0,\n",
       " u'startTime': 300.0742,\n",
       " u'uuid': [u'4a27354e-e8c6-373c-9863-f6bfe6d7a4d4',\n",
       "  u'd836e23a-c958-37a7-b126-c70258b61a7a']}"
      ]
     },
     "execution_count": 9,
     "metadata": {},
     "output_type": "execute_result"
    }
   ],
   "source": [
    "sample_path_jam_test_data_sorted_trans['0']"
   ]
  },
  {
   "cell_type": "code",
   "execution_count": 10,
   "metadata": {
    "collapsed": false
   },
   "outputs": [],
   "source": [
    "i = 0  # index of windows\n",
    "sam_gap = 100\n",
    "win_size = 600\n",
    "win_list = []\n",
    "while i * sam_gap + win_size < 24 * 3600:\n",
    "    win_list.append((i * sam_gap, i * sam_gap + win_size))\n",
    "    i += 1"
   ]
  },
  {
   "cell_type": "code",
   "execution_count": 11,
   "metadata": {
    "collapsed": false
   },
   "outputs": [
    {
     "data": {
      "text/plain": [
       "858"
      ]
     },
     "execution_count": 11,
     "metadata": {},
     "output_type": "execute_result"
    }
   ],
   "source": [
    "i"
   ]
  },
  {
   "cell_type": "code",
   "execution_count": 12,
   "metadata": {
    "collapsed": false
   },
   "outputs": [],
   "source": [
    "win_num = len(win_list)\n",
    "jam_num = len(sample_path_jam_test_data_sorted_trans)\n",
    "\n",
    "win_jam = {}\n",
    "for i in range(win_num):\n",
    "    key = str(i)\n",
    "    value = []\n",
    "    for j in range(jam_num):\n",
    "        if ((sample_path_jam_test_data_sorted_trans[str(j)]['startTime'] >= win_list[i][0]) \\\n",
    "            and (sample_path_jam_test_data_sorted_trans[str(j)]['startTime'] < win_list[i][1])):\n",
    "            value.append(str(j))\n",
    "    win_jam[key] = value"
   ]
  },
  {
   "cell_type": "code",
   "execution_count": 13,
   "metadata": {
    "collapsed": false
   },
   "outputs": [
    {
     "data": {
      "text/plain": [
       "(['3733',\n",
       "  '3734',\n",
       "  '3735',\n",
       "  '3736',\n",
       "  '3737',\n",
       "  '3738',\n",
       "  '3739',\n",
       "  '3740',\n",
       "  '3741',\n",
       "  '3742',\n",
       "  '3743',\n",
       "  '3744',\n",
       "  '3745',\n",
       "  '3746',\n",
       "  '3747',\n",
       "  '3748',\n",
       "  '3749',\n",
       "  '3750',\n",
       "  '3751',\n",
       "  '3752',\n",
       "  '3753',\n",
       "  '3754'],\n",
       " 85700,\n",
       " 858)"
      ]
     },
     "execution_count": 13,
     "metadata": {},
     "output_type": "execute_result"
    }
   ],
   "source": [
    "win_jam['857'], win_list[857][0], win_num "
   ]
  },
  {
   "cell_type": "code",
   "execution_count": 14,
   "metadata": {
    "collapsed": false
   },
   "outputs": [
    {
     "data": {
      "text/plain": [
       "10500.0035"
      ]
     },
     "execution_count": 14,
     "metadata": {},
     "output_type": "execute_result"
    }
   ],
   "source": [
    "sample_path_jam_test_data_sorted_trans[win_jam['100'][0]]['startTime']"
   ]
  },
  {
   "cell_type": "code",
   "execution_count": 15,
   "metadata": {
    "collapsed": false
   },
   "outputs": [],
   "source": [
    "KL_list = []  # The list of the KL divergences; each is for a detection window\n",
    "etaWC_list = []\n",
    "for i in range(win_num):\n",
    "    sample_path_jam = [sample_path_jam_test_data_sorted_trans[key]['alphaTrans'] for key in win_jam[str(i)]]\n",
    "    n = len(sample_path_jam)\n",
    "    if (n != 0):\n",
    "        etaWC_list.append(etaWC(n))\n",
    "        KL_1 = KL_est(sample_path_jam, mu_1)\n",
    "        KL_2 = KL_est(sample_path_jam, mu_2)\n",
    "        KL_3 = KL_est(sample_path_jam, mu_3)\n",
    "        KL_4 = KL_est(sample_path_jam, mu_4)\n",
    "        KL_list.append(min([KL_1, KL_2, KL_3, KL_4]))\n",
    "    else:\n",
    "        etaWC_list.append(1e-6)\n",
    "        KL_list.append(0)"
   ]
  },
  {
   "cell_type": "code",
   "execution_count": 16,
   "metadata": {
    "collapsed": false
   },
   "outputs": [
    {
     "data": {
      "text/plain": [
       "(['207', '208', '209', '210', '211', '212', '213', '214'], 10600)"
      ]
     },
     "execution_count": 16,
     "metadata": {},
     "output_type": "execute_result"
    }
   ],
   "source": [
    "win_jam[str(100)], win_list[100][1]"
   ]
  },
  {
   "cell_type": "code",
   "execution_count": 17,
   "metadata": {
    "collapsed": false
   },
   "outputs": [],
   "source": [
    "time_range = [win_list[i][0] for i in range(win_num)]\n",
    "plot_points(time_range, KL_list, etaWC_list)\n",
    "plt.ylabel('divergence')\n",
    "plt.xlabel('time (s)')\n",
    "pylab.ylim(-0.1, max(etaWC_list)+0.5)\n",
    "pylab.xlim(0, max(time_range) + 100)\n",
    "plt.savefig(data_folder + 'detec_results_WC_robust.pdf')\n",
    "plt.show()"
   ]
  },
  {
   "cell_type": "code",
   "execution_count": 18,
   "metadata": {
    "collapsed": false
   },
   "outputs": [
    {
     "data": {
      "text/plain": [
       "(858, 858, 858, [0, 100])"
      ]
     },
     "execution_count": 18,
     "metadata": {},
     "output_type": "execute_result"
    }
   ],
   "source": [
    "len(time_range), len(KL_list), len(etaWC_list), time_range[0:2]"
   ]
  },
  {
   "cell_type": "code",
   "execution_count": 19,
   "metadata": {
    "collapsed": false
   },
   "outputs": [],
   "source": [
    "potential_ano_list = []\n",
    "for i in range(len(KL_list)):\n",
    "    if KL_list[i] > etaWC_list[i]:\n",
    "        for j in range(len(win_jam[str(i)])):\n",
    "            potential_ano_list.append(win_jam[str(i)][j])"
   ]
  },
  {
   "cell_type": "code",
   "execution_count": 20,
   "metadata": {
    "collapsed": false
   },
   "outputs": [],
   "source": [
    "with open(data_folder + 'sample_path_jam_test_data_sorted.json', 'r') as json_file:\n",
    "    sample_path_jam_test_data_sorted = json.load(json_file)"
   ]
  },
  {
   "cell_type": "code",
   "execution_count": 21,
   "metadata": {
    "collapsed": false
   },
   "outputs": [
    {
     "data": {
      "text/plain": [
       "{u'alpha': 2.0,\n",
       " u'length': 2216.0,\n",
       " u'numPts': 9.0,\n",
       " u'speed': 7.383333333333333,\n",
       " u'startTime': 49500.1235,\n",
       " u'uuid': u'f477324a-b20e-3ec8-8407-9ebb8ae94154'}"
      ]
     },
     "execution_count": 21,
     "metadata": {},
     "output_type": "execute_result"
    }
   ],
   "source": [
    "sample_path_jam_test_data_sorted['1181']"
   ]
  },
  {
   "cell_type": "code",
   "execution_count": 26,
   "metadata": {
    "collapsed": false
   },
   "outputs": [
    {
     "data": {
      "text/plain": [
       "(61,\n",
       " {'1167',\n",
       "  '1168',\n",
       "  '1169',\n",
       "  '1170',\n",
       "  '1171',\n",
       "  '1172',\n",
       "  '1173',\n",
       "  '1174',\n",
       "  '1175',\n",
       "  '1176',\n",
       "  '1177',\n",
       "  '1178',\n",
       "  '1179',\n",
       "  '1180',\n",
       "  '1181',\n",
       "  '1182',\n",
       "  '1183',\n",
       "  '1184',\n",
       "  '1185',\n",
       "  '1186',\n",
       "  '1187',\n",
       "  '1188',\n",
       "  '1189',\n",
       "  '1190',\n",
       "  '1191',\n",
       "  '1192',\n",
       "  '1193',\n",
       "  '1194',\n",
       "  '1195',\n",
       "  '1196',\n",
       "  '1197',\n",
       "  '1198',\n",
       "  '1199',\n",
       "  '1200',\n",
       "  '1201',\n",
       "  '1202',\n",
       "  '1203',\n",
       "  '1204',\n",
       "  '1205',\n",
       "  '1206',\n",
       "  '1207',\n",
       "  '1208',\n",
       "  '1209',\n",
       "  '1210',\n",
       "  '1211',\n",
       "  '1212',\n",
       "  '1213',\n",
       "  '1214',\n",
       "  '1215',\n",
       "  '1216',\n",
       "  '1217',\n",
       "  '1218',\n",
       "  '1219',\n",
       "  '1220',\n",
       "  '1221',\n",
       "  '1222',\n",
       "  '1223',\n",
       "  '1224',\n",
       "  '1225',\n",
       "  '1226',\n",
       "  '1227'})"
      ]
     },
     "execution_count": 26,
     "metadata": {},
     "output_type": "execute_result"
    }
   ],
   "source": [
    "len(set(potential_ano_list)), set(potential_ano_list)"
   ]
  },
  {
   "cell_type": "code",
   "execution_count": 23,
   "metadata": {
    "collapsed": false
   },
   "outputs": [
    {
     "data": {
      "text/plain": [
       "3755"
      ]
     },
     "execution_count": 23,
     "metadata": {},
     "output_type": "execute_result"
    }
   ],
   "source": [
    "len(sample_path_jam_test_data_sorted_trans)"
   ]
  },
  {
   "cell_type": "code",
   "execution_count": 24,
   "metadata": {
    "collapsed": false
   },
   "outputs": [
    {
     "data": {
      "text/plain": [
       "(13.88888888888889, 16.666666666666668)"
      ]
     },
     "execution_count": 24,
     "metadata": {},
     "output_type": "execute_result"
    }
   ],
   "source": [
    "50000 / 3600.0, 60000 / 3600.0"
   ]
  },
  {
   "cell_type": "code",
   "execution_count": null,
   "metadata": {
    "collapsed": true
   },
   "outputs": [],
   "source": []
  }
 ],
 "metadata": {
  "kernelspec": {
   "display_name": "Python 2",
   "language": "python",
   "name": "python2"
  },
  "language_info": {
   "codemirror_mode": {
    "name": "ipython",
    "version": 2
   },
   "file_extension": ".py",
   "mimetype": "text/x-python",
   "name": "python",
   "nbconvert_exporter": "python",
   "pygments_lexer": "ipython2",
   "version": "2.7.11"
  }
 },
 "nbformat": 4,
 "nbformat_minor": 0
}
