{
 "cells": [
  {
   "cell_type": "code",
   "execution_count": 1,
   "metadata": {
    "collapsed": true
   },
   "outputs": [],
   "source": [
    "data_folder = '/home/jzh/Waze/'"
   ]
  },
  {
   "cell_type": "code",
   "execution_count": 2,
   "metadata": {
    "collapsed": true
   },
   "outputs": [],
   "source": [
    "import csv"
   ]
  },
  {
   "cell_type": "code",
   "execution_count": 3,
   "metadata": {
    "collapsed": false
   },
   "outputs": [
    {
     "name": "stdout",
     "output_type": "stream",
     "text": [
      "('e8719565-0af4-33da-bdbe-1d87fafcc2bc', 'River St', '7', '1.26940247267598900', '132', '185')\n",
      "('1f24a035-717c-340c-ad54-d05b99cba1f0', 'Washington St', '6', '6.74255160244573700', '76', '1066')\n",
      "('67cf2f62-0168-373d-9926-dc2db73a9214', 'Washington St', '6', '2.62094440385186200', '284', '937')\n",
      "('cec2ad22-032c-37de-aac1-6b23f8739500', 'Hyde Park Ave', '6', '5.38161660859767700', '72', '695')\n",
      "('f015315d-1b92-3167-9e66-8fe6869452ed', 'Brighton Ave', '6', '2.63756315452445640', '80', '355')\n",
      "('9ec8bd65-211b-32e5-9dd1-c4f4c00e5f70', 'Beacon St', '6', '6.49579070833004900', '118', '1549')\n",
      "('89afaa58-707c-351d-aafe-7a58a91defa4', 'Chestnut Hill Ave', '7', '4.84374257000774000', '65', '618')\n",
      "('72766d6b-4fe3-315d-ab52-2ca525759e00', 'Chestnut Hill Ave', '7', '1.16165739772588200', '154', '206')\n",
      "('6de0f29a-c5fb-39c3-9646-26071fef8163', 'Arsenal St', '7', '2.38837102898857670', '99', '313')\n",
      "('03d4215e-f282-3259-8a99-8384ef520d84', 'Brookline Ave', '6', '2.99968319990535640', '91', '373')\n",
      "('1e355aca-b3d1-3a30-b775-4a85aa05e7e6', 'Brookline Ave', '6', '2.37722996214723640', '209', '655')\n",
      "('ba55a17d-be75-3356-941e-201f50473aab', 'Washington St', '7', '2.76431156196170900', '85', '477')\n",
      "('105d1327-7ccb-38a1-b2b4-f586a1d11ca3', 'Centre St', '7', '4.44020595685514900', '84', '658')\n",
      "('25076bd9-0ae9-3b7b-8983-a15702b62ac4', 'Harvard Ave', '6', '2.63705588747876260', '98', '388')\n",
      "('91353c43-2510-3fb2-86c4-51f4d9d32327', 'Harvard St', '6', '3.85238170959638240', '76', '574')\n",
      "('48bf4d40-2b49-341f-9a73-4537eff09003', 'Boylston St', '6', '8.99991880481570800', '76', '1427')\n",
      "('f85b1fc6-c2e3-3232-9f20-732f6f798294', 'Harvard St', '6', '6.41741212811198900', '64', '992')\n",
      "('2e192118-ae1c-3c0c-8ad9-c66622d27c8f', 'Adams St', '7', '2.03254437054470040', '185', '493')\n",
      "('48d7523e-7db9-3009-8dd0-3586071f0d8d', 'Dorchester Ave', '6', '4.92968554348360900', '76', '691')\n",
      "('9456bc71-f028-3651-b51d-1b704726f490', 'Columbia Rd', '7', '1.76961089495665900', '184', '390')\n",
      "('be8f2f3d-b2aa-3e30-9a19-6df7e071d1b3', 'Columbus Ave', '1', '3.01065313179592750', '95', '436')\n"
     ]
    }
   ],
   "source": [
    "with open(data_folder + '/waze_jams.csv', 'rb') as csvfile:\n",
    "    reader = csv.DictReader(csvfile)\n",
    "    i = 0\n",
    "    for row in reader:\n",
    "        print(row['uuid'], row['street'], row['roadType'], row['speed'], row['delay'], row['Length'])\n",
    "        i += 1\n",
    "        if i > 20:\n",
    "            break"
   ]
  },
  {
   "cell_type": "code",
   "execution_count": 4,
   "metadata": {
    "collapsed": false
   },
   "outputs": [
    {
     "name": "stdout",
     "output_type": "stream",
     "text": [
      "('9a86dadd-ebf6-34c0-85db-fe13d770dad0', 'Commonwealth Ave', '-71.084192', '42.350065', 'WEATHERHAZARD')\n",
      "('00751e34-fc43-3e2d-bb61-eb437039ba1f', 'Cambridge St', '-71.131365', '42.356099', 'WEATHERHAZARD')\n",
      "('a90db0a0-50cd-3c2a-bf10-e0a0d19d2abb', 'Charles St', '-71.068589', '42.354682', 'WEATHERHAZARD')\n",
      "('df31b80e-76bf-3fc4-a4a1-d919b73b11a2', 'Commonwealth Ave', '-71.104176', '42.349821', 'WEATHERHAZARD')\n",
      "('6fec1350-48d3-35f0-87a4-fc805adf37a9', 'Jamaicaway', '-71.116486', '42.318471', 'JAM')\n",
      "('c6a23f3a-a5f3-3740-b8ed-a2ffb93139c3', 'Harvard Ave', '-71.131271', '42.350854', 'JAM')\n",
      "('9f8255cd-07d0-3b13-ba93-02ac520b6450', 'Charlesgate', '-71.092333', '42.347833', 'WEATHERHAZARD')\n",
      "('0ce5ba41-1418-33c9-b6ca-2c2db1a1536d', 'Storrow Dr E', '-71.080735', '42.353922', 'WEATHERHAZARD')\n",
      "('ea2661cd-e054-3df0-91e7-81938d15d3b7', 'Cambridge St', '-71.118656', '42.360714', 'JAM')\n",
      "('ef43a5b2-bc3a-311c-ac45-e933098272b9', 'Storrow Dr E', '-71.072335', '42.360909', 'JAM')\n",
      "('2f838670-ad43-33b2-8883-45696032a2e9', 'Harvard Ave', '-71.132408', '42.354218', 'JAM')\n",
      "('216a326c-ccde-346d-a150-f1cac90d22a7', 'Dorchester Ave', '-71.056766', '42.32021', 'JAM')\n",
      "('cb27e4c9-a904-3e1c-a90e-543ad96c2b71', 'SR-1A N', '-71.053049', '42.36326', 'WEATHERHAZARD')\n",
      "('db190b34-6d2e-38a7-99a3-64394e792d1f', 'Soldiers Field Rd', '-71.157881', '42.358843', 'JAM')\n",
      "('02fdbbeb-76fe-3db4-9bef-45805ce50261', 'Storrow Dr W / SR-28 S', '-71.071041', '42.363286', 'JAM')\n",
      "('4d2439bf-5d1b-359d-8649-d1134e8c2865', 'Nashua St', '-71.06457', '42.366817', 'JAM')\n",
      "('80671664-39c5-349f-a9f8-1effa1f37458', 'Mount Auburn St', '-71.17453', '42.368841', 'WEATHERHAZARD')\n",
      "('04f0545d-5132-3eca-8521-59d1c3570d7d', 'Storrow Dr W', '-71.066366', '42.366561', 'WEATHERHAZARD')\n",
      "('fd59a94c-0564-3bce-a387-7301fa5a24cd', 'I-93 S', '-71.049746', '42.270777', 'JAM')\n",
      "('4c8c8378-32be-3b65-97a1-293cd259765f', 'I-93 S', '-71.050526', '42.27458', 'JAM')\n",
      "('4debef9b-3397-3397-98f3-1a3774d988cd', 'I-93 S', '-71.047228', '42.266823', 'WEATHERHAZARD')\n"
     ]
    }
   ],
   "source": [
    "with open(data_folder + '/waze_alerts.csv', 'rb') as csvfile:\n",
    "    reader = csv.DictReader(csvfile)\n",
    "    i = 0\n",
    "    for row in reader:\n",
    "        print(row['uuid'], row['street'], row['locx'], row['locy'], row['type'])\n",
    "        i += 1\n",
    "        if i > 20:\n",
    "            break"
   ]
  },
  {
   "cell_type": "code",
   "execution_count": 5,
   "metadata": {
    "collapsed": false
   },
   "outputs": [
    {
     "name": "stdout",
     "output_type": "stream",
     "text": [
      "('bded01fc-79d7-326c-aed8-3f004f13a11c', '-71.08321', '42.308442', '2015-01-05 20:20:03.000')\n",
      "('bded01fc-79d7-326c-aed8-3f004f13a11c', '-71.083267', '42.308347', '2015-01-05 20:20:03.000')\n",
      "('bded01fc-79d7-326c-aed8-3f004f13a11c', '-71.083847', '42.307568', '2015-01-05 20:20:03.000')\n",
      "('bded01fc-79d7-326c-aed8-3f004f13a11c', '-71.083983', '42.307385', '2015-01-05 20:20:03.000')\n",
      "('bded01fc-79d7-326c-aed8-3f004f13a11c', '-71.084238', '42.306971', '2015-01-05 20:20:03.000')\n",
      "('bded01fc-79d7-326c-aed8-3f004f13a11c', '-71.084327', '42.306764', '2015-01-05 20:20:03.000')\n",
      "('bded01fc-79d7-326c-aed8-3f004f13a11c', '-71.084549', '42.306098', '2015-01-05 20:20:03.000')\n",
      "('bded01fc-79d7-326c-aed8-3f004f13a11c', '-71.084641', '42.305599', '2015-01-05 20:20:03.000')\n",
      "('bded01fc-79d7-326c-aed8-3f004f13a11c', '-71.084679', '42.305265', '2015-01-05 20:20:03.000')\n",
      "('bded01fc-79d7-326c-aed8-3f004f13a11c', '-71.084809', '42.304585', '2015-01-05 20:20:03.000')\n",
      "('bded01fc-79d7-326c-aed8-3f004f13a11c', '-71.085162', '42.303445', '2015-01-05 20:20:03.000')\n",
      "('a88eb393-e5fb-34b7-ba60-6f93811cd5e2', '-71.087755', '42.330435', '2015-01-05 20:20:03.000')\n",
      "('a88eb393-e5fb-34b7-ba60-6f93811cd5e2', '-71.088189', '42.330611', '2015-01-05 20:20:03.000')\n",
      "('a88eb393-e5fb-34b7-ba60-6f93811cd5e2', '-71.088799', '42.330798', '2015-01-05 20:20:03.000')\n",
      "('a88eb393-e5fb-34b7-ba60-6f93811cd5e2', '-71.089285', '42.330936', '2015-01-05 20:20:03.000')\n",
      "('a88eb393-e5fb-34b7-ba60-6f93811cd5e2', '-71.089768', '42.331043', '2015-01-05 20:20:03.000')\n",
      "('a88eb393-e5fb-34b7-ba60-6f93811cd5e2', '-71.090261', '42.331135', '2015-01-05 20:20:03.000')\n",
      "('a88eb393-e5fb-34b7-ba60-6f93811cd5e2', '-71.09075', '42.33119', '2015-01-05 20:20:03.000')\n",
      "('a88eb393-e5fb-34b7-ba60-6f93811cd5e2', '-71.091369', '42.331242', '2015-01-05 20:20:03.000')\n",
      "('a88eb393-e5fb-34b7-ba60-6f93811cd5e2', '-71.092135', '42.331266', '2015-01-05 20:20:03.000')\n",
      "('a88eb393-e5fb-34b7-ba60-6f93811cd5e2', '-71.092902', '42.331274', '2015-01-05 20:20:03.000')\n"
     ]
    }
   ],
   "source": [
    "with open(data_folder + 'waze_points_Dec14_May_15.csv', 'rb') as csvfile:\n",
    "    reader = csv.DictReader(csvfile)\n",
    "    i = 0\n",
    "    for row in reader:\n",
    "        print(row['uuid'], row['x'], row['y'], row['\\xef\\xbb\\xbfinject_date'])\n",
    "        i += 1\n",
    "        if i > 20:\n",
    "            break"
   ]
  },
  {
   "cell_type": "code",
   "execution_count": null,
   "metadata": {
    "collapsed": true
   },
   "outputs": [],
   "source": []
  }
 ],
 "metadata": {
  "kernelspec": {
   "display_name": "Python 2",
   "language": "python",
   "name": "python2"
  },
  "language_info": {
   "codemirror_mode": {
    "name": "ipython",
    "version": 2
   },
   "file_extension": ".py",
   "mimetype": "text/x-python",
   "name": "python",
   "nbconvert_exporter": "python",
   "pygments_lexer": "ipython2",
   "version": "2.7.11"
  }
 },
 "nbformat": 4,
 "nbformat_minor": 0
}
