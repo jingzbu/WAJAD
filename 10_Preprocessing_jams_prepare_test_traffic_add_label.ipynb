{
 "cells": [
  {
   "cell_type": "code",
   "execution_count": 1,
   "metadata": {
    "collapsed": true
   },
   "outputs": [],
   "source": [
    "%run util.py"
   ]
  },
  {
   "cell_type": "code",
   "execution_count": 2,
   "metadata": {
    "collapsed": true
   },
   "outputs": [],
   "source": [
    "data_folder = '/home/jzh/Waze/'"
   ]
  },
  {
   "cell_type": "code",
   "execution_count": 3,
   "metadata": {
    "collapsed": true
   },
   "outputs": [],
   "source": [
    "import json"
   ]
  },
  {
   "cell_type": "code",
   "execution_count": 4,
   "metadata": {
    "collapsed": true
   },
   "outputs": [],
   "source": [
    "# Loading JSON data\n",
    "with open(data_folder + 'points_dict_Jan16_present.json', 'r') as json_file:\n",
    "    points_dict = json.load(json_file)"
   ]
  },
  {
   "cell_type": "markdown",
   "metadata": {},
   "source": [
    "### Extract jam data for a typical workday, say, 3/22/2016 (Tuesday)\n",
    "The features we are going to use are: \n",
    "(latitude, longitude), numPts, speed, length, startTime.\n",
    "\n",
    "Note that \"(latitude, longitude), numPts\" are from the points data.\n",
    "\n",
    "Convert \"startTime\" to seconds, discarding the date stamp."
   ]
  },
  {
   "cell_type": "code",
   "execution_count": 5,
   "metadata": {
    "collapsed": true
   },
   "outputs": [],
   "source": [
    "with open(data_folder + 'jam_test_data.json', 'r') as json_file:\n",
    "    jam_test_data_ = json.load(json_file)"
   ]
  },
  {
   "cell_type": "code",
   "execution_count": 6,
   "metadata": {
    "collapsed": false
   },
   "outputs": [
    {
     "name": "stdout",
     "output_type": "stream",
     "text": [
      "{u'numPts': 10, u'longitude': 42.3452518, u'length': 586.0, u'startTime': 300.0, u'latitude': -71.0759888, u'speed': 4.383333333333333}\n",
      "{u'numPts': 6, u'longitude': 42.367917, u'length': 219.0, u'startTime': 300.0, u'latitude': -71.01930833333334, u'speed': 1.597222222222222}\n",
      "{u'numPts': 11, u'longitude': 42.26172481818181, u'length': 731.0, u'startTime': 300.0, u'latitude': -70.95219127272726, u'speed': 5.847222222222222}\n",
      "{u'numPts': 7, u'longitude': 42.33291442857143, u'length': 347.0, u'startTime': 300.0, u'latitude': -71.10132657142857, u'speed': 1.9277777777777778}\n",
      "{u'numPts': 5, u'longitude': 42.3703362, u'length': 250.0, u'startTime': 300.0, u'latitude': -71.11655699999999, u'speed': 2.047222222222222}\n",
      "{u'numPts': 3, u'longitude': 42.316721, u'length': 261.0, u'startTime': 300.0, u'latitude': -71.08812033333334, u'speed': 1.777777777777778}\n",
      "{u'numPts': 18, u'longitude': 42.364775055555555, u'length': 668.0, u'startTime': 300.0, u'latitude': -71.05385155555557, u'speed': 2.563888888888889}\n",
      "{u'numPts': 12, u'longitude': 42.348290416666664, u'length': 464.0, u'startTime': 300.0, u'latitude': -71.13192633333333, u'speed': 3.397222222222222}\n",
      "{u'numPts': 11, u'longitude': 42.36406890909091, u'length': 415.0, u'startTime': 300.0, u'latitude': -71.0542410909091, u'speed': 1.9277777777777778}\n",
      "{u'numPts': 6, u'longitude': 42.349852, u'length': 429.0, u'startTime': 300.0, u'latitude': -71.06556933333333, u'speed': 2.1944444444444446}\n",
      "{u'numPts': 10, u'longitude': 42.3271686, u'length': 339.0, u'startTime': 300.0, u'latitude': -71.0792896, u'speed': 2.477777777777778}\n",
      "{u'numPts': 19, u'longitude': 42.370456, u'length': 973.0, u'startTime': 300.0, u'latitude': -71.11287563157896, u'speed': 4.6499999999999995}\n",
      "{u'numPts': 7, u'longitude': 42.33963528571429, u'length': 858.0, u'startTime': 300.0, u'latitude': -71.09059357142857, u'speed': 5.002777777777778}\n",
      "{u'numPts': 14, u'longitude': 42.33671864285714, u'length': 386.0, u'startTime': 300.0, u'latitude': -71.17662335714284, u'speed': 2.8444444444444446}\n",
      "{u'numPts': 3, u'longitude': 42.364476999999994, u'length': 283.0, u'startTime': 300.0, u'latitude': -71.06002233333334, u'speed': 1.3583333333333332}\n",
      "{u'numPts': 7, u'longitude': 42.343042000000004, u'length': 412.0, u'startTime': 300.0, u'latitude': -71.11720485714287, u'speed': 2.9833333333333334}\n",
      "{u'numPts': 6, u'longitude': 42.3487785, u'length': 440.0, u'startTime': 300.0, u'latitude': -71.07163416666667, u'speed': 2.638888888888889}\n",
      "{u'numPts': 10, u'longitude': 42.30974379999999, u'length': 528.0, u'startTime': 300.0, u'latitude': -71.1042534, u'speed': 4.233333333333333}\n"
     ]
    }
   ],
   "source": [
    "for key in jam_test_data_.keys():\n",
    "    if jam_test_data_[key]['startTime'] < 500:\n",
    "        print jam_test_data_[key]"
   ]
  },
  {
   "cell_type": "code",
   "execution_count": 8,
   "metadata": {
    "collapsed": false
   },
   "outputs": [
    {
     "data": {
      "text/plain": [
       "6795"
      ]
     },
     "execution_count": 8,
     "metadata": {},
     "output_type": "execute_result"
    }
   ],
   "source": [
    "len(jam_test_data_.values())"
   ]
  },
  {
   "cell_type": "code",
   "execution_count": null,
   "metadata": {
    "collapsed": true
   },
   "outputs": [],
   "source": []
  }
 ],
 "metadata": {
  "kernelspec": {
   "display_name": "Python 2",
   "language": "python",
   "name": "python2"
  },
  "language_info": {
   "codemirror_mode": {
    "name": "ipython",
    "version": 2
   },
   "file_extension": ".py",
   "mimetype": "text/x-python",
   "name": "python",
   "nbconvert_exporter": "python",
   "pygments_lexer": "ipython2",
   "version": "2.7.11"
  }
 },
 "nbformat": 4,
 "nbformat_minor": 0
}
