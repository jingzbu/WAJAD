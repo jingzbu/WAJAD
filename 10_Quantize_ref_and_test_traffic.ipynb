{
 "cells": [
  {
   "cell_type": "code",
   "execution_count": 1,
   "metadata": {
    "collapsed": true
   },
   "outputs": [],
   "source": [
    "%run util.py"
   ]
  },
  {
   "cell_type": "code",
   "execution_count": 2,
   "metadata": {
    "collapsed": true
   },
   "outputs": [],
   "source": [
    "data_folder = '/home/jzh/Waze/'"
   ]
  },
  {
   "cell_type": "code",
   "execution_count": 3,
   "metadata": {
    "collapsed": true
   },
   "outputs": [],
   "source": [
    "import json"
   ]
  },
  {
   "cell_type": "code",
   "execution_count": 4,
   "metadata": {
    "collapsed": false
   },
   "outputs": [],
   "source": [
    "# Loading JSON data\n",
    "with open(data_folder + 'jam_ref_data_.json', 'r') as json_file:\n",
    "    jam_ref_data = json.load(json_file)\n",
    "    \n",
    "with open(data_folder + 'jam_test_data_.json', 'r') as json_file:\n",
    "    jam_test_data = json.load(json_file)"
   ]
  },
  {
   "cell_type": "code",
   "execution_count": 5,
   "metadata": {
    "collapsed": false
   },
   "outputs": [],
   "source": [
    "jam_ref_data_add_idx = {}\n",
    "\n",
    "i = 0\n",
    "for key in jam_ref_data.keys():\n",
    "    pts = jam_ref_data[key]['longitude_latitude']\n",
    "    data = {'uuid': str(key),\n",
    "            'longitude_latitude': list(np.reshape(pts, np.size(pts))),\n",
    "            'length': jam_ref_data[key]['length'],\n",
    "            'numPts': float(jam_ref_data[key]['numPts']),\n",
    "            'speed': jam_ref_data[key]['speed'],\n",
    "            'startTime': jam_ref_data[key]['startTime']}\n",
    "    jam_ref_data_add_idx[str(i)] = data\n",
    "    i += 1"
   ]
  },
  {
   "cell_type": "code",
   "execution_count": 6,
   "metadata": {
    "collapsed": true
   },
   "outputs": [],
   "source": [
    "jam_test_data_add_idx = {}\n",
    "\n",
    "i = 0\n",
    "for key in jam_test_data.keys():\n",
    "    pts = jam_test_data[key]['longitude_latitude']\n",
    "    data = {'uuid': str(key),\n",
    "            'longitude_latitude': list(np.reshape(pts, np.size(pts))),\n",
    "            'length': jam_test_data[key]['length'],\n",
    "            'numPts': float(jam_test_data[key]['numPts']),\n",
    "            'speed': jam_test_data[key]['speed'],\n",
    "            'startTime': jam_test_data[key]['startTime']}\n",
    "    jam_test_data_add_idx[str(i)] = data\n",
    "    i += 1"
   ]
  },
  {
   "cell_type": "code",
   "execution_count": 7,
   "metadata": {
    "collapsed": false
   },
   "outputs": [
    {
     "data": {
      "text/plain": [
       "(46758, 6795)"
      ]
     },
     "execution_count": 7,
     "metadata": {},
     "output_type": "execute_result"
    }
   ],
   "source": [
    "len(jam_ref_data_add_idx.keys()), len(jam_test_data_add_idx.keys())"
   ]
  },
  {
   "cell_type": "markdown",
   "metadata": {},
   "source": [
    "### Quantize the features by k-means clustering "
   ]
  },
  {
   "cell_type": "code",
   "execution_count": 8,
   "metadata": {
    "collapsed": false
   },
   "outputs": [
    {
     "data": {
      "text/plain": [
       "{'length': 472.0,\n",
       " 'longitude_latitude': [-71.097020000000001,\n",
       "  42.344783,\n",
       "  -71.095651000000004,\n",
       "  42.345145000000002,\n",
       "  -71.095584000000002,\n",
       "  42.345162000000002,\n",
       "  -71.095326,\n",
       "  42.345230999999998,\n",
       "  -71.095051999999995,\n",
       "  42.345308000000003,\n",
       "  -71.094945999999993,\n",
       "  42.345339000000003,\n",
       "  -71.094644000000002,\n",
       "  42.345436999999997,\n",
       "  -71.094460999999995,\n",
       "  42.345497000000002,\n",
       "  -71.094333000000006,\n",
       "  42.345564000000003,\n",
       "  -71.094279999999998,\n",
       "  42.345602,\n",
       "  -71.093211999999994,\n",
       "  42.346572000000002,\n",
       "  -71.093090000000004,\n",
       "  42.346660999999997,\n",
       "  -71.092813000000007,\n",
       "  42.346817000000001],\n",
       " 'numPts': 13.0,\n",
       " 'speed': 3.0472222222222225,\n",
       " 'startTime': 42300.0,\n",
       " 'uuid': '48f951eb-a001-3a0e-b075-d261e82519ac'}"
      ]
     },
     "execution_count": 8,
     "metadata": {},
     "output_type": "execute_result"
    }
   ],
   "source": [
    "jam_test_data_add_idx['0']"
   ]
  },
  {
   "cell_type": "code",
   "execution_count": 9,
   "metadata": {
    "collapsed": false
   },
   "outputs": [],
   "source": [
    "import numpy as np\n",
    "\n",
    "loc_list = []\n",
    "length_list = []\n",
    "numPts_list = []\n",
    "speed_list = []\n",
    "\n",
    "ref_loc_list = []\n",
    "ref_length_list = []\n",
    "ref_numPts_list = []\n",
    "ref_speed_list = []\n",
    "for i in range(len(jam_ref_data_add_idx.keys())):\n",
    "    ref_loc_list.append(jam_ref_data_add_idx[str(i)]['longitude_latitude'])\n",
    "    loc_list.append(jam_ref_data_add_idx[str(i)]['longitude_latitude'])\n",
    "    \n",
    "    ref_length_list.append(jam_ref_data_add_idx[str(i)]['length'])\n",
    "    length_list.append(jam_ref_data_add_idx[str(i)]['length'])\n",
    "    \n",
    "    ref_numPts_list.append(jam_ref_data_add_idx[str(i)]['numPts'])\n",
    "    numPts_list.append(jam_ref_data_add_idx[str(i)]['numPts'])\n",
    "    \n",
    "    ref_speed_list.append(jam_ref_data_add_idx[str(i)]['speed'])\n",
    "    speed_list.append(jam_ref_data_add_idx[str(i)]['speed'])\n",
    "\n",
    "\n",
    "test_loc_list = []\n",
    "test_length_list = []\n",
    "test_numPts_list = []\n",
    "test_speed_list = []\n",
    "for i in range(len(jam_test_data_add_idx.keys())):\n",
    "    test_loc_list.append(jam_test_data_add_idx[str(i)]['longitude_latitude'])\n",
    "    loc_list.append(jam_test_data_add_idx[str(i)]['longitude_latitude'])\n",
    "    \n",
    "    test_length_list.append(jam_test_data_add_idx[str(i)]['length'])\n",
    "    length_list.append(jam_test_data_add_idx[str(i)]['length'])\n",
    "    \n",
    "    test_numPts_list.append(jam_test_data_add_idx[str(i)]['numPts'])\n",
    "    numPts_list.append(jam_test_data_add_idx[str(i)]['numPts'])\n",
    "    \n",
    "    test_speed_list.append(jam_test_data_add_idx[str(i)]['speed'])\n",
    "    speed_list.append(jam_test_data_add_idx[str(i)]['speed'])"
   ]
  },
  {
   "cell_type": "code",
   "execution_count": 10,
   "metadata": {
    "collapsed": false
   },
   "outputs": [],
   "source": [
    "loc_data = np.array(loc_list)\n",
    "length_data = np.array(length_list)\n",
    "numPts_data = np.array(numPts_list)\n",
    "speed_data = np.array(speed_list)"
   ]
  },
  {
   "cell_type": "code",
   "execution_count": 11,
   "metadata": {
    "collapsed": false
   },
   "outputs": [
    {
     "data": {
      "text/plain": [
       "(53553, 2, 46758, 2, 6795, 2, 53553)"
      ]
     },
     "execution_count": 11,
     "metadata": {},
     "output_type": "execute_result"
    }
   ],
   "source": [
    "np.size(loc_data,0), np.size(loc_data,1), np.size(np.array(ref_loc_list),0), np.size(np.array(ref_loc_list),1),\\\n",
    "np.size(np.array(test_loc_list),0), np.size(np.array(test_loc_list),1), 46758 + 6795"
   ]
  },
  {
   "cell_type": "markdown",
   "metadata": {},
   "source": [
    "### Quantization levels: loc_k = 3, length_k = 2, numPts_k = 2, speed_k = 2"
   ]
  },
  {
   "cell_type": "code",
   "execution_count": 12,
   "metadata": {
    "collapsed": true
   },
   "outputs": [],
   "source": [
    "from scipy.cluster.vq import kmeans2\n",
    "\n",
    "loc_k = 3\n",
    "loc_centroid, loc_label = kmeans2(loc_data, loc_k, iter=300, thresh=1e-06, minit='random', missing='warn', check_finite=True)\n",
    "\n",
    "length_k = 2\n",
    "length_centroid, length_label = kmeans2(length_data, length_k, iter=300, thresh=1e-06, minit='random', missing='warn', check_finite=True)\n",
    "\n",
    "numPts_k = 2\n",
    "numPts_centroid, numPts_label = kmeans2(numPts_data, numPts_k, iter=300, thresh=1e-06, minit='random', missing='warn', check_finite=True)\n",
    "\n",
    "speed_k = 2\n",
    "speed_centroid, speed_label = kmeans2(speed_data, speed_k, iter=300, thresh=1e-06, minit='random', missing='warn', check_finite=True)"
   ]
  },
  {
   "cell_type": "code",
   "execution_count": 13,
   "metadata": {
    "collapsed": false
   },
   "outputs": [
    {
     "data": {
      "text/plain": [
       "(array([[-71.12261498,  42.33548072],\n",
       "        [-71.06885777,  42.35130836],\n",
       "        [-71.06898794,  42.29690178]]),\n",
       " array([1, 0, 2, ..., 0, 0, 0], dtype=int32),\n",
       " array([ 1338.28510998,   439.08775686]),\n",
       " array([1, 1, 1, ..., 1, 1, 1], dtype=int32),\n",
       " array([ 20.69022507,   7.5206511 ]),\n",
       " array([1, 1, 1, ..., 1, 0, 1], dtype=int32),\n",
       " array([ 4.65660471,  2.13121295]),\n",
       " array([1, 1, 1, ..., 1, 0, 1], dtype=int32))"
      ]
     },
     "execution_count": 13,
     "metadata": {},
     "output_type": "execute_result"
    }
   ],
   "source": [
    "loc_centroid, loc_label, length_centroid, length_label, numPts_centroid, numPts_label, speed_centroid, speed_label"
   ]
  },
  {
   "cell_type": "code",
   "execution_count": 14,
   "metadata": {
    "collapsed": false
   },
   "outputs": [],
   "source": [
    "ref_loc_label = loc_label[0:np.size(np.array(ref_loc_list),0)]\n",
    "test_loc_label = loc_label[np.size(np.array(ref_loc_list),0):np.size(loc_data,0)]\n",
    "\n",
    "ref_length_label = length_label[0:np.size(np.array(ref_length_list),0)]\n",
    "test_length_label = length_label[np.size(np.array(ref_length_list),0):np.size(length_data,0)]\n",
    "\n",
    "ref_numPts_label = numPts_label[0:np.size(np.array(ref_numPts_list),0)]\n",
    "test_numPts_label = numPts_label[np.size(np.array(ref_numPts_list),0):np.size(numPts_data,0)]\n",
    "\n",
    "ref_speed_label = speed_label[0:np.size(np.array(ref_speed_list),0)]\n",
    "test_speed_label = speed_label[np.size(np.array(ref_speed_list),0):np.size(speed_data,0)]"
   ]
  },
  {
   "cell_type": "code",
   "execution_count": 15,
   "metadata": {
    "collapsed": false
   },
   "outputs": [
    {
     "data": {
      "text/plain": [
       "(46758, 6795, 46758, 6795, 46758, 6795, 46758, 6795)"
      ]
     },
     "execution_count": 15,
     "metadata": {},
     "output_type": "execute_result"
    }
   ],
   "source": [
    "len(ref_loc_label), len(test_loc_label), len(ref_length_label), len(test_length_label), \\\n",
    "len(ref_numPts_label), len(test_numPts_label), len(ref_speed_label), len(test_speed_label)"
   ]
  },
  {
   "cell_type": "code",
   "execution_count": 16,
   "metadata": {
    "collapsed": false
   },
   "outputs": [],
   "source": [
    "quantized_jam_ref_data = {}\n",
    "\n",
    "for i in range(len(jam_ref_data_add_idx.keys())):\n",
    "    key = str(i)\n",
    "    data = {'uuid': jam_ref_data_add_idx[key]['uuid'],\n",
    "            'latitude': jam_ref_data_add_idx[key]['latitude'],\n",
    "            'longitude': jam_ref_data_add_idx[key]['longitude'],\n",
    "            'length': jam_ref_data_add_idx[key]['length'],\n",
    "            'numPts': float(jam_ref_data_add_idx[key]['numPts']),\n",
    "            'speed': jam_ref_data_add_idx[key]['speed'],\n",
    "            'startTime': jam_ref_data_add_idx[key]['startTime'],\n",
    "            'loc_label': float(ref_loc_label[i]),\n",
    "            'length_label': float(ref_length_label[i]),\n",
    "            'numPts_label': float(ref_numPts_label[i]),\n",
    "            'speed_label': float(ref_speed_label[i])}\n",
    "    quantized_jam_ref_data[key] = data\n",
    "    \n",
    "# Writing JSON data\n",
    "with open(data_folder + 'quantized_jam_ref_data.json', 'w') as json_file:\n",
    "    json.dump(quantized_jam_ref_data, json_file)"
   ]
  },
  {
   "cell_type": "code",
   "execution_count": 17,
   "metadata": {
    "collapsed": false
   },
   "outputs": [],
   "source": [
    "quantized_jam_test_data = {}\n",
    "\n",
    "for i in range(len(jam_test_data_add_idx.keys())):\n",
    "    key = str(i)\n",
    "    data = {'uuid': jam_test_data_add_idx[key]['uuid'],\n",
    "            'latitude': jam_test_data_add_idx[key]['latitude'],\n",
    "            'longitude': jam_test_data_add_idx[key]['longitude'],\n",
    "            'length': jam_test_data_add_idx[key]['length'],\n",
    "            'numPts': float(jam_test_data_add_idx[key]['numPts']),\n",
    "            'speed': jam_test_data_add_idx[key]['speed'],\n",
    "            'startTime': jam_test_data_add_idx[key]['startTime'],\n",
    "            'loc_label': float(test_loc_label[i]),\n",
    "            'length_label': float(test_length_label[i]),\n",
    "            'numPts_label': float(test_numPts_label[i]),\n",
    "            'speed_label': float(test_speed_label[i])}\n",
    "    quantized_jam_test_data[key] = data\n",
    "\n",
    "# Writing JSON data\n",
    "with open(data_folder + 'quantized_jam_test_data.json', 'w') as json_file:\n",
    "    json.dump(quantized_jam_test_data, json_file)"
   ]
  },
  {
   "cell_type": "code",
   "execution_count": null,
   "metadata": {
    "collapsed": true
   },
   "outputs": [],
   "source": []
  }
 ],
 "metadata": {
  "kernelspec": {
   "display_name": "Python 2",
   "language": "python",
   "name": "python2"
  },
  "language_info": {
   "codemirror_mode": {
    "name": "ipython",
    "version": 2
   },
   "file_extension": ".py",
   "mimetype": "text/x-python",
   "name": "python",
   "nbconvert_exporter": "python",
   "pygments_lexer": "ipython2",
   "version": "2.7.11"
  }
 },
 "nbformat": 4,
 "nbformat_minor": 0
}
