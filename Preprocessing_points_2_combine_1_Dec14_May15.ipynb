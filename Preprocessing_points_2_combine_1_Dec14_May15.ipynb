{
 "cells": [
  {
   "cell_type": "code",
   "execution_count": 1,
   "metadata": {
    "collapsed": true
   },
   "outputs": [],
   "source": [
    "data_folder = '/home/jzh/Waze/'"
   ]
  },
  {
   "cell_type": "code",
   "execution_count": 2,
   "metadata": {
    "collapsed": true
   },
   "outputs": [],
   "source": [
    "import json"
   ]
  },
  {
   "cell_type": "code",
   "execution_count": null,
   "metadata": {
    "collapsed": true
   },
   "outputs": [],
   "source": [
    "# Loading JSON data\n",
    "with open(data_folder + '/uuid_list_Dec14_May15.json', 'r') as json_file:\n",
    "    uuid_list_Dec14_May15 = json.load(json_file)\n",
    "\n",
    "with open(data_folder + '/x_list_Dec14_May15.json', 'r') as json_file:\n",
    "    x_list_Dec14_May15 = json.load(json_file)\n",
    "    \n",
    "with open(data_folder + '/y_list_Dec14_May15.json', 'r') as json_file:\n",
    "    y_list_Dec14_May15 = json.load(json_file)"
   ]
  },
  {
   "cell_type": "code",
   "execution_count": 6,
   "metadata": {
    "collapsed": false
   },
   "outputs": [],
   "source": [
    "assert(len(uuid_list_Dec14_May15) == len(x_list_Dec14_May15))\n",
    "assert(len(uuid_list_Dec14_May15) == len(y_list_Dec14_May15))"
   ]
  },
  {
   "cell_type": "code",
   "execution_count": 14,
   "metadata": {
    "collapsed": false
   },
   "outputs": [
    {
     "data": {
      "text/plain": [
       "[u'bded01fc-79d7-326c-aed8-3f004f13a11c',\n",
       " u'bded01fc-79d7-326c-aed8-3f004f13a11c',\n",
       " u'bded01fc-79d7-326c-aed8-3f004f13a11c',\n",
       " u'bded01fc-79d7-326c-aed8-3f004f13a11c',\n",
       " u'bded01fc-79d7-326c-aed8-3f004f13a11c',\n",
       " u'bded01fc-79d7-326c-aed8-3f004f13a11c',\n",
       " u'bded01fc-79d7-326c-aed8-3f004f13a11c',\n",
       " u'bded01fc-79d7-326c-aed8-3f004f13a11c',\n",
       " u'bded01fc-79d7-326c-aed8-3f004f13a11c',\n",
       " u'bded01fc-79d7-326c-aed8-3f004f13a11c',\n",
       " u'bded01fc-79d7-326c-aed8-3f004f13a11c',\n",
       " u'a88eb393-e5fb-34b7-ba60-6f93811cd5e2',\n",
       " u'a88eb393-e5fb-34b7-ba60-6f93811cd5e2',\n",
       " u'a88eb393-e5fb-34b7-ba60-6f93811cd5e2',\n",
       " u'a88eb393-e5fb-34b7-ba60-6f93811cd5e2',\n",
       " u'a88eb393-e5fb-34b7-ba60-6f93811cd5e2',\n",
       " u'a88eb393-e5fb-34b7-ba60-6f93811cd5e2',\n",
       " u'a88eb393-e5fb-34b7-ba60-6f93811cd5e2',\n",
       " u'a88eb393-e5fb-34b7-ba60-6f93811cd5e2',\n",
       " u'a88eb393-e5fb-34b7-ba60-6f93811cd5e2',\n",
       " u'a88eb393-e5fb-34b7-ba60-6f93811cd5e2',\n",
       " u'a88eb393-e5fb-34b7-ba60-6f93811cd5e2',\n",
       " u'a88eb393-e5fb-34b7-ba60-6f93811cd5e2',\n",
       " u'b579d270-f917-357a-a99c-cb26d8893a7a',\n",
       " u'b579d270-f917-357a-a99c-cb26d8893a7a',\n",
       " u'b579d270-f917-357a-a99c-cb26d8893a7a',\n",
       " u'b579d270-f917-357a-a99c-cb26d8893a7a',\n",
       " u'b579d270-f917-357a-a99c-cb26d8893a7a',\n",
       " u'b579d270-f917-357a-a99c-cb26d8893a7a',\n",
       " u'b579d270-f917-357a-a99c-cb26d8893a7a',\n",
       " u'b579d270-f917-357a-a99c-cb26d8893a7a',\n",
       " u'b579d270-f917-357a-a99c-cb26d8893a7a',\n",
       " u'b579d270-f917-357a-a99c-cb26d8893a7a',\n",
       " u'b579d270-f917-357a-a99c-cb26d8893a7a',\n",
       " u'b579d270-f917-357a-a99c-cb26d8893a7a',\n",
       " u'b579d270-f917-357a-a99c-cb26d8893a7a',\n",
       " u'b579d270-f917-357a-a99c-cb26d8893a7a',\n",
       " u'b579d270-f917-357a-a99c-cb26d8893a7a',\n",
       " u'b579d270-f917-357a-a99c-cb26d8893a7a',\n",
       " u'b579d270-f917-357a-a99c-cb26d8893a7a',\n",
       " u'b579d270-f917-357a-a99c-cb26d8893a7a',\n",
       " u'b579d270-f917-357a-a99c-cb26d8893a7a',\n",
       " u'b579d270-f917-357a-a99c-cb26d8893a7a',\n",
       " u'b579d270-f917-357a-a99c-cb26d8893a7a',\n",
       " u'b579d270-f917-357a-a99c-cb26d8893a7a',\n",
       " u'b579d270-f917-357a-a99c-cb26d8893a7a',\n",
       " u'b579d270-f917-357a-a99c-cb26d8893a7a',\n",
       " u'b579d270-f917-357a-a99c-cb26d8893a7a',\n",
       " u'ae752d1e-41bd-3418-be29-465f4128008b',\n",
       " u'ae752d1e-41bd-3418-be29-465f4128008b']"
      ]
     },
     "execution_count": 14,
     "metadata": {},
     "output_type": "execute_result"
    }
   ],
   "source": [
    "uuid_list_Dec14_May15[0:50]"
   ]
  },
  {
   "cell_type": "code",
   "execution_count": 37,
   "metadata": {
    "collapsed": false
   },
   "outputs": [],
   "source": [
    "idx_list = []  # index list for the \"turning points;\" note that a uuid correspond to many points\n",
    "\n",
    "L = len(uuid_list_Dec14_May15)  # number of points\n",
    "\n",
    "for i in range(L-1):\n",
    "    if uuid_list_Dec14_May15[i+1] != uuid_list_Dec14_May15[i]:\n",
    "        idx_list.append(i)\n",
    "#     if len(idx_list) > 2:\n",
    "#         break    "
   ]
  },
  {
   "cell_type": "code",
   "execution_count": 38,
   "metadata": {
    "collapsed": false
   },
   "outputs": [
    {
     "data": {
      "text/plain": [
       "(2846364, 41647565)"
      ]
     },
     "execution_count": 38,
     "metadata": {},
     "output_type": "execute_result"
    }
   ],
   "source": [
    "len(idx_list), L"
   ]
  },
  {
   "cell_type": "code",
   "execution_count": 39,
   "metadata": {
    "collapsed": false
   },
   "outputs": [
    {
     "data": {
      "text/plain": [
       "[10, 22, 47, 64, 71, 84, 93, 108, 119, 129, 135, 141, 149, 160, 168]"
      ]
     },
     "execution_count": 39,
     "metadata": {},
     "output_type": "execute_result"
    }
   ],
   "source": [
    "idx_list[0:15]"
   ]
  },
  {
   "cell_type": "code",
   "execution_count": 40,
   "metadata": {
    "collapsed": false
   },
   "outputs": [
    {
     "data": {
      "text/plain": [
       "[11, 12, 13, 14, 15, 16, 17, 18, 19, 20, 21, 22]"
      ]
     },
     "execution_count": 40,
     "metadata": {},
     "output_type": "execute_result"
    }
   ],
   "source": [
    "range(10+1, 22+1)"
   ]
  },
  {
   "cell_type": "code",
   "execution_count": 41,
   "metadata": {
    "collapsed": false
   },
   "outputs": [
    {
     "data": {
      "text/plain": [
       "[0, 1, 2, 3, 4, 5, 6, 7, 8, 9, 10]"
      ]
     },
     "execution_count": 41,
     "metadata": {},
     "output_type": "execute_result"
    }
   ],
   "source": [
    "range(10+1)"
   ]
  },
  {
   "cell_type": "code",
   "execution_count": 42,
   "metadata": {
    "collapsed": false
   },
   "outputs": [
    {
     "data": {
      "text/plain": [
       "(-71.085162, -71.08321)"
      ]
     },
     "execution_count": 42,
     "metadata": {},
     "output_type": "execute_result"
    }
   ],
   "source": [
    "# 经度\n",
    "min([float(x_list_Dec14_May15[j]) for j in range(10+1)]), max([float(x_list_Dec14_May15[j]) for j in range(10+1)])"
   ]
  },
  {
   "cell_type": "code",
   "execution_count": 43,
   "metadata": {
    "collapsed": false
   },
   "outputs": [
    {
     "data": {
      "text/plain": [
       "(42.303445, 42.308442)"
      ]
     },
     "execution_count": 43,
     "metadata": {},
     "output_type": "execute_result"
    }
   ],
   "source": [
    "# 纬度\n",
    "min([float(y_list_Dec14_May15[j]) for j in range(10+1)]), max([float(y_list_Dec14_May15[j]) for j in range(10+1)])  "
   ]
  },
  {
   "cell_type": "code",
   "execution_count": 89,
   "metadata": {
    "collapsed": false
   },
   "outputs": [],
   "source": [
    "points_dict__Dec14_May15 = {}\n",
    "\n",
    "x_y_min_max_list = []\n",
    "x_y_min_max_list.append(min([float(x_list_Dec14_May15[j]) for j in range(10+1)]))\n",
    "x_y_min_max_list.append(max([float(x_list_Dec14_May15[j]) for j in range(10+1)]))\n",
    "x_y_min_max_list.append(min([float(y_list_Dec14_May15[j]) for j in range(10+1)]))\n",
    "x_y_min_max_list.append(max([float(y_list_Dec14_May15[j]) for j in range(10+1)]))\n",
    "\n",
    "points_dict__Dec14_May15[uuid_list_Dec14_May15[10]] = x_y_min_max_list\n",
    "\n",
    "len_idx_list = len(idx_list)\n",
    "for i in range(len_idx_list):\n",
    "    x_y_min_max_list = []\n",
    "    if i == 0:\n",
    "        x_y_min_max_list.append(min([float(x_list_Dec14_May15[j]) for j in range(idx_list[i] + 1)]))\n",
    "        x_y_min_max_list.append(max([float(x_list_Dec14_May15[j]) for j in range(idx_list[i] + 1)]))\n",
    "        x_y_min_max_list.append(min([float(y_list_Dec14_May15[j]) for j in range(idx_list[i] + 1)]))\n",
    "        x_y_min_max_list.append(max([float(y_list_Dec14_May15[j]) for j in range(idx_list[i] + 1)]))\n",
    "    else:\n",
    "        x_y_min_max_list.append(min([float(x_list_Dec14_May15[j]) for j in range(idx_list[i-1] + 1, idx_list[i] + 1)]))\n",
    "        x_y_min_max_list.append(max([float(x_list_Dec14_May15[j]) for j in range(idx_list[i-1] + 1, idx_list[i] + 1)]))\n",
    "        x_y_min_max_list.append(min([float(y_list_Dec14_May15[j]) for j in range(idx_list[i-1] + 1, idx_list[i] + 1)]))\n",
    "        x_y_min_max_list.append(max([float(y_list_Dec14_May15[j]) for j in range(idx_list[i-1] + 1, idx_list[i] + 1)]))\n",
    "    points_dict__Dec14_May15[uuid_list_Dec14_May15[idx_list[i]]] = x_y_min_max_list\n",
    "#     if i > 3:\n",
    "#         break\n",
    "with open(data_folder + '/points_dict__Dec14_May15.json', 'w') as json_file:\n",
    "    json.dump(points_dict__Dec14_May15, json_file)"
   ]
  },
  {
   "cell_type": "code",
   "execution_count": 83,
   "metadata": {
    "collapsed": false
   },
   "outputs": [
    {
     "data": {
      "text/plain": [
       "{u'a88eb393-e5fb-34b7-ba60-6f93811cd5e2': [-71.094465,\n",
       "  -71.087755,\n",
       "  42.330435,\n",
       "  42.331426],\n",
       " u'ae752d1e-41bd-3418-be29-465f4128008b': [-71.085065,\n",
       "  -71.076624,\n",
       "  42.327118,\n",
       "  42.328902],\n",
       " u'b579d270-f917-357a-a99c-cb26d8893a7a': [-71.124012,\n",
       "  -71.120155,\n",
       "  42.25626,\n",
       "  42.272589],\n",
       " u'bded01fc-79d7-326c-aed8-3f004f13a11c': [-71.085162,\n",
       "  -71.08321,\n",
       "  42.303445,\n",
       "  42.308442],\n",
       " u'f72b9aaf-5f46-3071-a461-1a8f54eb4a52': [-71.081459,\n",
       "  -71.078014,\n",
       "  42.334943,\n",
       "  42.337376]}"
      ]
     },
     "execution_count": 83,
     "metadata": {},
     "output_type": "execute_result"
    }
   ],
   "source": [
    "points_dict__Dec14_May15"
   ]
  },
  {
   "cell_type": "code",
   "execution_count": 88,
   "metadata": {
    "collapsed": false
   },
   "outputs": [
    {
     "data": {
      "text/plain": [
       "([u'f72b9aaf-5f46-3071-a461-1a8f54eb4a52',\n",
       "  u'f72b9aaf-5f46-3071-a461-1a8f54eb4a52',\n",
       "  u'f72b9aaf-5f46-3071-a461-1a8f54eb4a52',\n",
       "  u'f72b9aaf-5f46-3071-a461-1a8f54eb4a52',\n",
       "  u'f72b9aaf-5f46-3071-a461-1a8f54eb4a52',\n",
       "  u'f72b9aaf-5f46-3071-a461-1a8f54eb4a52',\n",
       "  u'f72b9aaf-5f46-3071-a461-1a8f54eb4a52'],\n",
       " [u'-71.078014',\n",
       "  u'-71.078368',\n",
       "  u'-71.078718',\n",
       "  u'-71.079265',\n",
       "  u'-71.079895',\n",
       "  u'-71.080099',\n",
       "  u'-71.081459'],\n",
       " [u'42.337376',\n",
       "  u'42.337125',\n",
       "  u'42.336879',\n",
       "  u'42.336538',\n",
       "  u'42.336088',\n",
       "  u'42.335945',\n",
       "  u'42.334943'])"
      ]
     },
     "execution_count": 88,
     "metadata": {},
     "output_type": "execute_result"
    }
   ],
   "source": [
    "uuid_list_Dec14_May15[65:72], x_list_Dec14_May15[65:72], y_list_Dec14_May15[65:72]"
   ]
  },
  {
   "cell_type": "code",
   "execution_count": null,
   "metadata": {
    "collapsed": true
   },
   "outputs": [],
   "source": []
  }
 ],
 "metadata": {
  "kernelspec": {
   "display_name": "Python 2",
   "language": "python",
   "name": "python2"
  },
  "language_info": {
   "codemirror_mode": {
    "name": "ipython",
    "version": 2
   },
   "file_extension": ".py",
   "mimetype": "text/x-python",
   "name": "python",
   "nbconvert_exporter": "python",
   "pygments_lexer": "ipython2",
   "version": "2.7.11"
  }
 },
 "nbformat": 4,
 "nbformat_minor": 0
}
