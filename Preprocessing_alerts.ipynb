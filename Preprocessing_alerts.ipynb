{
 "cells": [
  {
   "cell_type": "code",
   "execution_count": 1,
   "metadata": {
    "collapsed": true
   },
   "outputs": [],
   "source": [
    "data_folder = '/home/jzh/Waze/'"
   ]
  },
  {
   "cell_type": "code",
   "execution_count": 2,
   "metadata": {
    "collapsed": true
   },
   "outputs": [],
   "source": [
    "import csv"
   ]
  },
  {
   "cell_type": "code",
   "execution_count": 4,
   "metadata": {
    "collapsed": false
   },
   "outputs": [
    {
     "name": "stdout",
     "output_type": "stream",
     "text": [
      "['city', 'endTime', 'endTimeMillis', 'uuid', 'type', 'magvar', 'startTimeMillis', 'subtype', 'roadType', 'street', 'startTime', 'country', 'locx', 'locy', 'reliability', 'reportRating', 'pubMillis', '\\xef\\xbb\\xbfinject_date']\n",
      "('9a86dadd-ebf6-34c0-85db-fe13d770dad0', 'Commonwealth Ave', '-71.084192', '42.350065', 'WEATHERHAZARD', '2016-02-07 20:35:00.000', '2016-02-07 20:36:00.000', '2016-02-07 20:40:01.000')\n",
      "{'city': 'Boston, MA', 'endTime': '2016-02-07 20:36:00.000', 'endTimeMillis': '1454877360000', 'uuid': '9a86dadd-ebf6-34c0-85db-fe13d770dad0', 'type': 'WEATHERHAZARD', 'magvar': '69', 'startTimeMillis': '1454877300000', 'subtype': 'HAZARD_ON_ROAD_CAR_STOPPED', 'roadType': '6', 'street': 'Commonwealth Ave', 'startTime': '2016-02-07 20:35:00.000', 'country': 'US', 'locx': '-71.084192', 'locy': '42.350065', 'reliability': '7', 'reportRating': '1', 'pubMillis': '1454875743415', '\\xef\\xbb\\xbfinject_date': '2016-02-07 20:40:01.000'}\n"
     ]
    }
   ],
   "source": [
    "with open(data_folder + 'raw_data/waze_alerts.csv', 'rb') as csvfile:\n",
    "    reader = csv.DictReader(csvfile)\n",
    "    i = 0\n",
    "    for row in reader:\n",
    "        print(row.keys())\n",
    "        print(row['uuid'], row['street'], row['locx'], row['locy'], row['type'], \\\n",
    "              row['startTime'], row['endTime'], row['\\xef\\xbb\\xbfinject_date'])\n",
    "        print(row)\n",
    "        i += 1\n",
    "        if i > 0:\n",
    "            break"
   ]
  },
  {
   "cell_type": "code",
   "execution_count": null,
   "metadata": {
    "collapsed": true
   },
   "outputs": [],
   "source": []
  }
 ],
 "metadata": {
  "kernelspec": {
   "display_name": "Python 2",
   "language": "python",
   "name": "python2"
  },
  "language_info": {
   "codemirror_mode": {
    "name": "ipython",
    "version": 2
   },
   "file_extension": ".py",
   "mimetype": "text/x-python",
   "name": "python",
   "nbconvert_exporter": "python",
   "pygments_lexer": "ipython2",
   "version": "2.7.11"
  }
 },
 "nbformat": 4,
 "nbformat_minor": 0
}
