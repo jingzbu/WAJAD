{
 "cells": [
  {
   "cell_type": "code",
   "execution_count": 1,
   "metadata": {
    "collapsed": true
   },
   "outputs": [],
   "source": [
    "data_folder = '/home/jzh/Waze/'"
   ]
  },
  {
   "cell_type": "code",
   "execution_count": 2,
   "metadata": {
    "collapsed": true
   },
   "outputs": [],
   "source": [
    "import csv"
   ]
  },
  {
   "cell_type": "code",
   "execution_count": 4,
   "metadata": {
    "collapsed": false
   },
   "outputs": [
    {
     "name": "stdout",
     "output_type": "stream",
     "text": [
      "('9a86dadd-ebf6-34c0-85db-fe13d770dad0', 'Commonwealth Ave', '-71.084192', '42.350065', 'WEATHERHAZARD', '2016-02-07 20:35:00.000', '2016-02-07 20:36:00.000', '2016-02-07 20:40:01.000')\n",
      "('00751e34-fc43-3e2d-bb61-eb437039ba1f', 'Cambridge St', '-71.131365', '42.356099', 'WEATHERHAZARD', '2016-02-07 20:35:00.000', '2016-02-07 20:36:00.000', '2016-02-07 20:40:01.000')\n",
      "('a90db0a0-50cd-3c2a-bf10-e0a0d19d2abb', 'Charles St', '-71.068589', '42.354682', 'WEATHERHAZARD', '2016-02-07 20:35:00.000', '2016-02-07 20:36:00.000', '2016-02-07 20:40:01.000')\n",
      "('df31b80e-76bf-3fc4-a4a1-d919b73b11a2', 'Commonwealth Ave', '-71.104176', '42.349821', 'WEATHERHAZARD', '2016-02-07 20:35:00.000', '2016-02-07 20:36:00.000', '2016-02-07 20:40:01.000')\n",
      "('6fec1350-48d3-35f0-87a4-fc805adf37a9', 'Jamaicaway', '-71.116486', '42.318471', 'JAM', '2016-02-07 20:35:00.000', '2016-02-07 20:36:00.000', '2016-02-07 20:40:01.000')\n",
      "('c6a23f3a-a5f3-3740-b8ed-a2ffb93139c3', 'Harvard Ave', '-71.131271', '42.350854', 'JAM', '2016-02-07 20:35:00.000', '2016-02-07 20:36:00.000', '2016-02-07 20:40:01.000')\n"
     ]
    }
   ],
   "source": [
    "with open(data_folder + '/waze_alerts.csv', 'rb') as csvfile:\n",
    "    reader = csv.DictReader(csvfile)\n",
    "    i = 0\n",
    "    for row in reader:\n",
    "        # print(row.keys())\n",
    "        print(row['uuid'], row['street'], row['locx'], row['locy'], row['type'], \\\n",
    "              row['startTime'], row['endTime'], row['\\xef\\xbb\\xbfinject_date'])\n",
    "        i += 1\n",
    "        if i > 5:\n",
    "            break"
   ]
  }
 ],
 "metadata": {
  "kernelspec": {
   "display_name": "Python 2",
   "language": "python",
   "name": "python2"
  },
  "language_info": {
   "codemirror_mode": {
    "name": "ipython",
    "version": 2
   },
   "file_extension": ".py",
   "mimetype": "text/x-python",
   "name": "python",
   "nbconvert_exporter": "python",
   "pygments_lexer": "ipython2",
   "version": "2.7.11"
  }
 },
 "nbformat": 4,
 "nbformat_minor": 0
}
