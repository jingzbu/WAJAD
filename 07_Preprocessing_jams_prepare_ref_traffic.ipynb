{
 "cells": [
  {
   "cell_type": "code",
   "execution_count": 1,
   "metadata": {
    "collapsed": false
   },
   "outputs": [
    {
     "name": "stderr",
     "output_type": "stream",
     "text": [
      "/home/jzh/anaconda2/lib/python2.7/site-packages/matplotlib/font_manager.py:273: UserWarning: Matplotlib is building the font cache using fc-list. This may take a moment.\n",
      "  warnings.warn('Matplotlib is building the font cache using fc-list. This may take a moment.')\n"
     ]
    }
   ],
   "source": [
    "%run util.py"
   ]
  },
  {
   "cell_type": "code",
   "execution_count": 2,
   "metadata": {
    "collapsed": true
   },
   "outputs": [],
   "source": [
    "data_folder = '/home/jzh/Waze/'"
   ]
  },
  {
   "cell_type": "code",
   "execution_count": 3,
   "metadata": {
    "collapsed": true
   },
   "outputs": [],
   "source": [
    "import csv\n",
    "import json"
   ]
  },
  {
   "cell_type": "code",
   "execution_count": 4,
   "metadata": {
    "collapsed": true
   },
   "outputs": [],
   "source": [
    "# Loading JSON data\n",
    "with open(data_folder + 'points_dict_Jan16_present.json', 'r') as json_file:\n",
    "    points_dict = json.load(json_file)"
   ]
  },
  {
   "cell_type": "markdown",
   "metadata": {},
   "source": [
    "### Extract jam data for a typical workday, say, March 15, 2016 (Tuesday)\n",
    "The features we are going to use are: \n",
    "(longitude, latitude), numPts, speed, length, startTime.\n",
    "\n",
    "Note that \"(longitude, latitude), numPts\" are from the points data.\n",
    "\n",
    "Convert \"startTime\" to seconds, discarding the date stamp."
   ]
  },
  {
   "cell_type": "code",
   "execution_count": 5,
   "metadata": {
    "collapsed": false
   },
   "outputs": [
    {
     "name": "stdout",
     "output_type": "stream",
     "text": [
      "3388\n"
     ]
    }
   ],
   "source": [
    "from geopy.distance import vincenty\n",
    "\n",
    "##### cf. http://www.latlong.net/\n",
    "BU = (42.351848, -71.110730)\n",
    "\n",
    "with open(data_folder + 'raw_data/waze_jams.csv', 'rb') as csvfile:\n",
    "    reader = csv.DictReader(csvfile)\n",
    "    i = 0\n",
    "    jam_ref_data = {}\n",
    "    \n",
    "    for row in reader:\n",
    "#         print(row.keys())\n",
    "        # print(row['street'])\n",
    "        if ('2016-03-15' in row['startTime']):\n",
    "            pt = (points_dict[row['uuid']][0][0][1], points_dict[row['uuid']][0][0][0])\n",
    "            # If the number of points in a jam is less than 15, we roughly take this jam as \"normal\"\n",
    "            if (vincenty(BU, pt).meters < 3e3 and points_dict[row['uuid']][1] < 15):\n",
    "                key = str(i)\n",
    "                data = {'uuid': row['uuid'],\n",
    "                        'longitude_latitude': points_dict[row['uuid']][0],\n",
    "                        'numPts': points_dict[row['uuid']][1], \n",
    "                        'speed': float(row['speed']), \n",
    "                        'length': float(row['Length']), \n",
    "                        'startTime': convStartTimeToSec(row['startTime'])}\n",
    "                jam_ref_data[key] = data\n",
    "                i += 1\n",
    "print(i)"
   ]
  },
  {
   "cell_type": "code",
   "execution_count": 6,
   "metadata": {
    "collapsed": false
   },
   "outputs": [],
   "source": [
    "# Writing JSON data\n",
    "with open(data_folder + 'jam_ref_data.json', 'w') as json_file:\n",
    "    json.dump(jam_ref_data, json_file)"
   ]
  },
  {
   "cell_type": "code",
   "execution_count": null,
   "metadata": {
    "collapsed": true
   },
   "outputs": [],
   "source": []
  }
 ],
 "metadata": {
  "kernelspec": {
   "display_name": "Python 2",
   "language": "python",
   "name": "python2"
  },
  "language_info": {
   "codemirror_mode": {
    "name": "ipython",
    "version": 2
   },
   "file_extension": ".py",
   "mimetype": "text/x-python",
   "name": "python",
   "nbconvert_exporter": "python",
   "pygments_lexer": "ipython2",
   "version": "2.7.11"
  }
 },
 "nbformat": 4,
 "nbformat_minor": 0
}
